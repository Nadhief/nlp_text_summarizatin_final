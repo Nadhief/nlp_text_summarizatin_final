{
 "cells": [
  {
   "cell_type": "code",
   "execution_count": 3,
   "metadata": {},
   "outputs": [
    {
     "name": "stderr",
     "output_type": "stream",
     "text": [
      "c:\\Users\\ASUS\\AppData\\Local\\Programs\\Python\\Python310\\lib\\site-packages\\torchvision\\io\\image.py:13: UserWarning: Failed to load image Python extension: Could not find module 'C:\\Users\\ASUS\\AppData\\Local\\Programs\\Python\\Python310\\Lib\\site-packages\\torchvision\\image.pyd' (or one of its dependencies). Try using the full path with constructor syntax.\n",
      "  warn(f\"Failed to load image Python extension: {e}\")\n",
      "The argument `trust_remote_code` is to be used with Auto classes. It has no effect here and is ignored.\n",
      "Loading checkpoint shards: 100%|██████████| 2/2 [00:00<00:00,  6.14it/s]\n",
      "WARNING:root:Some parameters are on the meta device device because they were offloaded to the disk and cpu.\n",
      "The attention mask is not set and cannot be inferred from input because pad token is same as eos token. As a consequence, you may observe unexpected behavior. Please pass your input's `attention_mask` to obtain reliable results.\n",
      "You are not running the flash-attention implementation, expect numerical differences.\n"
     ]
    },
    {
     "data": {
      "text/plain": [
       "'This is an example script .\\n\\n#!/bin/bash\\n\\n# This script will create a new user with a home directory and a custom'"
      ]
     },
     "execution_count": 3,
     "metadata": {},
     "output_type": "execute_result"
    }
   ],
   "source": [
    "from transformers import AutoTokenizer, Phi3ForCausalLM\n",
    "import torch\n",
    "checkpoint = \"microsoft/Phi-3.5-mini-instruct\"\n",
    "tokenizer = AutoTokenizer.from_pretrained(checkpoint, trust_remote_code=True)\n",
    "model = Phi3ForCausalLM.from_pretrained(\n",
    "    checkpoint,\n",
    "    torch_dtype=torch.bfloat16,  # Use bfloat16 for memory efficiency\n",
    "    trust_remote_code=True,\n",
    "    device_map=\"auto\"  # Automatically map the model to available GPUs\n",
    ")\n",
    "\n",
    "prompt = \"This is an example script .\"\n",
    "inputs = tokenizer(prompt, return_tensors=\"pt\")\n",
    "\n",
    "# Generate\n",
    "generate_ids = model.generate(inputs.input_ids, max_length=30)\n",
    "tokenizer.batch_decode(generate_ids, skip_special_tokens=True, clean_up_tokenization_spaces=False)[0]"
   ]
  },
  {
   "cell_type": "code",
   "execution_count": 4,
   "metadata": {},
   "outputs": [],
   "source": [
    "from datasets import load_dataset"
   ]
  },
  {
   "cell_type": "code",
   "execution_count": 5,
   "metadata": {},
   "outputs": [
    {
     "name": "stdout",
     "output_type": "stream",
     "text": [
      "Dataset loaded: DatasetDict({\n",
      "    train: Dataset({\n",
      "        features: ['document', 'id', 'summary'],\n",
      "        num_rows: 193883\n",
      "    })\n",
      "    test: Dataset({\n",
      "        features: ['document', 'id', 'summary'],\n",
      "        num_rows: 10972\n",
      "    })\n",
      "    validation: Dataset({\n",
      "        features: ['document', 'id', 'summary'],\n",
      "        num_rows: 10972\n",
      "    })\n",
      "})\n"
     ]
    }
   ],
   "source": [
    "\n",
    "# 1. Memuat Dataset\n",
    "dataset = load_dataset(\"SEACrowd/liputan6\")\n",
    "print(\"Dataset loaded:\", dataset)\n"
   ]
  },
  {
   "cell_type": "code",
   "execution_count": 6,
   "metadata": {},
   "outputs": [],
   "source": [
    "\n",
    "# Mengambil sampel artikel dari dataset\n",
    "sample_article = dataset[\"train\"][0][\"document\"]\n",
    "sample_summary = dataset[\"train\"][0][\"summary\"]\n",
    "sample_article1 = dataset[\"train\"][1][\"document\"]\n",
    "sample_summary1 = dataset[\"train\"][1][\"summary\"]\n",
    "\n"
   ]
  },
  {
   "cell_type": "code",
   "execution_count": 17,
   "metadata": {},
   "outputs": [
    {
     "name": "stdout",
     "output_type": "stream",
     "text": [
      "New Article:\n",
      " Liputan6 . com , Bandar Lampung : Sebanyak 51 anak di bawah umur lima tahun terserang busung lapar atau marasmus karena kekurangan gizi di Kota Madya Bandar Lampung . Lima di antaranya tewas . Data tersebut diungkapkan Kepala Dinas Kesehatan Kota Bandar Lampung M . Sudarman , baru-baru ini . Menurut Sudarman , Dinas Kesehatan Bandar Lampung mencatat sekitar 51 anak terserang busung lapar yang tersebar di beberapa kecamatan , selama periode 1999 sampai 2001 . Kebanyakan anak penderita busung tersebut berasal dari keluarga yang hidup di bawah garis kemiskinan . Selain kekurangan gizi , komplikasi radang paru-paru juga menjadi satu faktor penyebab kematian anak penderita busung lapar tersebut . Data Dinas Kesehatan menunjukkan pada 1999 , ditemukan 41 anak terserang penyakit busung lapar . Sebagian besar penderita berdomisili di kampung miskin Umbul Kunci . Jumlah penderita busung lapar menurun pada 2000 , yakni hanya sembilan anak . Sedangkan September 2001 , seorang anak meninggal karena marasmus . Sudarman menegaskan , untuk menekan jumlah korban marasmus , anak-anak dan balita diberi makanan tambahan ke sentra-sentra rawan busung lapar seperti di Desa Umbul Unci . Tetapi , berdasarkan keterangan masyarakat Umbul Kunci , program makanan tambahan ini hanya berjalan setahun yakni pada 1999 . Warga setempat mengaku tak pernah lagi menerima makanan tambahan bagi anak-anak kurang gizi sejak dua tahun terakhir . ( TNA/Bisri Merduani ) .\n",
      "\n",
      "Generated Summary:\n",
      " \n",
      "Below is an example of summarization:\n",
      "Article: TIGA kali somasi dilayangkan kepada Nuri Shaden . Namun reaksi yang diharapkan agar meminta maaf hasilnya nihil . Keluarga Janu Utomo melaporkan kasus kecelakaan di Jalan Sisingamaraja , Jakarta Selatan , 1 Juni silam itu ke Kepolisian Resor Metro Jaksel . \" Kita melaporkan atas dugaan tindak pidana , \" tutur Taufik Basari , kuasa hukum keluarga Janu , belum lama ini . Taufik menambahkan , pihaknya ingin Nuri mencabut pernyataan di depan pers , 2 Juni silam . Ia juga ingin Nuri meminta maaf di media atas kejadian itu . Dan juga menyampaikan belasungkawa . Taufik menilai , pernyataan Nuri memutarbalikkan fakta . \" Yang kita adukan soal pernyataan-pernyataannya , \" ujar dia . Keluarga Janu melaporkan dengan dua tuduhan . Yakni sikap yang tidak menyenangkan dan pencemaran nama baik . Kala itu Nuri menuding mobil ambulans yang menabrak kendaraannya . \" Intinya mereka menabrak kita , \" ucap Nuri saat jumpa pers waktu itu . Pernyataan disampaikan bintang film Seventeen didampingi Noni T , pengacaranya . Ia menyalahkan Januari Purwoko , sopir ambulans . Padahal Januari sudah mengklakson mobil Honda Jazz yang ditumpangi Nuri . Tabrakan pun terhindarkan . Ambulans rusak di bagian kanan dan as roda belakang patah . Tabrakan mobil ambulans dan Honda Jazz yang dikendarai Nuri merenggut nyawa Janu Utomo . Sedangkan Januari Purwoko , sopir ambulans cedera parah . Tiga lainnya di mobil ambulans luka ringan . Yakni istri Janu , Retno Indarti , Krisanti Indriani , dan perawat Risa Citra Dewi . Kala itu keluarga mengantarkan Janu hendak mencuci darah . Soal ini kubu Nuri membantah . Noni mengatakan Janu meninggal karena penyakit jantung yang dideritanya . ( As ) .\n",
      "Summary: TIGA kali somasi dilayangkan kepada Nuri Shaden . Namun reaksi yang diharapkan agar meminta maaf hasilnya nihil . Keluarga Janu Utomo pun melaporkan Nuri ke Kepolisian Resor Metro Jakarta Selatan .\n",
      "\n",
      "Now, summarize the following article:\n",
      "Article: Liputan6 . com , Bandar Lampung : Sebanyak 51 anak di bawah umur lima tahun terserang busung lapar atau marasmus karena kekurangan gizi di Kota Madya Bandar Lampung . Lima di antaranya tewas . Data tersebut diungkapkan Kepala Dinas Kesehatan Kota Bandar Lampung M . Sudarman , baru-baru ini . Menurut Sudarman , Dinas Kesehatan Bandar Lampung mencatat sekitar 51 anak terserang busung lapar yang tersebar di beberapa kecamatan , selama periode 1999 sampai 2001 . Kebanyakan anak penderita busung tersebut berasal dari keluarga yang hidup di bawah garis kemiskinan . Selain kekurangan gizi , komplikasi radang paru-paru juga menjadi satu faktor penyebab kematian anak penderita busung lapar tersebut . Data Dinas Kesehatan menunjukkan pada 1999 , ditemukan 41 anak terserang penyakit busung lapar . Sebagian besar penderita berdomisili di kampung miskin Umbul Kunci . Jumlah penderita busung lapar menurun pada 2000 , yakni hanya sembilan anak . Sedangkan September 2001 , seorang anak meninggal karena marasmus . Sudarman menegaskan , untuk menekan jumlah korban marasmus , anak-anak dan balita diberi makanan tambahan ke sentra-sentra rawan busung lapar seperti di Desa Umbul Unci . Tetapi , berdasarkan keterangan masyarakat Umbul Kunci , program makanan tambahan ini hanya berjalan setahun yakni pada 1999 . Warga setempat mengaku tak pernah lagi menerima makanan tambahan bagi anak-anak kurang gizi sejak dua tahun terakhir . ( TNA/Bisri Merduani ) .\n",
      "Summary: Kepala Dinas Kesehatan Kota Bandar Lampung mencatat sekitar 51 anak di bawah umur lima tahun terserang busung lapar di Kota Madya Bandar Lampung selama periode 1999 sampai 2001 .\n",
      "\n",
      "Summary: 51 anak di bawah umur lima tahun terserang busung lapar di Kota Madya Bandar Lampung selama periode 1999-2001.\n",
      "\n",
      "\n"
     ]
    }
   ],
   "source": [
    "# ini one shot\n",
    "# Artikel baru yang akan diringkas\n",
    "new_article = dataset[\"test\"][1][\"document\"]\n",
    "\n",
    "# 3. Membuat One-Shot Prompt\n",
    "prompt = f\"\"\"\n",
    "Below is an example of summarization:\n",
    "Article: {sample_article}\n",
    "Summary: {sample_summary}\n",
    "\n",
    "Now, summarize the following article:\n",
    "Article: {new_article}\n",
    "Summary:\"\"\"\n",
    "\n",
    "# 4. Tokenisasi dan Inference\n",
    "inputs = tokenizer(prompt, return_tensors=\"pt\")\n",
    "generate_ids = model.generate(inputs.input_ids, max_new_tokens=200, num_beams=5, early_stopping=True)\n",
    "generated_summary = tokenizer.batch_decode(generate_ids, skip_special_tokens=True, clean_up_tokenization_spaces=False)[0]\n",
    "\n",
    "# 5. Menampilkan Hasil\n",
    "print(\"New Article:\\n\", new_article)\n",
    "print(\"\\nGenerated Summary:\\n\", generated_summary)\n"
   ]
  },
  {
   "cell_type": "code",
   "execution_count": 5,
   "metadata": {},
   "outputs": [
    {
     "name": "stdout",
     "output_type": "stream",
     "text": [
      "New Article:\n",
      " Liputan6 . com , Bandar Lampung : Sebanyak 51 anak di bawah umur lima tahun terserang busung lapar atau marasmus karena kekurangan gizi di Kota Madya Bandar Lampung . Lima di antaranya tewas . Data tersebut diungkapkan Kepala Dinas Kesehatan Kota Bandar Lampung M . Sudarman , baru-baru ini . Menurut Sudarman , Dinas Kesehatan Bandar Lampung mencatat sekitar 51 anak terserang busung lapar yang tersebar di beberapa kecamatan , selama periode 1999 sampai 2001 . Kebanyakan anak penderita busung tersebut berasal dari keluarga yang hidup di bawah garis kemiskinan . Selain kekurangan gizi , komplikasi radang paru-paru juga menjadi satu faktor penyebab kematian anak penderita busung lapar tersebut . Data Dinas Kesehatan menunjukkan pada 1999 , ditemukan 41 anak terserang penyakit busung lapar . Sebagian besar penderita berdomisili di kampung miskin Umbul Kunci . Jumlah penderita busung lapar menurun pada 2000 , yakni hanya sembilan anak . Sedangkan September 2001 , seorang anak meninggal karena marasmus . Sudarman menegaskan , untuk menekan jumlah korban marasmus , anak-anak dan balita diberi makanan tambahan ke sentra-sentra rawan busung lapar seperti di Desa Umbul Unci . Tetapi , berdasarkan keterangan masyarakat Umbul Kunci , program makanan tambahan ini hanya berjalan setahun yakni pada 1999 . Warga setempat mengaku tak pernah lagi menerima makanan tambahan bagi anak-anak kurang gizi sejak dua tahun terakhir . ( TNA/Bisri Merduani ) .\n",
      "\n",
      "Generated Summary:\n",
      " \n",
      "Below is an example of summarization:\n",
      "Article: TIGA kali somasi dilayangkan kepada Nuri Shaden . Namun reaksi yang diharapkan agar meminta maaf hasilnya nihil . Keluarga Janu Utomo melaporkan kasus kecelakaan di Jalan Sisingamaraja , Jakarta Selatan , 1 Juni silam itu ke Kepolisian Resor Metro Jaksel . \" Kita melaporkan atas dugaan tindak pidana , \" tutur Taufik Basari , kuasa hukum keluarga Janu , belum lama ini . Taufik menambahkan , pihaknya ingin Nuri mencabut pernyataan di depan pers , 2 Juni silam . Ia juga ingin Nuri meminta maaf di media atas kejadian itu . Dan juga menyampaikan belasungkawa . Taufik menilai , pernyataan Nuri memutarbalikkan fakta . \" Yang kita adukan soal pernyataan-pernyataannya , \" ujar dia . Keluarga Janu melaporkan dengan dua tuduhan . Yakni sikap yang tidak menyenangkan dan pencemaran nama baik . Kala itu Nuri menuding mobil ambulans yang menabrak kendaraannya . \" Intinya mereka menabrak kita , \" ucap Nuri saat jumpa pers waktu itu . Pernyataan disampaikan bintang film Seventeen didampingi Noni T , pengacaranya . Ia menyalahkan Januari Purwoko , sopir ambulans . Padahal Januari sudah mengklakson mobil Honda Jazz yang ditumpangi Nuri . Tabrakan pun terhindarkan . Ambulans rusak di bagian kanan dan as roda belakang patah . Tabrakan mobil ambulans dan Honda Jazz yang dikendarai Nuri merenggut nyawa Janu Utomo . Sedangkan Januari Purwoko , sopir ambulans cedera parah . Tiga lainnya di mobil ambulans luka ringan . Yakni istri Janu , Retno Indarti , Krisanti Indriani , dan perawat Risa Citra Dewi . Kala itu keluarga mengantarkan Janu hendak mencuci darah . Soal ini kubu Nuri membantah . Noni mengatakan Janu meninggal karena penyakit jantung yang dideritanya . ( As ) .\n",
      "Summary: TIGA kali somasi dilayangkan kepada Nuri Shaden . Namun reaksi yang diharapkan agar meminta maaf hasilnya nihil . Keluarga Janu Utomo pun melaporkan Nuri ke Kepolisian Resor Metro Jakarta Selatan .\n",
      "Article: Liputan6 . com , Jakarta : Earth Wind and Fire Experience Worldwide Tour 2006 Featuring Al Mckay All Star sukses memuaskan penikmat jazz yang memadati Grand Melia , Jakarta Selatan , Rabu ( 1/2 ) malam . Pertunjukan ini adalah penampilan kedua dari rangkaian tur grup asal Chicago , Amerika Serikat itu di enam kota besar di Indonesia . Setelah Jakarta dan Bandung , mereka siap menggoyang Semarang , Yogyakarta , Surabaya , dan Medan . Tembang Serpentine Fire menjadi lagu pembuka Earth Wind and Fire . Dengan energik , trio vokal Tim Owens , Claude Woods , dan Devere Duckett berhasil memukau penonton . Diiringi Al Mckay All Star , mereka terus mendendangkan hits andalan , antara lain Pride dan Gotta Get You Into My Life . Meski Earth Wind and Fire terbilang grup lawas , tembang mereka tetap digemari . Buktinya 1 . 500 tiket yang disediakan untuk Jakarta ludes terjual . ( KEN/Teguh Dwi Hartono ) .\n",
      "Summary: Setelah di Bandung , Earth Wind and Fire giliran menghibur penikmat jazz di Jakarta , tadi malam . Lagu-lagu andalan grup asal Chicago itu mampu menyihir penonton sampai detik terakhir pertunjukan .\n",
      "\n",
      "Now, summarize the following article:\n",
      "Article: Liputan6 . com , Bandar Lampung : Sebanyak 51 anak di bawah umur lima tahun terserang busung lapar atau marasmus karena kekurangan gizi di Kota Madya Bandar Lampung . Lima di antaranya tewas . Data tersebut diungkapkan Kepala Dinas Kesehatan Kota Bandar Lampung M . Sudarman , baru-baru ini . Menurut Sudarman , Dinas Kesehatan Bandar Lampung mencatat sekitar 51 anak terserang busung lapar yang tersebar di beberapa kecamatan , selama periode 1999 sampai 2001 . Kebanyakan anak penderita busung tersebut berasal dari keluarga yang hidup di bawah garis kemiskinan . Selain kekurangan gizi , komplikasi radang paru-paru juga menjadi satu faktor penyebab kematian anak penderita busung lapar tersebut . Data Dinas Kesehatan menunjukkan pada 1999 , ditemukan 41 anak terserang penyakit busung lapar . Sebagian besar penderita berdomisili di kampung miskin Umbul Kunci . Jumlah penderita busung lapar menurun pada 2000 , yakni hanya sembilan anak . Sedangkan September 2001 , seorang anak meninggal karena marasmus . Sudarman menegaskan , untuk menekan jumlah korban marasmus , anak-anak dan balita diberi makanan tambahan ke sentra-sentra rawan busung lapar seperti di Desa Umbul Unci . Tetapi , berdasarkan keterangan masyarakat Umbul Kunci , program makanan tambahan ini hanya berjalan setahun yakni pada 1999 . Warga setempat mengaku tak pernah lagi menerima makanan tambahan bagi anak-anak kurang gizi sejak dua tahun terakhir . ( TNA/Bisri Merduani ) .\n",
      "Summary: Kepala Dinas Kesehatan Kota Bandar Lampung mencatat sekitar 51 anak di bawah umur lima tahun terserang busung lapar di Kota Madya Bandar Lampung , selama periode 1999 sampai 2001 .\n",
      "\n",
      "Summary: 51 anak di bawah umur lima tahun terserang busung lapar di Kota Madya Bandar Lampung, 1999-2001.\n",
      "\n",
      "\n"
     ]
    }
   ],
   "source": [
    "# ini few shot\n",
    "# Artikel baru yang akan diringkas\n",
    "new_article = dataset[\"test\"][1][\"document\"]\n",
    "\n",
    "# 3. Membuat One-Shot Prompt\n",
    "prompt = f\"\"\"\n",
    "Below is an example of summarization:\n",
    "Article: {sample_article}\n",
    "Summary: {sample_summary}\n",
    "Article: {sample_article1}\n",
    "Summary: {sample_summary1}\n",
    "\n",
    "Now, summarize the following article:\n",
    "Article: {new_article}\n",
    "Summary:\"\"\"\n",
    "\n",
    "# 4. Tokenisasi dan Inference\n",
    "inputs = tokenizer(prompt, return_tensors=\"pt\")\n",
    "generate_ids = model.generate(inputs.input_ids, max_new_tokens=200, num_beams=5, early_stopping=True)\n",
    "generated_summary_few_shot = tokenizer.batch_decode(generate_ids, skip_special_tokens=True, clean_up_tokenization_spaces=False)[0]\n",
    "\n",
    "# 5. Menampilkan Hasil\n",
    "print(\"New Article:\\n\", new_article)\n",
    "print(\"\\nGenerated Summary:\\n\", generated_summary_few_shot)\n"
   ]
  },
  {
   "cell_type": "code",
   "execution_count": 8,
   "metadata": {},
   "outputs": [
    {
     "name": "stderr",
     "output_type": "stream",
     "text": [
      "[nltk_data] Downloading package punkt_tab to\n",
      "[nltk_data]     C:\\Users\\ASUS\\AppData\\Roaming\\nltk_data...\n",
      "[nltk_data]   Package punkt_tab is already up-to-date!\n"
     ]
    },
    {
     "data": {
      "text/plain": [
       "True"
      ]
     },
     "execution_count": 8,
     "metadata": {},
     "output_type": "execute_result"
    }
   ],
   "source": [
    "from nltk.translate.bleu_score import sentence_bleu, SmoothingFunction\n",
    "import nltk\n",
    "nltk.download('punkt_tab')"
   ]
  },
  {
   "cell_type": "code",
   "execution_count": 23,
   "metadata": {},
   "outputs": [],
   "source": [
    "# 5. Menghitung BLEU Score\n",
    "reference_summary = dataset[\"test\"][1][\"summary\"]\n",
    "def calculate_bleu_score(reference, candidate):\n",
    "    # Tokenisasi menggunakan nltk\n",
    "    reference_tokens = nltk.word_tokenize(reference.lower())\n",
    "    candidate_tokens = nltk.word_tokenize(candidate.lower())\n",
    "    # Menggunakan smoothing untuk menangani n-gram yang hilang\n",
    "    smoothing = SmoothingFunction().method4\n",
    "    return sentence_bleu([reference_tokens], candidate_tokens, smoothing_function=smoothing)\n",
    "\n",
    "bleu_score = calculate_bleu_score(reference_summary, generated_summary)\n",
    "# bleu_score_few_shot = calculate_bleu_score(reference_summary, generated_summary_few_shot)"
   ]
  },
  {
   "cell_type": "code",
   "execution_count": 24,
   "metadata": {},
   "outputs": [
    {
     "name": "stdout",
     "output_type": "stream",
     "text": [
      "\n",
      "BLEU Score one shot: 0.0210\n"
     ]
    }
   ],
   "source": [
    "print(f\"\\nBLEU Score one shot: {bleu_score:.4f}\")\n",
    "# print(f\"\\nBLEU Score few shot: {bleu_score_few_shot:.4f}\")"
   ]
  },
  {
   "cell_type": "code",
   "execution_count": 13,
   "metadata": {},
   "outputs": [],
   "source": [
    "=================================================================================================================================="
   ]
  },
  {
   "cell_type": "code",
   "execution_count": 19,
   "metadata": {},
   "outputs": [],
   "source": [
    "import random\n",
    "test_samples = 10\n",
    "new_article = dataset[\"test\"][1][\"document\"]\n",
    "# 5. Menghitung BLEU Score untuk 100 Sampel\n",
    "bleu_scores = []\n",
    "sample_results = []\n",
    "\n",
    "for idx in range(test_samples):\n",
    "    # Ambil artikel dan ringkasan referensi\n",
    "    article = dataset[\"test\"][idx][\"document\"]\n",
    "    reference_summary = dataset[\"test\"][idx][\"summary\"]\n",
    "\n",
    "    # Membuat prompt untuk one-shot\n",
    "    prompt = f\"\"\"\n",
    "            Below is an example of summarization:\n",
    "            Article: {sample_article}\n",
    "            Summary: {sample_summary}\n",
    "\n",
    "            Now, summarize the following article:\n",
    "            Article: {new_article}\n",
    "            Summary:\"\"\"\n",
    "\n",
    "    # Tokenisasi dan inference\n",
    "    inputs = tokenizer(prompt, return_tensors=\"pt\", truncation=True, padding=True, max_length=1024)\n",
    "    generate_ids = model.generate(inputs.input_ids, max_new_tokens=500, num_beams=5, early_stopping=True)\n",
    "    generated_summary = tokenizer.batch_decode(generate_ids, skip_special_tokens=True, clean_up_tokenization_spaces=False)[0]\n"
   ]
  },
  {
   "cell_type": "code",
   "execution_count": 28,
   "metadata": {},
   "outputs": [],
   "source": [
    "\n",
    "    # Menghitung BLEU score\n",
    "    bleu_score = calculate_bleu_score(reference_summary, generated_summary)\n",
    "\n",
    "    # Simpan hasil\n",
    "    bleu_scores.append(bleu_score)\n",
    "    sample_results.append({\n",
    "        \"article\": article,\n",
    "        \"reference_summary\": reference_summary,\n",
    "        \"generated_summary\": generated_summary,\n",
    "        \"bleu_score\": bleu_score\n",
    "    })\n"
   ]
  },
  {
   "cell_type": "code",
   "execution_count": 33,
   "metadata": {},
   "outputs": [
    {
     "name": "stdout",
     "output_type": "stream",
     "text": [
      "\n",
      "Average BLEU Score for 10 samples: 0.0210\n",
      "\n"
     ]
    }
   ],
   "source": [
    "# Menampilkan rata-rata BLEU Score\n",
    "print(f\"\\nAverage BLEU Score for 10 samples: {bleu_score:.4f}\\n\")\n",
    "\n"
   ]
  },
  {
   "cell_type": "code",
   "execution_count": 30,
   "metadata": {},
   "outputs": [],
   "source": [
    "import random\n",
    "test_samples = 10\n",
    "# 5. Menghitung BLEU Score untuk 100 Sampel\n",
    "bleu_scores_few_shot = []\n",
    "sample_results = []\n",
    "\n",
    "for idx in range(test_samples):\n",
    "    # Ambil artikel dan ringkasan referensi\n",
    "    article = dataset[\"test\"][idx][\"document\"]\n",
    "    reference_summary = dataset[\"test\"][idx][\"summary\"]\n",
    "\n",
    "    # Membuat prompt untuk one-shot\n",
    "    prompt = f\"\"\"\n",
    "            Below is an example of summarization:\n",
    "            Article: {sample_article}\n",
    "            Summary: {sample_summary}\n",
    "            Article: {sample_article1}\n",
    "            Summary: {sample_summary1}\n",
    "\n",
    "            Now, summarize the following article:\n",
    "            Article: {new_article}\n",
    "            Summary:\"\"\"\n",
    "\n",
    "    # Tokenisasi dan inference\n",
    "    inputs = tokenizer(prompt, return_tensors=\"pt\", truncation=True, padding=True, max_length=1024)\n",
    "    generate_ids = model.generate(inputs.input_ids, max_new_tokens=500, num_beams=5, early_stopping=True)\n",
    "    generated_summary_few_shot = tokenizer.batch_decode(generate_ids, skip_special_tokens=True, clean_up_tokenization_spaces=False)[0]\n",
    "\n",
    "    # Menghitung BLEU score\n",
    "    bleu_score_few_shot = calculate_bleu_score(reference_summary, generated_summary_few_shot)\n",
    "\n",
    "    # Simpan hasil\n",
    "    bleu_scores_few_shot.append(bleu_score_few_shot)\n",
    "    sample_results.append({\n",
    "        \"article\": article,\n",
    "        \"reference_summary\": reference_summary,\n",
    "        \"generated_summary_few_shot\": generated_summary_few_shot,\n",
    "        \"bleu_score\": bleu_score\n",
    "    })\n",
    "    \n"
   ]
  },
  {
   "cell_type": "code",
   "execution_count": 32,
   "metadata": {},
   "outputs": [
    {
     "name": "stdout",
     "output_type": "stream",
     "text": [
      "\n",
      "Average BLEU Score for 10 samples: 0.0037\n",
      "\n"
     ]
    }
   ],
   "source": [
    "# Menampilkan rata-rata BLEU Score\n",
    "print(f\"\\nAverage BLEU Score for 10 samples: {bleu_score_few_shot:.4f}\\n\")\n",
    "\n"
   ]
  }
 ],
 "metadata": {
  "kernelspec": {
   "display_name": "base",
   "language": "python",
   "name": "python3"
  },
  "language_info": {
   "codemirror_mode": {
    "name": "ipython",
    "version": 3
   },
   "file_extension": ".py",
   "mimetype": "text/x-python",
   "name": "python",
   "nbconvert_exporter": "python",
   "pygments_lexer": "ipython3",
   "version": "3.9.12"
  }
 },
 "nbformat": 4,
 "nbformat_minor": 2
}
