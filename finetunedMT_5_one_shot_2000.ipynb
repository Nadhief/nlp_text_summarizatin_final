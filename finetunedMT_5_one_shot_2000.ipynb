{
  "nbformat": 4,
  "nbformat_minor": 0,
  "metadata": {
    "colab": {
      "provenance": [],
      "gpuType": "T4"
    },
    "kernelspec": {
      "name": "python3",
      "display_name": "Python 3"
    },
    "language_info": {
      "name": "python"
    },
    "accelerator": "GPU",
    "widgets": {
      "application/vnd.jupyter.widget-state+json": {
        "30b92805d5734f0592964dfc69c8440a": {
          "model_module": "@jupyter-widgets/controls",
          "model_name": "HBoxModel",
          "model_module_version": "1.5.0",
          "state": {
            "_dom_classes": [],
            "_model_module": "@jupyter-widgets/controls",
            "_model_module_version": "1.5.0",
            "_model_name": "HBoxModel",
            "_view_count": null,
            "_view_module": "@jupyter-widgets/controls",
            "_view_module_version": "1.5.0",
            "_view_name": "HBoxView",
            "box_style": "",
            "children": [
              "IPY_MODEL_1fd69960085546608b44b1226626b0ce",
              "IPY_MODEL_3c0c042b138f4decbe8cf374d92a871c",
              "IPY_MODEL_bd319e0c36504878b966307b8779ee9b"
            ],
            "layout": "IPY_MODEL_230583d6ecbe4b6eb4f0d784426684ca"
          }
        },
        "1fd69960085546608b44b1226626b0ce": {
          "model_module": "@jupyter-widgets/controls",
          "model_name": "HTMLModel",
          "model_module_version": "1.5.0",
          "state": {
            "_dom_classes": [],
            "_model_module": "@jupyter-widgets/controls",
            "_model_module_version": "1.5.0",
            "_model_name": "HTMLModel",
            "_view_count": null,
            "_view_module": "@jupyter-widgets/controls",
            "_view_module_version": "1.5.0",
            "_view_name": "HTMLView",
            "description": "",
            "description_tooltip": null,
            "layout": "IPY_MODEL_1e52e7f1500745d888b45efbaa7076bd",
            "placeholder": "​",
            "style": "IPY_MODEL_89d0ba0a8acf4824900696d0d7960d89",
            "value": "Map: 100%"
          }
        },
        "3c0c042b138f4decbe8cf374d92a871c": {
          "model_module": "@jupyter-widgets/controls",
          "model_name": "FloatProgressModel",
          "model_module_version": "1.5.0",
          "state": {
            "_dom_classes": [],
            "_model_module": "@jupyter-widgets/controls",
            "_model_module_version": "1.5.0",
            "_model_name": "FloatProgressModel",
            "_view_count": null,
            "_view_module": "@jupyter-widgets/controls",
            "_view_module_version": "1.5.0",
            "_view_name": "ProgressView",
            "bar_style": "success",
            "description": "",
            "description_tooltip": null,
            "layout": "IPY_MODEL_7faf2316e2284958870d264c6104acdd",
            "max": 2000,
            "min": 0,
            "orientation": "horizontal",
            "style": "IPY_MODEL_1059bf39e24c491eab61301594d921db",
            "value": 2000
          }
        },
        "bd319e0c36504878b966307b8779ee9b": {
          "model_module": "@jupyter-widgets/controls",
          "model_name": "HTMLModel",
          "model_module_version": "1.5.0",
          "state": {
            "_dom_classes": [],
            "_model_module": "@jupyter-widgets/controls",
            "_model_module_version": "1.5.0",
            "_model_name": "HTMLModel",
            "_view_count": null,
            "_view_module": "@jupyter-widgets/controls",
            "_view_module_version": "1.5.0",
            "_view_name": "HTMLView",
            "description": "",
            "description_tooltip": null,
            "layout": "IPY_MODEL_7c0b9d4ee20e405a8c59f90930a27fe5",
            "placeholder": "​",
            "style": "IPY_MODEL_e48788d705ac4fc59902d9eb512d0cde",
            "value": " 2000/2000 [00:05&lt;00:00, 222.36 examples/s]"
          }
        },
        "230583d6ecbe4b6eb4f0d784426684ca": {
          "model_module": "@jupyter-widgets/base",
          "model_name": "LayoutModel",
          "model_module_version": "1.2.0",
          "state": {
            "_model_module": "@jupyter-widgets/base",
            "_model_module_version": "1.2.0",
            "_model_name": "LayoutModel",
            "_view_count": null,
            "_view_module": "@jupyter-widgets/base",
            "_view_module_version": "1.2.0",
            "_view_name": "LayoutView",
            "align_content": null,
            "align_items": null,
            "align_self": null,
            "border": null,
            "bottom": null,
            "display": null,
            "flex": null,
            "flex_flow": null,
            "grid_area": null,
            "grid_auto_columns": null,
            "grid_auto_flow": null,
            "grid_auto_rows": null,
            "grid_column": null,
            "grid_gap": null,
            "grid_row": null,
            "grid_template_areas": null,
            "grid_template_columns": null,
            "grid_template_rows": null,
            "height": null,
            "justify_content": null,
            "justify_items": null,
            "left": null,
            "margin": null,
            "max_height": null,
            "max_width": null,
            "min_height": null,
            "min_width": null,
            "object_fit": null,
            "object_position": null,
            "order": null,
            "overflow": null,
            "overflow_x": null,
            "overflow_y": null,
            "padding": null,
            "right": null,
            "top": null,
            "visibility": null,
            "width": null
          }
        },
        "1e52e7f1500745d888b45efbaa7076bd": {
          "model_module": "@jupyter-widgets/base",
          "model_name": "LayoutModel",
          "model_module_version": "1.2.0",
          "state": {
            "_model_module": "@jupyter-widgets/base",
            "_model_module_version": "1.2.0",
            "_model_name": "LayoutModel",
            "_view_count": null,
            "_view_module": "@jupyter-widgets/base",
            "_view_module_version": "1.2.0",
            "_view_name": "LayoutView",
            "align_content": null,
            "align_items": null,
            "align_self": null,
            "border": null,
            "bottom": null,
            "display": null,
            "flex": null,
            "flex_flow": null,
            "grid_area": null,
            "grid_auto_columns": null,
            "grid_auto_flow": null,
            "grid_auto_rows": null,
            "grid_column": null,
            "grid_gap": null,
            "grid_row": null,
            "grid_template_areas": null,
            "grid_template_columns": null,
            "grid_template_rows": null,
            "height": null,
            "justify_content": null,
            "justify_items": null,
            "left": null,
            "margin": null,
            "max_height": null,
            "max_width": null,
            "min_height": null,
            "min_width": null,
            "object_fit": null,
            "object_position": null,
            "order": null,
            "overflow": null,
            "overflow_x": null,
            "overflow_y": null,
            "padding": null,
            "right": null,
            "top": null,
            "visibility": null,
            "width": null
          }
        },
        "89d0ba0a8acf4824900696d0d7960d89": {
          "model_module": "@jupyter-widgets/controls",
          "model_name": "DescriptionStyleModel",
          "model_module_version": "1.5.0",
          "state": {
            "_model_module": "@jupyter-widgets/controls",
            "_model_module_version": "1.5.0",
            "_model_name": "DescriptionStyleModel",
            "_view_count": null,
            "_view_module": "@jupyter-widgets/base",
            "_view_module_version": "1.2.0",
            "_view_name": "StyleView",
            "description_width": ""
          }
        },
        "7faf2316e2284958870d264c6104acdd": {
          "model_module": "@jupyter-widgets/base",
          "model_name": "LayoutModel",
          "model_module_version": "1.2.0",
          "state": {
            "_model_module": "@jupyter-widgets/base",
            "_model_module_version": "1.2.0",
            "_model_name": "LayoutModel",
            "_view_count": null,
            "_view_module": "@jupyter-widgets/base",
            "_view_module_version": "1.2.0",
            "_view_name": "LayoutView",
            "align_content": null,
            "align_items": null,
            "align_self": null,
            "border": null,
            "bottom": null,
            "display": null,
            "flex": null,
            "flex_flow": null,
            "grid_area": null,
            "grid_auto_columns": null,
            "grid_auto_flow": null,
            "grid_auto_rows": null,
            "grid_column": null,
            "grid_gap": null,
            "grid_row": null,
            "grid_template_areas": null,
            "grid_template_columns": null,
            "grid_template_rows": null,
            "height": null,
            "justify_content": null,
            "justify_items": null,
            "left": null,
            "margin": null,
            "max_height": null,
            "max_width": null,
            "min_height": null,
            "min_width": null,
            "object_fit": null,
            "object_position": null,
            "order": null,
            "overflow": null,
            "overflow_x": null,
            "overflow_y": null,
            "padding": null,
            "right": null,
            "top": null,
            "visibility": null,
            "width": null
          }
        },
        "1059bf39e24c491eab61301594d921db": {
          "model_module": "@jupyter-widgets/controls",
          "model_name": "ProgressStyleModel",
          "model_module_version": "1.5.0",
          "state": {
            "_model_module": "@jupyter-widgets/controls",
            "_model_module_version": "1.5.0",
            "_model_name": "ProgressStyleModel",
            "_view_count": null,
            "_view_module": "@jupyter-widgets/base",
            "_view_module_version": "1.2.0",
            "_view_name": "StyleView",
            "bar_color": null,
            "description_width": ""
          }
        },
        "7c0b9d4ee20e405a8c59f90930a27fe5": {
          "model_module": "@jupyter-widgets/base",
          "model_name": "LayoutModel",
          "model_module_version": "1.2.0",
          "state": {
            "_model_module": "@jupyter-widgets/base",
            "_model_module_version": "1.2.0",
            "_model_name": "LayoutModel",
            "_view_count": null,
            "_view_module": "@jupyter-widgets/base",
            "_view_module_version": "1.2.0",
            "_view_name": "LayoutView",
            "align_content": null,
            "align_items": null,
            "align_self": null,
            "border": null,
            "bottom": null,
            "display": null,
            "flex": null,
            "flex_flow": null,
            "grid_area": null,
            "grid_auto_columns": null,
            "grid_auto_flow": null,
            "grid_auto_rows": null,
            "grid_column": null,
            "grid_gap": null,
            "grid_row": null,
            "grid_template_areas": null,
            "grid_template_columns": null,
            "grid_template_rows": null,
            "height": null,
            "justify_content": null,
            "justify_items": null,
            "left": null,
            "margin": null,
            "max_height": null,
            "max_width": null,
            "min_height": null,
            "min_width": null,
            "object_fit": null,
            "object_position": null,
            "order": null,
            "overflow": null,
            "overflow_x": null,
            "overflow_y": null,
            "padding": null,
            "right": null,
            "top": null,
            "visibility": null,
            "width": null
          }
        },
        "e48788d705ac4fc59902d9eb512d0cde": {
          "model_module": "@jupyter-widgets/controls",
          "model_name": "DescriptionStyleModel",
          "model_module_version": "1.5.0",
          "state": {
            "_model_module": "@jupyter-widgets/controls",
            "_model_module_version": "1.5.0",
            "_model_name": "DescriptionStyleModel",
            "_view_count": null,
            "_view_module": "@jupyter-widgets/base",
            "_view_module_version": "1.2.0",
            "_view_name": "StyleView",
            "description_width": ""
          }
        },
        "a00d403b83fb4458847b9993891bb235": {
          "model_module": "@jupyter-widgets/controls",
          "model_name": "HBoxModel",
          "model_module_version": "1.5.0",
          "state": {
            "_dom_classes": [],
            "_model_module": "@jupyter-widgets/controls",
            "_model_module_version": "1.5.0",
            "_model_name": "HBoxModel",
            "_view_count": null,
            "_view_module": "@jupyter-widgets/controls",
            "_view_module_version": "1.5.0",
            "_view_name": "HBoxView",
            "box_style": "",
            "children": [
              "IPY_MODEL_fd19ce55902a41a79dec28de3fb6df9f",
              "IPY_MODEL_55693240db794736a8097adeb977afa1",
              "IPY_MODEL_23b7166f37ca402ea9c3b0f2081b88a0"
            ],
            "layout": "IPY_MODEL_3ad9503fec6c4af5b1663ac8c1e55471"
          }
        },
        "fd19ce55902a41a79dec28de3fb6df9f": {
          "model_module": "@jupyter-widgets/controls",
          "model_name": "HTMLModel",
          "model_module_version": "1.5.0",
          "state": {
            "_dom_classes": [],
            "_model_module": "@jupyter-widgets/controls",
            "_model_module_version": "1.5.0",
            "_model_name": "HTMLModel",
            "_view_count": null,
            "_view_module": "@jupyter-widgets/controls",
            "_view_module_version": "1.5.0",
            "_view_name": "HTMLView",
            "description": "",
            "description_tooltip": null,
            "layout": "IPY_MODEL_41cde297290a4f6aa2eef86f43312261",
            "placeholder": "​",
            "style": "IPY_MODEL_11bc8337dd0c4cf5846764ec86f203ee",
            "value": "Map: 100%"
          }
        },
        "55693240db794736a8097adeb977afa1": {
          "model_module": "@jupyter-widgets/controls",
          "model_name": "FloatProgressModel",
          "model_module_version": "1.5.0",
          "state": {
            "_dom_classes": [],
            "_model_module": "@jupyter-widgets/controls",
            "_model_module_version": "1.5.0",
            "_model_name": "FloatProgressModel",
            "_view_count": null,
            "_view_module": "@jupyter-widgets/controls",
            "_view_module_version": "1.5.0",
            "_view_name": "ProgressView",
            "bar_style": "success",
            "description": "",
            "description_tooltip": null,
            "layout": "IPY_MODEL_8098cb4b4ed04ebd90dc66bab1a2353e",
            "max": 2000,
            "min": 0,
            "orientation": "horizontal",
            "style": "IPY_MODEL_a609968186e448e7b0f32aa15b2639b4",
            "value": 2000
          }
        },
        "23b7166f37ca402ea9c3b0f2081b88a0": {
          "model_module": "@jupyter-widgets/controls",
          "model_name": "HTMLModel",
          "model_module_version": "1.5.0",
          "state": {
            "_dom_classes": [],
            "_model_module": "@jupyter-widgets/controls",
            "_model_module_version": "1.5.0",
            "_model_name": "HTMLModel",
            "_view_count": null,
            "_view_module": "@jupyter-widgets/controls",
            "_view_module_version": "1.5.0",
            "_view_name": "HTMLView",
            "description": "",
            "description_tooltip": null,
            "layout": "IPY_MODEL_51a06bb590494362b7feca7c26e2eed2",
            "placeholder": "​",
            "style": "IPY_MODEL_e7bb0f518871428db54009d2308d2915",
            "value": " 2000/2000 [00:04&lt;00:00, 335.11 examples/s]"
          }
        },
        "3ad9503fec6c4af5b1663ac8c1e55471": {
          "model_module": "@jupyter-widgets/base",
          "model_name": "LayoutModel",
          "model_module_version": "1.2.0",
          "state": {
            "_model_module": "@jupyter-widgets/base",
            "_model_module_version": "1.2.0",
            "_model_name": "LayoutModel",
            "_view_count": null,
            "_view_module": "@jupyter-widgets/base",
            "_view_module_version": "1.2.0",
            "_view_name": "LayoutView",
            "align_content": null,
            "align_items": null,
            "align_self": null,
            "border": null,
            "bottom": null,
            "display": null,
            "flex": null,
            "flex_flow": null,
            "grid_area": null,
            "grid_auto_columns": null,
            "grid_auto_flow": null,
            "grid_auto_rows": null,
            "grid_column": null,
            "grid_gap": null,
            "grid_row": null,
            "grid_template_areas": null,
            "grid_template_columns": null,
            "grid_template_rows": null,
            "height": null,
            "justify_content": null,
            "justify_items": null,
            "left": null,
            "margin": null,
            "max_height": null,
            "max_width": null,
            "min_height": null,
            "min_width": null,
            "object_fit": null,
            "object_position": null,
            "order": null,
            "overflow": null,
            "overflow_x": null,
            "overflow_y": null,
            "padding": null,
            "right": null,
            "top": null,
            "visibility": null,
            "width": null
          }
        },
        "41cde297290a4f6aa2eef86f43312261": {
          "model_module": "@jupyter-widgets/base",
          "model_name": "LayoutModel",
          "model_module_version": "1.2.0",
          "state": {
            "_model_module": "@jupyter-widgets/base",
            "_model_module_version": "1.2.0",
            "_model_name": "LayoutModel",
            "_view_count": null,
            "_view_module": "@jupyter-widgets/base",
            "_view_module_version": "1.2.0",
            "_view_name": "LayoutView",
            "align_content": null,
            "align_items": null,
            "align_self": null,
            "border": null,
            "bottom": null,
            "display": null,
            "flex": null,
            "flex_flow": null,
            "grid_area": null,
            "grid_auto_columns": null,
            "grid_auto_flow": null,
            "grid_auto_rows": null,
            "grid_column": null,
            "grid_gap": null,
            "grid_row": null,
            "grid_template_areas": null,
            "grid_template_columns": null,
            "grid_template_rows": null,
            "height": null,
            "justify_content": null,
            "justify_items": null,
            "left": null,
            "margin": null,
            "max_height": null,
            "max_width": null,
            "min_height": null,
            "min_width": null,
            "object_fit": null,
            "object_position": null,
            "order": null,
            "overflow": null,
            "overflow_x": null,
            "overflow_y": null,
            "padding": null,
            "right": null,
            "top": null,
            "visibility": null,
            "width": null
          }
        },
        "11bc8337dd0c4cf5846764ec86f203ee": {
          "model_module": "@jupyter-widgets/controls",
          "model_name": "DescriptionStyleModel",
          "model_module_version": "1.5.0",
          "state": {
            "_model_module": "@jupyter-widgets/controls",
            "_model_module_version": "1.5.0",
            "_model_name": "DescriptionStyleModel",
            "_view_count": null,
            "_view_module": "@jupyter-widgets/base",
            "_view_module_version": "1.2.0",
            "_view_name": "StyleView",
            "description_width": ""
          }
        },
        "8098cb4b4ed04ebd90dc66bab1a2353e": {
          "model_module": "@jupyter-widgets/base",
          "model_name": "LayoutModel",
          "model_module_version": "1.2.0",
          "state": {
            "_model_module": "@jupyter-widgets/base",
            "_model_module_version": "1.2.0",
            "_model_name": "LayoutModel",
            "_view_count": null,
            "_view_module": "@jupyter-widgets/base",
            "_view_module_version": "1.2.0",
            "_view_name": "LayoutView",
            "align_content": null,
            "align_items": null,
            "align_self": null,
            "border": null,
            "bottom": null,
            "display": null,
            "flex": null,
            "flex_flow": null,
            "grid_area": null,
            "grid_auto_columns": null,
            "grid_auto_flow": null,
            "grid_auto_rows": null,
            "grid_column": null,
            "grid_gap": null,
            "grid_row": null,
            "grid_template_areas": null,
            "grid_template_columns": null,
            "grid_template_rows": null,
            "height": null,
            "justify_content": null,
            "justify_items": null,
            "left": null,
            "margin": null,
            "max_height": null,
            "max_width": null,
            "min_height": null,
            "min_width": null,
            "object_fit": null,
            "object_position": null,
            "order": null,
            "overflow": null,
            "overflow_x": null,
            "overflow_y": null,
            "padding": null,
            "right": null,
            "top": null,
            "visibility": null,
            "width": null
          }
        },
        "a609968186e448e7b0f32aa15b2639b4": {
          "model_module": "@jupyter-widgets/controls",
          "model_name": "ProgressStyleModel",
          "model_module_version": "1.5.0",
          "state": {
            "_model_module": "@jupyter-widgets/controls",
            "_model_module_version": "1.5.0",
            "_model_name": "ProgressStyleModel",
            "_view_count": null,
            "_view_module": "@jupyter-widgets/base",
            "_view_module_version": "1.2.0",
            "_view_name": "StyleView",
            "bar_color": null,
            "description_width": ""
          }
        },
        "51a06bb590494362b7feca7c26e2eed2": {
          "model_module": "@jupyter-widgets/base",
          "model_name": "LayoutModel",
          "model_module_version": "1.2.0",
          "state": {
            "_model_module": "@jupyter-widgets/base",
            "_model_module_version": "1.2.0",
            "_model_name": "LayoutModel",
            "_view_count": null,
            "_view_module": "@jupyter-widgets/base",
            "_view_module_version": "1.2.0",
            "_view_name": "LayoutView",
            "align_content": null,
            "align_items": null,
            "align_self": null,
            "border": null,
            "bottom": null,
            "display": null,
            "flex": null,
            "flex_flow": null,
            "grid_area": null,
            "grid_auto_columns": null,
            "grid_auto_flow": null,
            "grid_auto_rows": null,
            "grid_column": null,
            "grid_gap": null,
            "grid_row": null,
            "grid_template_areas": null,
            "grid_template_columns": null,
            "grid_template_rows": null,
            "height": null,
            "justify_content": null,
            "justify_items": null,
            "left": null,
            "margin": null,
            "max_height": null,
            "max_width": null,
            "min_height": null,
            "min_width": null,
            "object_fit": null,
            "object_position": null,
            "order": null,
            "overflow": null,
            "overflow_x": null,
            "overflow_y": null,
            "padding": null,
            "right": null,
            "top": null,
            "visibility": null,
            "width": null
          }
        },
        "e7bb0f518871428db54009d2308d2915": {
          "model_module": "@jupyter-widgets/controls",
          "model_name": "DescriptionStyleModel",
          "model_module_version": "1.5.0",
          "state": {
            "_model_module": "@jupyter-widgets/controls",
            "_model_module_version": "1.5.0",
            "_model_name": "DescriptionStyleModel",
            "_view_count": null,
            "_view_module": "@jupyter-widgets/base",
            "_view_module_version": "1.2.0",
            "_view_name": "StyleView",
            "description_width": ""
          }
        }
      }
    }
  },
  "cells": [
    {
      "cell_type": "code",
      "execution_count": 23,
      "metadata": {
        "id": "kANzhqGoUsgp"
      },
      "outputs": [],
      "source": [
        "model_checkpoint = 'google/mt5-small'"
      ]
    },
    {
      "cell_type": "code",
      "source": [
        "!pip install transformers datasets seacrowd"
      ],
      "metadata": {
        "colab": {
          "base_uri": "https://localhost:8080/"
        },
        "id": "5sSVIbNgU_c5",
        "outputId": "16d27885-86db-40fe-9254-dc76aee5ba3a"
      },
      "execution_count": 1,
      "outputs": [
        {
          "output_type": "stream",
          "name": "stdout",
          "text": [
            "Requirement already satisfied: transformers in /usr/local/lib/python3.10/dist-packages (4.47.0)\n",
            "Collecting datasets\n",
            "  Downloading datasets-3.2.0-py3-none-any.whl.metadata (20 kB)\n",
            "Collecting seacrowd\n",
            "  Downloading seacrowd-0.2.2-py3-none-any.whl.metadata (1.1 kB)\n",
            "Requirement already satisfied: filelock in /usr/local/lib/python3.10/dist-packages (from transformers) (3.16.1)\n",
            "Requirement already satisfied: huggingface-hub<1.0,>=0.24.0 in /usr/local/lib/python3.10/dist-packages (from transformers) (0.27.0)\n",
            "Requirement already satisfied: numpy>=1.17 in /usr/local/lib/python3.10/dist-packages (from transformers) (1.26.4)\n",
            "Requirement already satisfied: packaging>=20.0 in /usr/local/lib/python3.10/dist-packages (from transformers) (24.2)\n",
            "Requirement already satisfied: pyyaml>=5.1 in /usr/local/lib/python3.10/dist-packages (from transformers) (6.0.2)\n",
            "Requirement already satisfied: regex!=2019.12.17 in /usr/local/lib/python3.10/dist-packages (from transformers) (2024.11.6)\n",
            "Requirement already satisfied: requests in /usr/local/lib/python3.10/dist-packages (from transformers) (2.32.3)\n",
            "Requirement already satisfied: tokenizers<0.22,>=0.21 in /usr/local/lib/python3.10/dist-packages (from transformers) (0.21.0)\n",
            "Requirement already satisfied: safetensors>=0.4.1 in /usr/local/lib/python3.10/dist-packages (from transformers) (0.4.5)\n",
            "Requirement already satisfied: tqdm>=4.27 in /usr/local/lib/python3.10/dist-packages (from transformers) (4.67.1)\n",
            "Requirement already satisfied: pyarrow>=15.0.0 in /usr/local/lib/python3.10/dist-packages (from datasets) (17.0.0)\n",
            "Collecting dill<0.3.9,>=0.3.0 (from datasets)\n",
            "  Downloading dill-0.3.8-py3-none-any.whl.metadata (10 kB)\n",
            "Requirement already satisfied: pandas in /usr/local/lib/python3.10/dist-packages (from datasets) (2.2.2)\n",
            "Collecting xxhash (from datasets)\n",
            "  Downloading xxhash-3.5.0-cp310-cp310-manylinux_2_17_x86_64.manylinux2014_x86_64.whl.metadata (12 kB)\n",
            "Collecting multiprocess<0.70.17 (from datasets)\n",
            "  Downloading multiprocess-0.70.16-py310-none-any.whl.metadata (7.2 kB)\n",
            "Collecting fsspec<=2024.9.0,>=2023.1.0 (from fsspec[http]<=2024.9.0,>=2023.1.0->datasets)\n",
            "  Downloading fsspec-2024.9.0-py3-none-any.whl.metadata (11 kB)\n",
            "Requirement already satisfied: aiohttp in /usr/local/lib/python3.10/dist-packages (from datasets) (3.11.10)\n",
            "Collecting loguru>=0.5.3 (from seacrowd)\n",
            "  Downloading loguru-0.7.3-py3-none-any.whl.metadata (22 kB)\n",
            "Collecting bioc>=1.3.7 (from seacrowd)\n",
            "  Downloading bioc-2.1-py3-none-any.whl.metadata (4.6 kB)\n",
            "Collecting black~=22.0 (from seacrowd)\n",
            "  Downloading black-22.12.0-cp310-cp310-manylinux_2_17_x86_64.manylinux2014_x86_64.whl.metadata (52 kB)\n",
            "\u001b[2K     \u001b[90m━━━━━━━━━━━━━━━━━━━━━━━━━━━━━━━━━━━━━━━━\u001b[0m \u001b[32m52.3/52.3 kB\u001b[0m \u001b[31m3.4 MB/s\u001b[0m eta \u001b[36m0:00:00\u001b[0m\n",
            "\u001b[?25hCollecting flake8>=3.8.3 (from seacrowd)\n",
            "  Downloading flake8-7.1.1-py2.py3-none-any.whl.metadata (3.8 kB)\n",
            "Collecting isort>=5.0.0 (from seacrowd)\n",
            "  Downloading isort-5.13.2-py3-none-any.whl.metadata (12 kB)\n",
            "Collecting pre-commit>=2.19.0 (from seacrowd)\n",
            "  Downloading pre_commit-4.0.1-py2.py3-none-any.whl.metadata (1.3 kB)\n",
            "Collecting jsonlines>=3.1.0 (from seacrowd)\n",
            "  Downloading jsonlines-4.0.0-py3-none-any.whl.metadata (1.6 kB)\n",
            "Requirement already satisfied: torchaudio>=0.11 in /usr/local/lib/python3.10/dist-packages (from seacrowd) (2.5.1+cu121)\n",
            "Requirement already satisfied: soundfile in /usr/local/lib/python3.10/dist-packages (from seacrowd) (0.12.1)\n",
            "Requirement already satisfied: librosa in /usr/local/lib/python3.10/dist-packages (from seacrowd) (0.10.2.post1)\n",
            "Requirement already satisfied: nltk in /usr/local/lib/python3.10/dist-packages (from seacrowd) (3.9.1)\n",
            "Collecting zstandard (from seacrowd)\n",
            "  Downloading zstandard-0.23.0-cp310-cp310-manylinux_2_17_x86_64.manylinux2014_x86_64.whl.metadata (3.0 kB)\n",
            "Collecting ffmpeg (from seacrowd)\n",
            "  Downloading ffmpeg-1.4.tar.gz (5.1 kB)\n",
            "  Preparing metadata (setup.py) ... \u001b[?25l\u001b[?25hdone\n",
            "Collecting conllu (from seacrowd)\n",
            "  Downloading conllu-6.0.0-py3-none-any.whl.metadata (21 kB)\n",
            "Requirement already satisfied: openpyxl in /usr/local/lib/python3.10/dist-packages (from seacrowd) (3.1.5)\n",
            "Collecting translate-toolkit>=3.7.3 (from seacrowd)\n",
            "  Downloading translate_toolkit-3.14.4-py3-none-any.whl.metadata (12 kB)\n",
            "Requirement already satisfied: typing-extensions in /usr/local/lib/python3.10/dist-packages (from seacrowd) (4.12.2)\n",
            "Requirement already satisfied: aiohappyeyeballs>=2.3.0 in /usr/local/lib/python3.10/dist-packages (from aiohttp->datasets) (2.4.4)\n",
            "Requirement already satisfied: aiosignal>=1.1.2 in /usr/local/lib/python3.10/dist-packages (from aiohttp->datasets) (1.3.2)\n",
            "Requirement already satisfied: async-timeout<6.0,>=4.0 in /usr/local/lib/python3.10/dist-packages (from aiohttp->datasets) (4.0.3)\n",
            "Requirement already satisfied: attrs>=17.3.0 in /usr/local/lib/python3.10/dist-packages (from aiohttp->datasets) (24.3.0)\n",
            "Requirement already satisfied: frozenlist>=1.1.1 in /usr/local/lib/python3.10/dist-packages (from aiohttp->datasets) (1.5.0)\n",
            "Requirement already satisfied: multidict<7.0,>=4.5 in /usr/local/lib/python3.10/dist-packages (from aiohttp->datasets) (6.1.0)\n",
            "Requirement already satisfied: propcache>=0.2.0 in /usr/local/lib/python3.10/dist-packages (from aiohttp->datasets) (0.2.1)\n",
            "Requirement already satisfied: yarl<2.0,>=1.17.0 in /usr/local/lib/python3.10/dist-packages (from aiohttp->datasets) (1.18.3)\n",
            "Requirement already satisfied: lxml>=4.6.3 in /usr/local/lib/python3.10/dist-packages (from bioc>=1.3.7->seacrowd) (5.3.0)\n",
            "Collecting intervaltree (from bioc>=1.3.7->seacrowd)\n",
            "  Downloading intervaltree-3.1.0.tar.gz (32 kB)\n",
            "  Preparing metadata (setup.py) ... \u001b[?25l\u001b[?25hdone\n",
            "Collecting docopt (from bioc>=1.3.7->seacrowd)\n",
            "  Downloading docopt-0.6.2.tar.gz (25 kB)\n",
            "  Preparing metadata (setup.py) ... \u001b[?25l\u001b[?25hdone\n",
            "Requirement already satisfied: click>=8.0.0 in /usr/local/lib/python3.10/dist-packages (from black~=22.0->seacrowd) (8.1.7)\n",
            "Collecting mypy-extensions>=0.4.3 (from black~=22.0->seacrowd)\n",
            "  Downloading mypy_extensions-1.0.0-py3-none-any.whl.metadata (1.1 kB)\n",
            "Collecting pathspec>=0.9.0 (from black~=22.0->seacrowd)\n",
            "  Downloading pathspec-0.12.1-py3-none-any.whl.metadata (21 kB)\n",
            "Requirement already satisfied: platformdirs>=2 in /usr/local/lib/python3.10/dist-packages (from black~=22.0->seacrowd) (4.3.6)\n",
            "Requirement already satisfied: tomli>=1.1.0 in /usr/local/lib/python3.10/dist-packages (from black~=22.0->seacrowd) (2.2.1)\n",
            "Collecting mccabe<0.8.0,>=0.7.0 (from flake8>=3.8.3->seacrowd)\n",
            "  Downloading mccabe-0.7.0-py2.py3-none-any.whl.metadata (5.0 kB)\n",
            "Collecting pycodestyle<2.13.0,>=2.12.0 (from flake8>=3.8.3->seacrowd)\n",
            "  Downloading pycodestyle-2.12.1-py2.py3-none-any.whl.metadata (4.5 kB)\n",
            "Collecting pyflakes<3.3.0,>=3.2.0 (from flake8>=3.8.3->seacrowd)\n",
            "  Downloading pyflakes-3.2.0-py2.py3-none-any.whl.metadata (3.5 kB)\n",
            "Requirement already satisfied: python-dateutil>=2.8.2 in /usr/local/lib/python3.10/dist-packages (from pandas->datasets) (2.8.2)\n",
            "Requirement already satisfied: pytz>=2020.1 in /usr/local/lib/python3.10/dist-packages (from pandas->datasets) (2024.2)\n",
            "Requirement already satisfied: tzdata>=2022.7 in /usr/local/lib/python3.10/dist-packages (from pandas->datasets) (2024.2)\n",
            "Collecting cfgv>=2.0.0 (from pre-commit>=2.19.0->seacrowd)\n",
            "  Downloading cfgv-3.4.0-py2.py3-none-any.whl.metadata (8.5 kB)\n",
            "Collecting identify>=1.0.0 (from pre-commit>=2.19.0->seacrowd)\n",
            "  Downloading identify-2.6.3-py2.py3-none-any.whl.metadata (4.4 kB)\n",
            "Collecting nodeenv>=0.11.1 (from pre-commit>=2.19.0->seacrowd)\n",
            "  Downloading nodeenv-1.9.1-py2.py3-none-any.whl.metadata (21 kB)\n",
            "Collecting virtualenv>=20.10.0 (from pre-commit>=2.19.0->seacrowd)\n",
            "  Downloading virtualenv-20.28.0-py3-none-any.whl.metadata (4.4 kB)\n",
            "Requirement already satisfied: charset-normalizer<4,>=2 in /usr/local/lib/python3.10/dist-packages (from requests->transformers) (3.4.0)\n",
            "Requirement already satisfied: idna<4,>=2.5 in /usr/local/lib/python3.10/dist-packages (from requests->transformers) (3.10)\n",
            "Requirement already satisfied: urllib3<3,>=1.21.1 in /usr/local/lib/python3.10/dist-packages (from requests->transformers) (2.2.3)\n",
            "Requirement already satisfied: certifi>=2017.4.17 in /usr/local/lib/python3.10/dist-packages (from requests->transformers) (2024.12.14)\n",
            "Requirement already satisfied: torch==2.5.1 in /usr/local/lib/python3.10/dist-packages (from torchaudio>=0.11->seacrowd) (2.5.1+cu121)\n",
            "Requirement already satisfied: networkx in /usr/local/lib/python3.10/dist-packages (from torch==2.5.1->torchaudio>=0.11->seacrowd) (3.4.2)\n",
            "Requirement already satisfied: jinja2 in /usr/local/lib/python3.10/dist-packages (from torch==2.5.1->torchaudio>=0.11->seacrowd) (3.1.4)\n",
            "Requirement already satisfied: sympy==1.13.1 in /usr/local/lib/python3.10/dist-packages (from torch==2.5.1->torchaudio>=0.11->seacrowd) (1.13.1)\n",
            "Requirement already satisfied: mpmath<1.4,>=1.1.0 in /usr/local/lib/python3.10/dist-packages (from sympy==1.13.1->torch==2.5.1->torchaudio>=0.11->seacrowd) (1.3.0)\n",
            "Collecting cwcwidth>=0.1.9 (from translate-toolkit>=3.7.3->seacrowd)\n",
            "  Downloading cwcwidth-0.1.9-cp310-cp310-manylinux_2_5_x86_64.manylinux1_x86_64.manylinux_2_17_x86_64.manylinux2014_x86_64.whl.metadata (2.0 kB)\n",
            "Requirement already satisfied: audioread>=2.1.9 in /usr/local/lib/python3.10/dist-packages (from librosa->seacrowd) (3.0.1)\n",
            "Requirement already satisfied: scipy>=1.2.0 in /usr/local/lib/python3.10/dist-packages (from librosa->seacrowd) (1.13.1)\n",
            "Requirement already satisfied: scikit-learn>=0.20.0 in /usr/local/lib/python3.10/dist-packages (from librosa->seacrowd) (1.6.0)\n",
            "Requirement already satisfied: joblib>=0.14 in /usr/local/lib/python3.10/dist-packages (from librosa->seacrowd) (1.4.2)\n",
            "Requirement already satisfied: decorator>=4.3.0 in /usr/local/lib/python3.10/dist-packages (from librosa->seacrowd) (4.4.2)\n",
            "Requirement already satisfied: numba>=0.51.0 in /usr/local/lib/python3.10/dist-packages (from librosa->seacrowd) (0.60.0)\n",
            "Requirement already satisfied: pooch>=1.1 in /usr/local/lib/python3.10/dist-packages (from librosa->seacrowd) (1.8.2)\n",
            "Requirement already satisfied: soxr>=0.3.2 in /usr/local/lib/python3.10/dist-packages (from librosa->seacrowd) (0.5.0.post1)\n",
            "Requirement already satisfied: lazy-loader>=0.1 in /usr/local/lib/python3.10/dist-packages (from librosa->seacrowd) (0.4)\n",
            "Requirement already satisfied: msgpack>=1.0 in /usr/local/lib/python3.10/dist-packages (from librosa->seacrowd) (1.1.0)\n",
            "Requirement already satisfied: cffi>=1.0 in /usr/local/lib/python3.10/dist-packages (from soundfile->seacrowd) (1.17.1)\n",
            "Requirement already satisfied: et-xmlfile in /usr/local/lib/python3.10/dist-packages (from openpyxl->seacrowd) (2.0.0)\n",
            "Requirement already satisfied: pycparser in /usr/local/lib/python3.10/dist-packages (from cffi>=1.0->soundfile->seacrowd) (2.22)\n",
            "Requirement already satisfied: llvmlite<0.44,>=0.43.0dev0 in /usr/local/lib/python3.10/dist-packages (from numba>=0.51.0->librosa->seacrowd) (0.43.0)\n",
            "Requirement already satisfied: six>=1.5 in /usr/local/lib/python3.10/dist-packages (from python-dateutil>=2.8.2->pandas->datasets) (1.17.0)\n",
            "Requirement already satisfied: threadpoolctl>=3.1.0 in /usr/local/lib/python3.10/dist-packages (from scikit-learn>=0.20.0->librosa->seacrowd) (3.5.0)\n",
            "Collecting distlib<1,>=0.3.7 (from virtualenv>=20.10.0->pre-commit>=2.19.0->seacrowd)\n",
            "  Downloading distlib-0.3.9-py2.py3-none-any.whl.metadata (5.2 kB)\n",
            "Collecting sortedcontainers<3.0,>=2.0 (from intervaltree->bioc>=1.3.7->seacrowd)\n",
            "  Downloading sortedcontainers-2.4.0-py2.py3-none-any.whl.metadata (10 kB)\n",
            "Requirement already satisfied: MarkupSafe>=2.0 in /usr/local/lib/python3.10/dist-packages (from jinja2->torch==2.5.1->torchaudio>=0.11->seacrowd) (3.0.2)\n",
            "Downloading datasets-3.2.0-py3-none-any.whl (480 kB)\n",
            "\u001b[2K   \u001b[90m━━━━━━━━━━━━━━━━━━━━━━━━━━━━━━━━━━━━━━━━\u001b[0m \u001b[32m480.6/480.6 kB\u001b[0m \u001b[31m18.7 MB/s\u001b[0m eta \u001b[36m0:00:00\u001b[0m\n",
            "\u001b[?25hDownloading seacrowd-0.2.2-py3-none-any.whl (1.2 MB)\n",
            "\u001b[2K   \u001b[90m━━━━━━━━━━━━━━━━━━━━━━━━━━━━━━━━━━━━━━━━\u001b[0m \u001b[32m1.2/1.2 MB\u001b[0m \u001b[31m60.3 MB/s\u001b[0m eta \u001b[36m0:00:00\u001b[0m\n",
            "\u001b[?25hDownloading bioc-2.1-py3-none-any.whl (33 kB)\n",
            "Downloading black-22.12.0-cp310-cp310-manylinux_2_17_x86_64.manylinux2014_x86_64.whl (1.6 MB)\n",
            "\u001b[2K   \u001b[90m━━━━━━━━━━━━━━━━━━━━━━━━━━━━━━━━━━━━━━━━\u001b[0m \u001b[32m1.6/1.6 MB\u001b[0m \u001b[31m66.4 MB/s\u001b[0m eta \u001b[36m0:00:00\u001b[0m\n",
            "\u001b[?25hDownloading dill-0.3.8-py3-none-any.whl (116 kB)\n",
            "\u001b[2K   \u001b[90m━━━━━━━━━━━━━━━━━━━━━━━━━━━━━━━━━━━━━━━━\u001b[0m \u001b[32m116.3/116.3 kB\u001b[0m \u001b[31m11.5 MB/s\u001b[0m eta \u001b[36m0:00:00\u001b[0m\n",
            "\u001b[?25hDownloading flake8-7.1.1-py2.py3-none-any.whl (57 kB)\n",
            "\u001b[2K   \u001b[90m━━━━━━━━━━━━━━━━━━━━━━━━━━━━━━━━━━━━━━━━\u001b[0m \u001b[32m57.7/57.7 kB\u001b[0m \u001b[31m5.7 MB/s\u001b[0m eta \u001b[36m0:00:00\u001b[0m\n",
            "\u001b[?25hDownloading fsspec-2024.9.0-py3-none-any.whl (179 kB)\n",
            "\u001b[2K   \u001b[90m━━━━━━━━━━━━━━━━━━━━━━━━━━━━━━━━━━━━━━━━\u001b[0m \u001b[32m179.3/179.3 kB\u001b[0m \u001b[31m20.0 MB/s\u001b[0m eta \u001b[36m0:00:00\u001b[0m\n",
            "\u001b[?25hDownloading isort-5.13.2-py3-none-any.whl (92 kB)\n",
            "\u001b[2K   \u001b[90m━━━━━━━━━━━━━━━━━━━━━━━━━━━━━━━━━━━━━━━━\u001b[0m \u001b[32m92.3/92.3 kB\u001b[0m \u001b[31m9.3 MB/s\u001b[0m eta \u001b[36m0:00:00\u001b[0m\n",
            "\u001b[?25hDownloading jsonlines-4.0.0-py3-none-any.whl (8.7 kB)\n",
            "Downloading loguru-0.7.3-py3-none-any.whl (61 kB)\n",
            "\u001b[2K   \u001b[90m━━━━━━━━━━━━━━━━━━━━━━━━━━━━━━━━━━━━━━━━\u001b[0m \u001b[32m61.6/61.6 kB\u001b[0m \u001b[31m6.6 MB/s\u001b[0m eta \u001b[36m0:00:00\u001b[0m\n",
            "\u001b[?25hDownloading multiprocess-0.70.16-py310-none-any.whl (134 kB)\n",
            "\u001b[2K   \u001b[90m━━━━━━━━━━━━━━━━━━━━━━━━━━━━━━━━━━━━━━━━\u001b[0m \u001b[32m134.8/134.8 kB\u001b[0m \u001b[31m13.1 MB/s\u001b[0m eta \u001b[36m0:00:00\u001b[0m\n",
            "\u001b[?25hDownloading pre_commit-4.0.1-py2.py3-none-any.whl (218 kB)\n",
            "\u001b[2K   \u001b[90m━━━━━━━━━━━━━━━━━━━━━━━━━━━━━━━━━━━━━━━━\u001b[0m \u001b[32m218.7/218.7 kB\u001b[0m \u001b[31m19.8 MB/s\u001b[0m eta \u001b[36m0:00:00\u001b[0m\n",
            "\u001b[?25hDownloading translate_toolkit-3.14.4-py3-none-any.whl (744 kB)\n",
            "\u001b[2K   \u001b[90m━━━━━━━━━━━━━━━━━━━━━━━━━━━━━━━━━━━━━━━━\u001b[0m \u001b[32m744.5/744.5 kB\u001b[0m \u001b[31m47.1 MB/s\u001b[0m eta \u001b[36m0:00:00\u001b[0m\n",
            "\u001b[?25hDownloading conllu-6.0.0-py3-none-any.whl (16 kB)\n",
            "Downloading xxhash-3.5.0-cp310-cp310-manylinux_2_17_x86_64.manylinux2014_x86_64.whl (194 kB)\n",
            "\u001b[2K   \u001b[90m━━━━━━━━━━━━━━━━━━━━━━━━━━━━━━━━━━━━━━━━\u001b[0m \u001b[32m194.1/194.1 kB\u001b[0m \u001b[31m18.9 MB/s\u001b[0m eta \u001b[36m0:00:00\u001b[0m\n",
            "\u001b[?25hDownloading zstandard-0.23.0-cp310-cp310-manylinux_2_17_x86_64.manylinux2014_x86_64.whl (5.4 MB)\n",
            "\u001b[2K   \u001b[90m━━━━━━━━━━━━━━━━━━━━━━━━━━━━━━━━━━━━━━━━\u001b[0m \u001b[32m5.4/5.4 MB\u001b[0m \u001b[31m87.5 MB/s\u001b[0m eta \u001b[36m0:00:00\u001b[0m\n",
            "\u001b[?25hDownloading cfgv-3.4.0-py2.py3-none-any.whl (7.2 kB)\n",
            "Downloading cwcwidth-0.1.9-cp310-cp310-manylinux_2_5_x86_64.manylinux1_x86_64.manylinux_2_17_x86_64.manylinux2014_x86_64.whl (92 kB)\n",
            "\u001b[2K   \u001b[90m━━━━━━━━━━━━━━━━━━━━━━━━━━━━━━━━━━━━━━━━\u001b[0m \u001b[32m92.7/92.7 kB\u001b[0m \u001b[31m8.2 MB/s\u001b[0m eta \u001b[36m0:00:00\u001b[0m\n",
            "\u001b[?25hDownloading identify-2.6.3-py2.py3-none-any.whl (99 kB)\n",
            "\u001b[2K   \u001b[90m━━━━━━━━━━━━━━━━━━━━━━━━━━━━━━━━━━━━━━━━\u001b[0m \u001b[32m99.0/99.0 kB\u001b[0m \u001b[31m9.0 MB/s\u001b[0m eta \u001b[36m0:00:00\u001b[0m\n",
            "\u001b[?25hDownloading mccabe-0.7.0-py2.py3-none-any.whl (7.3 kB)\n",
            "Downloading mypy_extensions-1.0.0-py3-none-any.whl (4.7 kB)\n",
            "Downloading nodeenv-1.9.1-py2.py3-none-any.whl (22 kB)\n",
            "Downloading pathspec-0.12.1-py3-none-any.whl (31 kB)\n",
            "Downloading pycodestyle-2.12.1-py2.py3-none-any.whl (31 kB)\n",
            "Downloading pyflakes-3.2.0-py2.py3-none-any.whl (62 kB)\n",
            "\u001b[2K   \u001b[90m━━━━━━━━━━━━━━━━━━━━━━━━━━━━━━━━━━━━━━━━\u001b[0m \u001b[32m62.7/62.7 kB\u001b[0m \u001b[31m7.0 MB/s\u001b[0m eta \u001b[36m0:00:00\u001b[0m\n",
            "\u001b[?25hDownloading virtualenv-20.28.0-py3-none-any.whl (4.3 MB)\n",
            "\u001b[2K   \u001b[90m━━━━━━━━━━━━━━━━━━━━━━━━━━━━━━━━━━━━━━━━\u001b[0m \u001b[32m4.3/4.3 MB\u001b[0m \u001b[31m71.3 MB/s\u001b[0m eta \u001b[36m0:00:00\u001b[0m\n",
            "\u001b[?25hDownloading distlib-0.3.9-py2.py3-none-any.whl (468 kB)\n",
            "\u001b[2K   \u001b[90m━━━━━━━━━━━━━━━━━━━━━━━━━━━━━━━━━━━━━━━━\u001b[0m \u001b[32m469.0/469.0 kB\u001b[0m \u001b[31m32.4 MB/s\u001b[0m eta \u001b[36m0:00:00\u001b[0m\n",
            "\u001b[?25hDownloading sortedcontainers-2.4.0-py2.py3-none-any.whl (29 kB)\n",
            "Building wheels for collected packages: ffmpeg, docopt, intervaltree\n",
            "  Building wheel for ffmpeg (setup.py) ... \u001b[?25l\u001b[?25hdone\n",
            "  Created wheel for ffmpeg: filename=ffmpeg-1.4-py3-none-any.whl size=6082 sha256=afdfb45db3cb60225fc4fd2b163de68facb092ede09b9c83129724c1676d0550\n",
            "  Stored in directory: /root/.cache/pip/wheels/8e/7a/69/cd6aeb83b126a7f04cbe7c9d929028dc52a6e7d525ff56003a\n",
            "  Building wheel for docopt (setup.py) ... \u001b[?25l\u001b[?25hdone\n",
            "  Created wheel for docopt: filename=docopt-0.6.2-py2.py3-none-any.whl size=13706 sha256=142c5e7e86a469684dbc1bc6a84b7f971eaf5c97b73da24f3a88b3e3b8354eea\n",
            "  Stored in directory: /root/.cache/pip/wheels/fc/ab/d4/5da2067ac95b36618c629a5f93f809425700506f72c9732fac\n",
            "  Building wheel for intervaltree (setup.py) ... \u001b[?25l\u001b[?25hdone\n",
            "  Created wheel for intervaltree: filename=intervaltree-3.1.0-py2.py3-none-any.whl size=26097 sha256=71aaeb9b3d3eb128da69f84101219f427deb951a9a03904ced80a38444904cf2\n",
            "  Stored in directory: /root/.cache/pip/wheels/fa/80/8c/43488a924a046b733b64de3fac99252674c892a4c3801c0a61\n",
            "Successfully built ffmpeg docopt intervaltree\n",
            "Installing collected packages: sortedcontainers, ffmpeg, docopt, distlib, zstandard, xxhash, virtualenv, pyflakes, pycodestyle, pathspec, nodeenv, mypy-extensions, mccabe, loguru, jsonlines, isort, intervaltree, identify, fsspec, dill, cwcwidth, conllu, cfgv, translate-toolkit, pre-commit, multiprocess, flake8, black, bioc, datasets, seacrowd\n",
            "  Attempting uninstall: fsspec\n",
            "    Found existing installation: fsspec 2024.10.0\n",
            "    Uninstalling fsspec-2024.10.0:\n",
            "      Successfully uninstalled fsspec-2024.10.0\n",
            "\u001b[31mERROR: pip's dependency resolver does not currently take into account all the packages that are installed. This behaviour is the source of the following dependency conflicts.\n",
            "gcsfs 2024.10.0 requires fsspec==2024.10.0, but you have fsspec 2024.9.0 which is incompatible.\u001b[0m\u001b[31m\n",
            "\u001b[0mSuccessfully installed bioc-2.1 black-22.12.0 cfgv-3.4.0 conllu-6.0.0 cwcwidth-0.1.9 datasets-3.2.0 dill-0.3.8 distlib-0.3.9 docopt-0.6.2 ffmpeg-1.4 flake8-7.1.1 fsspec-2024.9.0 identify-2.6.3 intervaltree-3.1.0 isort-5.13.2 jsonlines-4.0.0 loguru-0.7.3 mccabe-0.7.0 multiprocess-0.70.16 mypy-extensions-1.0.0 nodeenv-1.9.1 pathspec-0.12.1 pre-commit-4.0.1 pycodestyle-2.12.1 pyflakes-3.2.0 seacrowd-0.2.2 sortedcontainers-2.4.0 translate-toolkit-3.14.4 virtualenv-20.28.0 xxhash-3.5.0 zstandard-0.23.0\n"
          ]
        }
      ]
    },
    {
      "cell_type": "code",
      "source": [
        "from datasets import load_dataset\n",
        "dset = load_dataset(\"SEACrowd/liputan6\", trust_remote_code=True)\n",
        "\n",
        "# Use subsets of the dataset\n",
        "train_data = dset[\"train\"].select(range(2000))\n",
        "val_data = dset[\"validation\"].select(range(200))\n",
        "test_data = dset[\"test\"].select(range(200))"
      ],
      "metadata": {
        "id": "pd9RQHe-VPTq"
      },
      "execution_count": 25,
      "outputs": []
    },
    {
      "cell_type": "code",
      "source": [
        "from transformers import AutoTokenizer, AutoModelForSeq2SeqLM, Trainer, TrainingArguments, DataCollatorWithPadding\n",
        "\n",
        "tokenizer_ft_mt5 = AutoTokenizer.from_pretrained(model_checkpoint)\n",
        "\n",
        "def tokenize_function(examples):\n",
        "    # Tokenisasi teks input\n",
        "    model_inputs = tokenizer_ft_mt5(\n",
        "        examples['document'],\n",
        "        max_length=512,\n",
        "        truncation=True,\n",
        "        padding='max_length'  # Add padding to max_length\n",
        "    )\n",
        "    # Tokenisasi target\n",
        "    with tokenizer_ft_mt5.as_target_tokenizer():\n",
        "        labels = tokenizer_ft_mt5(\n",
        "            examples['summary'],\n",
        "            max_length=128,\n",
        "            truncation=True,\n",
        "            padding='max_length'  # Add padding to max_length\n",
        "        )\n",
        "    model_inputs['labels'] = labels['input_ids']\n",
        "    return model_inputs\n",
        "\n",
        "tokenized_dataset_train = train_data.map(tokenize_function)\n",
        "tokenized_dataset_val = train_data.map(tokenize_function)"
      ],
      "metadata": {
        "colab": {
          "base_uri": "https://localhost:8080/",
          "height": 136,
          "referenced_widgets": [
            "30b92805d5734f0592964dfc69c8440a",
            "1fd69960085546608b44b1226626b0ce",
            "3c0c042b138f4decbe8cf374d92a871c",
            "bd319e0c36504878b966307b8779ee9b",
            "230583d6ecbe4b6eb4f0d784426684ca",
            "1e52e7f1500745d888b45efbaa7076bd",
            "89d0ba0a8acf4824900696d0d7960d89",
            "7faf2316e2284958870d264c6104acdd",
            "1059bf39e24c491eab61301594d921db",
            "7c0b9d4ee20e405a8c59f90930a27fe5",
            "e48788d705ac4fc59902d9eb512d0cde",
            "a00d403b83fb4458847b9993891bb235",
            "fd19ce55902a41a79dec28de3fb6df9f",
            "55693240db794736a8097adeb977afa1",
            "23b7166f37ca402ea9c3b0f2081b88a0",
            "3ad9503fec6c4af5b1663ac8c1e55471",
            "41cde297290a4f6aa2eef86f43312261",
            "11bc8337dd0c4cf5846764ec86f203ee",
            "8098cb4b4ed04ebd90dc66bab1a2353e",
            "a609968186e448e7b0f32aa15b2639b4",
            "51a06bb590494362b7feca7c26e2eed2",
            "e7bb0f518871428db54009d2308d2915"
          ]
        },
        "id": "pdjYtF_IU79k",
        "outputId": "4f3f9f94-df1a-4790-82cb-e725a6adba17"
      },
      "execution_count": 26,
      "outputs": [
        {
          "output_type": "display_data",
          "data": {
            "text/plain": [
              "Map:   0%|          | 0/2000 [00:00<?, ? examples/s]"
            ],
            "application/vnd.jupyter.widget-view+json": {
              "version_major": 2,
              "version_minor": 0,
              "model_id": "30b92805d5734f0592964dfc69c8440a"
            }
          },
          "metadata": {}
        },
        {
          "output_type": "stream",
          "name": "stderr",
          "text": [
            "/usr/local/lib/python3.10/dist-packages/transformers/tokenization_utils_base.py:3953: UserWarning: `as_target_tokenizer` is deprecated and will be removed in v5 of Transformers. You can tokenize your labels by using the argument `text_target` of the regular `__call__` method (either in the same call as your input texts if you use the same keyword arguments, or in a separate call.\n",
            "  warnings.warn(\n"
          ]
        },
        {
          "output_type": "display_data",
          "data": {
            "text/plain": [
              "Map:   0%|          | 0/2000 [00:00<?, ? examples/s]"
            ],
            "application/vnd.jupyter.widget-view+json": {
              "version_major": 2,
              "version_minor": 0,
              "model_id": "a00d403b83fb4458847b9993891bb235"
            }
          },
          "metadata": {}
        }
      ]
    },
    {
      "cell_type": "code",
      "source": [
        "print(tokenized_dataset_train)\n",
        "print(tokenized_dataset_val)"
      ],
      "metadata": {
        "colab": {
          "base_uri": "https://localhost:8080/"
        },
        "id": "k94uMTCSXlWz",
        "outputId": "18740876-c414-4172-e1bd-22354c300de6"
      },
      "execution_count": 27,
      "outputs": [
        {
          "output_type": "stream",
          "name": "stdout",
          "text": [
            "Dataset({\n",
            "    features: ['document', 'id', 'summary', 'input_ids', 'attention_mask', 'labels'],\n",
            "    num_rows: 2000\n",
            "})\n",
            "Dataset({\n",
            "    features: ['document', 'id', 'summary', 'input_ids', 'attention_mask', 'labels'],\n",
            "    num_rows: 2000\n",
            "})\n"
          ]
        }
      ]
    },
    {
      "cell_type": "code",
      "source": [
        "tokenized_dataset_train = tokenized_dataset_train.remove_columns([\"document\", \"id\", \"summary\"])\n",
        "tokenized_dataset_val = tokenized_dataset_val.remove_columns([\"document\", \"id\", \"summary\"])"
      ],
      "metadata": {
        "id": "-aPd5mPdXxYq"
      },
      "execution_count": 28,
      "outputs": []
    },
    {
      "cell_type": "code",
      "source": [
        "print(tokenized_dataset_train)\n",
        "print(tokenized_dataset_val)"
      ],
      "metadata": {
        "colab": {
          "base_uri": "https://localhost:8080/"
        },
        "id": "AzIDEncaYcyx",
        "outputId": "5f27eb16-568e-4374-e32b-66229bebaf67"
      },
      "execution_count": 29,
      "outputs": [
        {
          "output_type": "stream",
          "name": "stdout",
          "text": [
            "Dataset({\n",
            "    features: ['input_ids', 'attention_mask', 'labels'],\n",
            "    num_rows: 2000\n",
            "})\n",
            "Dataset({\n",
            "    features: ['input_ids', 'attention_mask', 'labels'],\n",
            "    num_rows: 2000\n",
            "})\n"
          ]
        }
      ]
    },
    {
      "cell_type": "code",
      "source": [
        "# Parameter\n",
        "learning_rate = 5e-5  # Laju pembelajaran\n",
        "train_batch_size = 6    # Ukuran batch untuk pelatihan\n",
        "epochs = 10              # Jumlah epoch\n",
        "weight_decay = 0.001      # Pengurangan bobot\n",
        "\n",
        "# Direktori untuk menyimpan hasil\n",
        "output_directory = f'./results_mt5_{learning_rate}_{train_batch_size}_{epochs}'"
      ],
      "metadata": {
        "id": "BNOyHUsuYi6a"
      },
      "execution_count": 30,
      "outputs": []
    },
    {
      "cell_type": "code",
      "source": [
        "from transformers import T5ForConditionalGeneration, Trainer, TrainingArguments\n",
        "\n",
        "model_ft_mt5 = AutoModelForSeq2SeqLM.from_pretrained(model_checkpoint)\n",
        "\n",
        "# Use DataCollatorWithPadding\n",
        "data_collator = DataCollatorWithPadding(tokenizer=tokenizer_ft_mt5)\n",
        "\n",
        "training_args = TrainingArguments(\n",
        "    output_dir = output_directory,          # direktori untuk menyimpan model\n",
        "    evaluation_strategy=\"epoch\",     # evaluasi setiap epoch\n",
        "    learning_rate=learning_rate,\n",
        "    per_device_train_batch_size=train_batch_size,   # ukuran batch untuk pelatihan\n",
        "    num_train_epochs=epochs,              # jumlah epoch\n",
        "    weight_decay=weight_decay,               # pengurangan bobot\n",
        ")\n",
        "\n",
        "\n",
        "trainer = Trainer(\n",
        "    model=model_ft_mt5,\n",
        "    args=training_args,\n",
        "    train_dataset=tokenized_dataset_train,\n",
        "    eval_dataset=tokenized_dataset_val,\n",
        "    data_collator=data_collator,  # Use the data collator\n",
        ")"
      ],
      "metadata": {
        "colab": {
          "base_uri": "https://localhost:8080/"
        },
        "id": "vzlOWh8QYoni",
        "outputId": "eac35c17-f4b4-438a-d4a7-6a5b640d4daa"
      },
      "execution_count": 31,
      "outputs": [
        {
          "output_type": "stream",
          "name": "stderr",
          "text": [
            "/usr/local/lib/python3.10/dist-packages/transformers/training_args.py:1575: FutureWarning: `evaluation_strategy` is deprecated and will be removed in version 4.46 of 🤗 Transformers. Use `eval_strategy` instead\n",
            "  warnings.warn(\n"
          ]
        }
      ]
    },
    {
      "cell_type": "code",
      "source": [
        "trainer.train()"
      ],
      "metadata": {
        "colab": {
          "base_uri": "https://localhost:8080/",
          "height": 617
        },
        "id": "ly1ujS07ZCTt",
        "outputId": "04052ae1-aa0e-4473-bb26-55d1edaec36a"
      },
      "execution_count": 32,
      "outputs": [
        {
          "output_type": "stream",
          "name": "stderr",
          "text": [
            "\u001b[34m\u001b[1mwandb\u001b[0m: \u001b[33mWARNING\u001b[0m The `run_name` is currently set to the same value as `TrainingArguments.output_dir`. If this was not intended, please specify a different run name by setting the `TrainingArguments.run_name` parameter.\n",
            "\u001b[34m\u001b[1mwandb\u001b[0m: Using wandb-core as the SDK backend.  Please refer to https://wandb.me/wandb-core for more information.\n",
            "\u001b[34m\u001b[1mwandb\u001b[0m: Currently logged in as: \u001b[33mnadhiefathallahi\u001b[0m (\u001b[33mnadhiefathallahi-universitas-pendidikan-indonesia\u001b[0m). Use \u001b[1m`wandb login --relogin`\u001b[0m to force relogin\n"
          ]
        },
        {
          "output_type": "display_data",
          "data": {
            "text/plain": [
              "<IPython.core.display.HTML object>"
            ],
            "text/html": [
              "Tracking run with wandb version 0.19.1"
            ]
          },
          "metadata": {}
        },
        {
          "output_type": "display_data",
          "data": {
            "text/plain": [
              "<IPython.core.display.HTML object>"
            ],
            "text/html": [
              "Run data is saved locally in <code>/content/wandb/run-20241220_144513-mswpmaq2</code>"
            ]
          },
          "metadata": {}
        },
        {
          "output_type": "display_data",
          "data": {
            "text/plain": [
              "<IPython.core.display.HTML object>"
            ],
            "text/html": [
              "Syncing run <strong><a href='https://wandb.ai/nadhiefathallahi-universitas-pendidikan-indonesia/huggingface/runs/mswpmaq2' target=\"_blank\">./results_mt5_5e-05_6_10</a></strong> to <a href='https://wandb.ai/nadhiefathallahi-universitas-pendidikan-indonesia/huggingface' target=\"_blank\">Weights & Biases</a> (<a href='https://wandb.me/developer-guide' target=\"_blank\">docs</a>)<br>"
            ]
          },
          "metadata": {}
        },
        {
          "output_type": "display_data",
          "data": {
            "text/plain": [
              "<IPython.core.display.HTML object>"
            ],
            "text/html": [
              " View project at <a href='https://wandb.ai/nadhiefathallahi-universitas-pendidikan-indonesia/huggingface' target=\"_blank\">https://wandb.ai/nadhiefathallahi-universitas-pendidikan-indonesia/huggingface</a>"
            ]
          },
          "metadata": {}
        },
        {
          "output_type": "display_data",
          "data": {
            "text/plain": [
              "<IPython.core.display.HTML object>"
            ],
            "text/html": [
              " View run at <a href='https://wandb.ai/nadhiefathallahi-universitas-pendidikan-indonesia/huggingface/runs/mswpmaq2' target=\"_blank\">https://wandb.ai/nadhiefathallahi-universitas-pendidikan-indonesia/huggingface/runs/mswpmaq2</a>"
            ]
          },
          "metadata": {}
        },
        {
          "output_type": "stream",
          "name": "stderr",
          "text": [
            "Passing a tuple of `past_key_values` is deprecated and will be removed in Transformers v4.48.0. You should pass an instance of `EncoderDecoderCache` instead, e.g. `past_key_values=EncoderDecoderCache.from_legacy_cache(past_key_values)`.\n"
          ]
        },
        {
          "output_type": "display_data",
          "data": {
            "text/plain": [
              "<IPython.core.display.HTML object>"
            ],
            "text/html": [
              "\n",
              "    <div>\n",
              "      \n",
              "      <progress value='3340' max='3340' style='width:300px; height:20px; vertical-align: middle;'></progress>\n",
              "      [3340/3340 54:30, Epoch 10/10]\n",
              "    </div>\n",
              "    <table border=\"1\" class=\"dataframe\">\n",
              "  <thead>\n",
              " <tr style=\"text-align: left;\">\n",
              "      <th>Epoch</th>\n",
              "      <th>Training Loss</th>\n",
              "      <th>Validation Loss</th>\n",
              "    </tr>\n",
              "  </thead>\n",
              "  <tbody>\n",
              "    <tr>\n",
              "      <td>1</td>\n",
              "      <td>No log</td>\n",
              "      <td>10.244788</td>\n",
              "    </tr>\n",
              "    <tr>\n",
              "      <td>2</td>\n",
              "      <td>18.215400</td>\n",
              "      <td>4.345018</td>\n",
              "    </tr>\n",
              "    <tr>\n",
              "      <td>3</td>\n",
              "      <td>5.466500</td>\n",
              "      <td>3.056386</td>\n",
              "    </tr>\n",
              "    <tr>\n",
              "      <td>4</td>\n",
              "      <td>5.466500</td>\n",
              "      <td>2.187997</td>\n",
              "    </tr>\n",
              "    <tr>\n",
              "      <td>5</td>\n",
              "      <td>3.298400</td>\n",
              "      <td>0.971900</td>\n",
              "    </tr>\n",
              "    <tr>\n",
              "      <td>6</td>\n",
              "      <td>1.756600</td>\n",
              "      <td>0.867901</td>\n",
              "    </tr>\n",
              "    <tr>\n",
              "      <td>7</td>\n",
              "      <td>1.756600</td>\n",
              "      <td>0.844834</td>\n",
              "    </tr>\n",
              "    <tr>\n",
              "      <td>8</td>\n",
              "      <td>1.275700</td>\n",
              "      <td>0.825849</td>\n",
              "    </tr>\n",
              "    <tr>\n",
              "      <td>9</td>\n",
              "      <td>1.176800</td>\n",
              "      <td>0.811749</td>\n",
              "    </tr>\n",
              "    <tr>\n",
              "      <td>10</td>\n",
              "      <td>1.176800</td>\n",
              "      <td>0.808245</td>\n",
              "    </tr>\n",
              "  </tbody>\n",
              "</table><p>"
            ]
          },
          "metadata": {}
        },
        {
          "output_type": "execute_result",
          "data": {
            "text/plain": [
              "TrainOutput(global_step=3340, training_loss=4.786505565529098, metrics={'train_runtime': 3275.4281, 'train_samples_per_second': 6.106, 'train_steps_per_second': 1.02, 'total_flos': 1.05749938176e+16, 'train_loss': 4.786505565529098, 'epoch': 10.0})"
            ]
          },
          "metadata": {},
          "execution_count": 32
        }
      ]
    },
    {
      "cell_type": "code",
      "source": [
        "new_article = dset[\"test\"][1][\"document\"]\n",
        "new_summary = dset[\"test\"][1][\"summary\"]\n",
        "print(new_article)"
      ],
      "metadata": {
        "colab": {
          "base_uri": "https://localhost:8080/"
        },
        "id": "xmSlzoK2bJeY",
        "outputId": "267b62b1-cb97-4b24-8a9d-7450fda9877b"
      },
      "execution_count": 72,
      "outputs": [
        {
          "output_type": "stream",
          "name": "stdout",
          "text": [
            "Liputan6 . com , Bandar Lampung : Sebanyak 51 anak di bawah umur lima tahun terserang busung lapar atau marasmus karena kekurangan gizi di Kota Madya Bandar Lampung . Lima di antaranya tewas . Data tersebut diungkapkan Kepala Dinas Kesehatan Kota Bandar Lampung M . Sudarman , baru-baru ini . Menurut Sudarman , Dinas Kesehatan Bandar Lampung mencatat sekitar 51 anak terserang busung lapar yang tersebar di beberapa kecamatan , selama periode 1999 sampai 2001 . Kebanyakan anak penderita busung tersebut berasal dari keluarga yang hidup di bawah garis kemiskinan . Selain kekurangan gizi , komplikasi radang paru-paru juga menjadi satu faktor penyebab kematian anak penderita busung lapar tersebut . Data Dinas Kesehatan menunjukkan pada 1999 , ditemukan 41 anak terserang penyakit busung lapar . Sebagian besar penderita berdomisili di kampung miskin Umbul Kunci . Jumlah penderita busung lapar menurun pada 2000 , yakni hanya sembilan anak . Sedangkan September 2001 , seorang anak meninggal karena marasmus . Sudarman menegaskan , untuk menekan jumlah korban marasmus , anak-anak dan balita diberi makanan tambahan ke sentra-sentra rawan busung lapar seperti di Desa Umbul Unci . Tetapi , berdasarkan keterangan masyarakat Umbul Kunci , program makanan tambahan ini hanya berjalan setahun yakni pada 1999 . Warga setempat mengaku tak pernah lagi menerima makanan tambahan bagi anak-anak kurang gizi sejak dua tahun terakhir . ( TNA/Bisri Merduani ) .\n"
          ]
        }
      ]
    },
    {
      "cell_type": "code",
      "source": [
        "from transformers import AutoTokenizer, AutoModelForSeq2SeqLM\n",
        "\n",
        "tokenizer_result_mt5 = AutoTokenizer.from_pretrained(model_checkpoint)\n",
        "model_result_mt5 = AutoModelForSeq2SeqLM.from_pretrained('/content/results_mt5_5e-05_6_10/checkpoint-3340')\n",
        "\n",
        "# Teks input\n",
        "input_text = new_article\n",
        "\n",
        "# prompt\n",
        "prompt = f\"\"\"\n",
        "summary artikel dibawah ini:\n",
        "Article: {new_article}\n",
        "Summary:\"\"\"\n",
        "\n",
        "# Tokenisasi\n",
        "input_teks = prompt + input_text\n",
        "input_ids = tokenizer_result_mt5.encode(input_teks, return_tensors='pt')\n",
        "\n",
        "# Menghasilkan ringkasan\n",
        "output_ids = model_result_mt5.generate(input_ids, max_length=70)\n",
        "output_text = tokenizer_result_mt5.decode(output_ids[0], skip_special_tokens=True)\n",
        "\n",
        "# print(\"Referensi: \", referensi_ringkasan)\n",
        "print(\"Ringkasan Hasil Fine Tune:\", output_text)"
      ],
      "metadata": {
        "colab": {
          "base_uri": "https://localhost:8080/"
        },
        "id": "n4-3mCiFeFmN",
        "outputId": "4466d18a-7347-437a-ad5b-daa325ba6236"
      },
      "execution_count": 73,
      "outputs": [
        {
          "output_type": "stream",
          "name": "stdout",
          "text": [
            "Ringkasan Hasil Fine Tune: <extra_id_0> di Kota Madya Bandar Lampung . Lima diantaranya tewas .\n"
          ]
        }
      ]
    },
    {
      "cell_type": "code",
      "source": [
        "from nltk.translate.bleu_score import sentence_bleu, SmoothingFunction\n",
        "# Calculate BLEU score for this sentence\n",
        "bleu_score = sentence_bleu([new_summary], output_text)\n",
        "\n",
        "# Print the results\n",
        "print(f\"Input: {new_article}\")\n",
        "print(f\"Predicted: {output_text}\")\n",
        "print(f\"Reference: {new_summary}\")\n",
        "print(f\"BLEU Score: {bleu_score:.4f}\")\n",
        "print(\"-\" * 50)"
      ],
      "metadata": {
        "colab": {
          "base_uri": "https://localhost:8080/"
        },
        "id": "s_rFjYKeyrOq",
        "outputId": "543e3a9a-e6c0-4105-cd77-ed8a5f46f2dc"
      },
      "execution_count": 59,
      "outputs": [
        {
          "output_type": "stream",
          "name": "stdout",
          "text": [
            "Input: Liputan6 . com , Bandar Lampung : Sebanyak 51 anak di bawah umur lima tahun terserang busung lapar atau marasmus karena kekurangan gizi di Kota Madya Bandar Lampung . Lima di antaranya tewas . Data tersebut diungkapkan Kepala Dinas Kesehatan Kota Bandar Lampung M . Sudarman , baru-baru ini . Menurut Sudarman , Dinas Kesehatan Bandar Lampung mencatat sekitar 51 anak terserang busung lapar yang tersebar di beberapa kecamatan , selama periode 1999 sampai 2001 . Kebanyakan anak penderita busung tersebut berasal dari keluarga yang hidup di bawah garis kemiskinan . Selain kekurangan gizi , komplikasi radang paru-paru juga menjadi satu faktor penyebab kematian anak penderita busung lapar tersebut . Data Dinas Kesehatan menunjukkan pada 1999 , ditemukan 41 anak terserang penyakit busung lapar . Sebagian besar penderita berdomisili di kampung miskin Umbul Kunci . Jumlah penderita busung lapar menurun pada 2000 , yakni hanya sembilan anak . Sedangkan September 2001 , seorang anak meninggal karena marasmus . Sudarman menegaskan , untuk menekan jumlah korban marasmus , anak-anak dan balita diberi makanan tambahan ke sentra-sentra rawan busung lapar seperti di Desa Umbul Unci . Tetapi , berdasarkan keterangan masyarakat Umbul Kunci , program makanan tambahan ini hanya berjalan setahun yakni pada 1999 . Warga setempat mengaku tak pernah lagi menerima makanan tambahan bagi anak-anak kurang gizi sejak dua tahun terakhir . ( TNA/Bisri Merduani ) .\n",
            "Predicted: <extra_id_0> di Kota Madya Bandar Lampung . Lima diantaranya tewas .\n",
            "Reference: Sebanyak 51 anak di bawah usia lima tahun di Kota Madya Bandar Lampung , menderita busung lapar karena kekurangan gizi . Lima di antaranya meninggal dunia .\n",
            "BLEU Score: 0.2036\n",
            "--------------------------------------------------\n"
          ]
        }
      ]
    },
    {
      "cell_type": "code",
      "source": [
        "from nltk.translate.bleu_score import sentence_bleu\n",
        "# List untuk menyimpan skor BLEU\n",
        "bleu_scores = []\n",
        "\n",
        "# Pastikan `dset[\"test\"]` memiliki 10 data\n",
        "for i in range(10):\n",
        "    # Teks input dari dataset\n",
        "    new_article = dset[\"test\"][i][\"document\"]  # Pastikan `document` adalah kunci yang benar\n",
        "\n",
        "    # Prompt untuk model\n",
        "    prompt = f\"\"\"\n",
        "    summary artikel dibawah ini:\n",
        "    Article: {new_article}\n",
        "    Summary:\"\"\"\n",
        "\n",
        "    # Tokenisasi\n",
        "    input_teks = prompt\n",
        "    input_ids = tokenizer_result_mt5.encode(input_teks, return_tensors='pt')\n",
        "\n",
        "    # Menghasilkan ringkasan\n",
        "    output_ids = model_result_mt5.generate(input_ids, max_length=70)\n",
        "    output_text = tokenizer_result_mt5.decode(output_ids[0], skip_special_tokens=True)\n",
        "\n",
        "    # Hitung BLEU score\n",
        "    bleu_score = sentence_bleu([dset[\"test\"][i][\"summary\"]], output_text)  # `hypothesis` diubah menjadi list of words\n",
        "    bleu_scores.append(bleu_score)\n",
        "\n",
        "    # Cetak hasil setiap iterasi\n",
        "    print(f\"Input: {new_article}\")\n",
        "    print(f\"Predicted: {output_text}\")\n",
        "    print(f\"Reference: {dset['test'][i]['summary']}\")\n",
        "    print(f\"BLEU Score: {bleu_score:.4f}\")\n",
        "    print(\"-\" * 50)\n",
        "\n",
        "# Hitung rata-rata BLEU score\n",
        "average_bleu_score = sum(bleu_scores) / len(bleu_scores)\n",
        "\n",
        "# Cetak rata-rata BLEU score\n",
        "print(f\"Average BLEU Score for 10 samples: {average_bleu_score:.4f}\")\n"
      ],
      "metadata": {
        "colab": {
          "base_uri": "https://localhost:8080/"
        },
        "id": "nxZVPJzGzut0",
        "outputId": "c0b3b77f-dae7-4079-d383-8a2442a07066"
      },
      "execution_count": 74,
      "outputs": [
        {
          "output_type": "stream",
          "name": "stdout",
          "text": [
            "Input: Liputan6 . com , Bangka : Kapal patroli Angkatan Laut Republik Indonesia , Belinyu , baru-baru ini , menangkap tiga kapal nelayan berbendera Thailand , yakni KM Binatama , KM Sumber Jaya II , dan KM Mataram di Perairan Belitung Utara . Ketiga kapal itu ditangkap karena melanggar zona ekonomi ekslusif Indonesia . Saat ini , kapal-kapal itu diamankan di Pos Lanal Pelabuhan Pangkalan Balam , Bangka-Belitung . Menurut Komandan Pangkalan TNI AL Bangka Letnan Kolonel Laut Fredy Egam , selain menangkap tiga kapal , ALRI juga memeriksa 43 anak buah kapal . Mereka disergap saat sedang mengangkat jaring pukat harimau di Perairan Belitung Utara . Dari jumlah itu , hanya enam orang yang dijadikan tersangka , yakni tiga nahkoda dan tiga kepala kamar mesin kapal . Sedangkan ABK yang lain akan dideportasi ke negara asalnya . Meski berhasil menahan enam tersangka , TNI AL gagal mengamankan ikan tangkapan nelayan Thailand tersebut . Sebab , sebelum patroli datang , mereka telah memindahkan puluhan ton ikan hasil jaringan ke kapal induk . ( ULF/Ajmal Rokian dan Yanuar Ichrom ) .\n",
            "Predicted: <extra_id_0> patroli Angkatan Laut Republik Indonesia , Belinyu , menangkap tiga kapal nelayan berbendera Thailand , yakni KM Binatama , KM Mataram , KM Mataram , KM Mataram , dan KM Mataram di Perairan Belitung Utara .\n",
            "Reference: Meski memiliki izin resmi , TNI AL tetap menangkap tiga kapan nelayan berbendera Thailand . Pasalnya , ketiga kapal itu melanggar zona ekonomi ekslusif dan menjaring ikan dengan pukat harimau .\n",
            "BLEU Score: 0.3766\n",
            "--------------------------------------------------\n",
            "Input: Liputan6 . com , Bandar Lampung : Sebanyak 51 anak di bawah umur lima tahun terserang busung lapar atau marasmus karena kekurangan gizi di Kota Madya Bandar Lampung . Lima di antaranya tewas . Data tersebut diungkapkan Kepala Dinas Kesehatan Kota Bandar Lampung M . Sudarman , baru-baru ini . Menurut Sudarman , Dinas Kesehatan Bandar Lampung mencatat sekitar 51 anak terserang busung lapar yang tersebar di beberapa kecamatan , selama periode 1999 sampai 2001 . Kebanyakan anak penderita busung tersebut berasal dari keluarga yang hidup di bawah garis kemiskinan . Selain kekurangan gizi , komplikasi radang paru-paru juga menjadi satu faktor penyebab kematian anak penderita busung lapar tersebut . Data Dinas Kesehatan menunjukkan pada 1999 , ditemukan 41 anak terserang penyakit busung lapar . Sebagian besar penderita berdomisili di kampung miskin Umbul Kunci . Jumlah penderita busung lapar menurun pada 2000 , yakni hanya sembilan anak . Sedangkan September 2001 , seorang anak meninggal karena marasmus . Sudarman menegaskan , untuk menekan jumlah korban marasmus , anak-anak dan balita diberi makanan tambahan ke sentra-sentra rawan busung lapar seperti di Desa Umbul Unci . Tetapi , berdasarkan keterangan masyarakat Umbul Kunci , program makanan tambahan ini hanya berjalan setahun yakni pada 1999 . Warga setempat mengaku tak pernah lagi menerima makanan tambahan bagi anak-anak kurang gizi sejak dua tahun terakhir . ( TNA/Bisri Merduani ) .\n",
            "Predicted: <extra_id_0> busung lapar .\n",
            "Reference: Sebanyak 51 anak di bawah usia lima tahun di Kota Madya Bandar Lampung , menderita busung lapar karena kekurangan gizi . Lima di antaranya meninggal dunia .\n",
            "BLEU Score: 0.0047\n",
            "--------------------------------------------------\n",
            "Input: Liputan6 . com , Jakarta : Polemik seputar pelaksanaan Sidang Istimewa MPR , 1 Agustus mendatang , terus bergulir . Setelah sekian kali , Presiden Abdurrahman Wahid kembali mengeluarkan ancaman akan memberlakukan status keadaan bahaya dan darurat sipil . Langkah itu bakal dilakukan jika SI MPR tetap meminta pertanggungjawaban dirinya . Penegasan tersebut diungkapkan Presiden Wahid dalam dialog usai salat Jumat di Mesjid Al Munawarah , Ciganjur , Jakarta Selatan , Jumat ( 06/7 ) . Bagi Gus Dur , pada dasarnya dia tidak mempermasalahkan pelaksanaan SI MPR . Asalkan , agenda yang dibahas tidak menyangkut pertanggungjawaban dan kinerja pemerintahannya . \" Sebab , masih ada agenda lain yang bisa dibahas , demi kemajuan negara ini , \" kata Gus Dur , serius . Pernyataan Gus Dur kontan ditanggap Wakil Rakyat . Menurut anggota Fraksi Partai Bulan Bintang DPR Hamdan Zoelva , pemberlakuan keadaan darurat sipil justru akan mempermudah aparat keamanan untuk mengantisipasi . Jadi , siapa pun yang berniat mengganggu jalannya SI MPR , bisa diantisipasi sejak awal . Meski begitu , bagi Hamdan , saat ditemui usai dialog soal voting dan money politics Jumat siang tadi , keadaan darurat sipil tadi tak boleh salah arah . Misalnya , bila diberlakukan untuk melarang anggota dewan bersidang . \" Itu menorehkan sejarah hitam sistem ketatanegaraan kita , \" kata Hamdan . Hamdan juga menambahkan , bila darurat sipil hanya semata-mata untuk menghambat jalannya SI MPR , nilai tambah buat Gus Dur . Bahkan , tidak menutup kemungkinan malah memicu kebulatan tekad keputusan sidang Wakil Rakyat untuk menolak pertanggungjawaban Presiden Wahid . ( BMI/Tim Liputan 6 SCTV ) .\n",
            "Predicted: <extra_id_0> , terus bergulir .\n",
            "Reference: Presiden Abdurrahman Wahid kembali mengeluarkan ancaman akan memberlakukan status keadaan darurat sipil . Terutama , jika Sidang Istimewa MPR 1 Agustus mendatang tetap meminta pertanggungjawaban dirinya .\n",
            "BLEU Score: 0.0000\n",
            "--------------------------------------------------\n",
            "Input: Liputan6 . com , Ambon : Bahan bakar minyak jenis solar dan premium , selama sepekan terakhir , mulai langka di Kota Ambon . Akibatnya , sebagian besar kendaraan umum di Ambon memilih berhenti beroperasi karena sulit mendapatkan bahan bakar . Selain itu , kelangkaan tersebut juga memicu kenaikan harga premium di tingkat pengecer : mencapai Rp 2 ribu per liter . Padahal , biasanya harga premium hanya Rp 1 . 700 per liter . Demikian hasil pantauan SCTV di Ambon , baru-baru ini . Beberapa pedagang minyak eceran mengaku , kelangkaan terjadi karena pasokan dari Depot Pertamina Wayame berkurang . Selain itu , mereka juga menduga kelangkaan terjadi lantaran adanya ulah oknum yang menyuplai minyak ke sejumlah kapal di Pelabuhan Maluku . Menanggapi itu , Kapala Cabang Pertamina Unit Pemasaran dan Perbekalan Dalam Negeri VIII Ambon Subaedi memastikan , kelangkaan terjadi karena adanya kebijakan Pertamina Pusat yang mengurangi jatah pasokan . Subaedi memperkirakan , kelangkaan BBM di Ambon akan terus berlangsung hingga bulan depan . Tapi , ia menolak jika kelangkaan terjadi akibat adanya kerja sama kotor antara Pertamina dan para spekulan . ( ICH/Sahlan Heluth ) .\n",
            "Predicted: <extra_id_0> minyak jenis solar dan premium , selama sepekan terakhir , mulai langka di Kota Ambon .\n",
            "Reference: Sepekan terakhir , bahan bakar minyak jenis solar dan premium di Kota Ambon , mulai langka . Kelangkaan terjadi karena pasokan BBM dari Depot Pertamina Wayame berkurang .\n",
            "BLEU Score: 0.3995\n",
            "--------------------------------------------------\n",
            "Input: Liputan6 . com , Jakarta : Seluruh perubahan pasal Undang-Undang Nomor 23 tahun 1999 tentang Bank Indonesia telah disetujui oleh pemerintah dan DPR . Namun masih ada satu polemik soal pasal 75 . Inti pasal itu adalah soal memberhentikan seluruh anggota Dewan Gubernur BI , setelah UU Amendemen BI berlaku efektif . Bagi BI sendiri , posisinya harus tetap independen . Pernyataan itu ditegaskan Gubernur BI Sjahril Sabirin , baru-baru ini , di Jakarta . Menurut Sjahril , persoalan amendemen sudah menjadi kewenangan pemerintah dan DPR . Sebab kedua lembaga tersebut telah mendapat masukan dari tim panel Dana Moneter Internasional ( IMF ) . \" IMF sudah menganjurkan pembentukan tim panel , \" kata Sjahril . Lantas , tambah dia , tim panel itu juga sudah mengeluarkan hasil keputusan . \" Sekarang , tergantung pemerintah dan DPR untuk menerapkannya , \" kata Sjahril , serius . Pembahasan pasal 75 sendiri masih berlangsung di Panitia Kerja DPR . Panja ini mengusulkan pilihan supaya pemerintah mempercepat pembentukan Dewan Supervisi BI . Lantas , panja juga menawarkan kepada pemerintah untuk membuat laporan mengenai penyimpangan di tubuh BI . Berdasarkan laporan ini , DPR mesti menggelar paripurna untuk menentukan perlu tidaknya mengganti Gubernur BI . ( COK/Olivia Rosalia dan Bambang Triono ) .\n",
            "Predicted: <extra_id_0> tentang Bank Indonesia telah disetujui pemerintah dan DPR .\n",
            "Reference: Bank Indonesia menyerahkan sepenuhnya amendemen UU BI tentang pergantian dewan gubernur kepada pemerintah dan DPR . Diperkirakan , polemik soal pasal 75 sulit untuk bisa mencapai kata sepakat .\n",
            "BLEU Score: 0.1221\n",
            "--------------------------------------------------\n",
            "Input: Liputan6 . com , Jakarta : Mantan Presiden B . J . Habibie , Rabu ( 27/11 ) , kembali tak memenuhi panggilan Kejaksaan Agung . Sedianya , Habibie akan diperiksa sebagai saksi dalam kasus penggunaan dana nonbujeter Badan Urusan Logistik senilai Rp 54 , 6 miliar yang diduga melibatkan mantan Menteri Sekretaris Negara Akbar Tandjung . Bila tak ada aral melintang , pengacara Habibie , Yan Juanda , akan tiba di Kejagung sekitar pukul 12 . 00 WIB . Yan Juanda akan menjelaskan bahwa Habibie tak bisa memenuhi panggilan Kejagung untuk kedua kalinya karena masih berada di Jerman untuk menemani istrinya yang sakit . Menurut Kepala Pusat Penerangan dan Hukum Kejagung Moeljohardjo , sebenarnya kehadiran Habibie sangat diperlukan untuk mengungkap kasus tersebut . Sebab , Kejagung benar-benar serius untuk menyelesaikan Kasus Bulog dengan segera . Apabila , Habibie tak bisa datang ke Indonesia , bukan tak mungkin tim penyidik Kejagung akan ke Jerman untuk menemui Habibie . ( ULF/Edi Priono dan Irfan Efendi ) .\n",
            "Predicted: <extra_id_0> B . J Habibie , kembali tak memenuhi panggilan Kejagung .\n",
            "Reference: Kejaksaan Agung akan mengirim tim penyidik ke Jerman untuk menemui mantan Presiden B . J . Habibie . Mantan Presiden ketiga itu kembali tak memenuhi panggilan Kejagung .\n",
            "BLEU Score: 0.1943\n",
            "--------------------------------------------------\n",
            "Input: Liputan6 . com , Jakarta : Unjuk rasa anti-Amerika Serikat yang kini tengah memanas , ternyata telah menyusahkan sejumlah karyawan yang bekerja di sekitar Kedutaan Besar AS , Jalan Medan Merdeka Selatan , Jakarta Pusat . Pasalnya , jalan tersebut kerap ditutup untuk arus lalu lintas . Akibatnya , mereka harus rela berjalan kaki cukup jauh dari tempat bekerja . Untuk itu , mereka berharap agar unjuk rasa sejumlah elemen masyarakat yang menentang Amerika dapat dilakukan dengan tertib . \" Supaya transportasi tak terganggu , \" kata Ade , seorang karyawan , di Jakarta , baru-baru ini . Menurut Ade , kendaraan miliknya terpaksa diparkir di lokasi yang cukup jauh dari kantornya . Selain itu , meski terbiasa melihat unjuk rasa , sekarang ini , mereka suka was-was dan khawatir terjadi bentrokan lantaran yang berdemo terlihat lebih brutal . ( DEN/Apriliana dan Agus Ginanjar ) .\n",
            "Predicted: <extra_id_0> anti-Amerika Serikat yang kini tengah memanas , ternyata telah menyusahkan sejumlah karyawan yang bekerja di sekitar Kedutaan Besar AS , Jalan Medan Merdeka Selatan , Jakarta Pusat .\n",
            "Reference: Karyawan yang berkantor di sekitar Kedubes AS terpaksa berjalan kaki jika terjadi aksi anti-Amerika . Unjuk rasa diharapkan berlangsung lebih tertib .\n",
            "BLEU Score: 0.3876\n",
            "--------------------------------------------------\n",
            "Input: Liputan6 . com , Jakarta : Menteri Pendidikan Nasional Yahya Muhaimin meminta unsur dan instansi yang terlibat dalam penerimaan siswa baru tak mempersulit calon siswa . Permintaan Mendiknas tersebut disampaikan seusai melantik tujuh rektor perguruan tinggi negeri di Jakarta , Jumat ( 13/7 ) . Yahya mengakui ada beberapa pelanggaran dalam peneriman calon siswa baru tahun ini . Yahya mencontohkan ada orang tua siswa yang terpaksa menyogok panitia penerima siswa agar anaknya masuk ke sekolah favorit . Selain itu beredar juga katabelece di beberapa sekolah . Karena itu , Yahya berjanji akan menindak penyelewengan . Sementara itu , pelantikan rektor sempat tertunda . Pasalnya , Pembantu Rektor III Universitas Cendrawasih , Jayapura , Irianjaya , Robert Pilipus Lalenoh jatuh pingsan . Akhirnya , Pilipus meninggal dunia di Rumah Sakit Angkatan Laut Mintohardjo Jakarta . ( YYT/Tri Ambarwatie dan Rafael Setyo ) .\n",
            "Predicted: <extra_id_0> Yahya Muhaimin meminta unsur dan instansi yang terlibat dalam peneriman calon siswa baru tahun ini .\n",
            "Reference: Sejumlah penyelewengan dalam penerimaan calon siswa baru dapat diidentifikasi . Karena itu , dalam waktu dekat Mendiknas Yahya Muhaimin berjanji membentuk sebuah tim untuk menindak pelaku penyelewengan .\n",
            "BLEU Score: 0.2675\n",
            "--------------------------------------------------\n",
            "Input: Liputan6 . com , Jakarta : Seorang bapak dan anak ditemukan tewas dengan kondisi mengenaskan di kediamannya di Duri Selatan RT 4 , RW 5 Nomor 2 , Jakarta Barat , Senin ( 21/5 ) sekitar pukul 11 . 00 . Sejauh ini , polisi belum mengetahui penyebab kematian kedua korban . Yang pasti , polisi menemukan pisau bernoda darah dan luka di sekujur tubuh kedua korban . Demikian diungkapkan Kepala Kepolisian Sektor Tambora Ajun Komisaris Polisi Merdisyam , di Jakarta , tadi malam . Menurut Merdisyam , Hendrikus , 41 tahun dan anaknya , Michael , 4 tahun tewas sangat mengenaskan dengan luka di sekujur tubuh . Ia menambahkan sejumlah barang bukti di antaranya pisau bernoda darah ditemukan di tempat kejadian . Menurut Merdisyam , mayat Hendrikus , 41 tahun dan anaknya , Michael 4 tahun pertama kali ditemukan istrinya , Afa . Kala itu , Afa yang baru tiba dari rumah saudaranya melihat pintu rumah depan tak terkunci . Sedangkan pintu pagar rumah dalam keadaan terkunci . Ketika masuk rumahnya , ibu dua anak itu mendapati suami dan anaknya tewas dalam kondisi mengenaskan . Dari keterangan yang dihimpun SCTV menyebutkan , sejumlah warga yang berada di sekitar lokasi tak sedikit pun mendengar kegaduhan di rumah korban . Warga juga mengaku , tak ada tamu yang datang ke rumah korban sejak petang hari . Untuk mengungkap kasus ini , polisi menurunkan anjing pelacak , memeriksa istri korban , dan sejumlah saksi . Namun hingga kini , polisi belum dapat memastikan : apakah kedua korban terbunuh atau bunuh diri ? ( AWD/Christiyanto dan Agus Kusnohadi ) .\n",
            "Predicted: <extra_id_0> dan anaknya , Michael 4 tahun pertama kali ditemukan istrinya , Afa .\n",
            "Reference: Hendrikus , 41 tahun dan anaknya , Michael , 4 tahun ditemukan tewas mengenaskan di rumahnya , di Duri Selatan RT 4 , RW 5 Nomor 2 , Jakarta Barat . Mayat Hendrikus dan anaknya ditemukan istrinya , Afa .\n",
            "BLEU Score: 0.1698\n",
            "--------------------------------------------------\n",
            "Input: Liputan6 . com , Jakarta : Sekretaris Fraksi Reformasi ( FR ) DPR Alvin Lie Ling Pao mengadukan rekan sefraksinya , Syamsul Balda ke Kepolisian Daerah Metro Jaya , Selasa ( 11/9 ) . Alvin menuduh Syamsul mencemarkan nama baiknya sebagai anggota DPR . Alvin menjelaskan , perkara itu bermula dari pernyataan Syamsul di sejumlah media massa soal posisi sekretaris FR yang dipegangnya . Kala itu , menurut Alvin , Syamsul mengatakan Alvin hanya mencapai posisi terakhir saat pemilihan ketua FR , sehingga tak layak menduduki posisi sekretaris fraksi . Pendapat Syamsul itulah , menurut Alvin , yang membuatnya geram , sehingga ia melaporkan pekara itu ke polisi . Sebaliknya , Syamsul menyayangkan tindakan Wakil Sekretaris Jenderal Partai Amanat Nasional itu . Apalagi , ia mengaku , Alvin tak pernah secara langsung menanyakan soal itu kepadanya . Karena itu , ia berjanji akan membeberkan duduk perkara tuduhan tersebut bila dipanggil polisi . Keinginan Syamsul tampaknya bakal menjadi kenyataan . Sebab , selain akan menyelidiki pengaduan tersebut , polisi juga berniat mengirim surat permohonan pemeriksaan terhadap Syamsul kepada Presiden . ( AWD/Tim Liputan 6 SCTV ) .\n",
            "Predicted: <extra_id_0> Alvin Lie Ling Pao mengadukan rekan sefraksinya Syamsul Balda ke Kepolisian Metro Jaya , Selasa ( 11/9 ) .\n",
            "Reference: Sekretaris Fraksi Reformasi Alvin Lie mengadukan rekan sefraksinya , Syamsul Balda ke Polisi dengan tuduhan pencemaran nama baik . Syamsul menganggap Alvin berlebihan .\n",
            "BLEU Score: 0.3997\n",
            "--------------------------------------------------\n",
            "Average BLEU Score for 10 samples: 0.2322\n"
          ]
        }
      ]
    }
  ]
}