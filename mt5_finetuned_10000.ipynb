{
 "cells": [
  {
   "cell_type": "code",
   "execution_count": 1,
   "metadata": {},
   "outputs": [
    {
     "name": "stderr",
     "output_type": "stream",
     "text": [
      "c:\\Users\\ASUS\\AppData\\Local\\Programs\\Python\\Python310\\lib\\site-packages\\tqdm\\auto.py:21: TqdmWarning: IProgress not found. Please update jupyter and ipywidgets. See https://ipywidgets.readthedocs.io/en/stable/user_install.html\n",
      "  from .autonotebook import tqdm as notebook_tqdm\n",
      "c:\\Users\\ASUS\\AppData\\Local\\Programs\\Python\\Python310\\lib\\site-packages\\torchvision\\io\\image.py:13: UserWarning: Failed to load image Python extension: Could not find module 'C:\\Users\\ASUS\\AppData\\Local\\Programs\\Python\\Python310\\Lib\\site-packages\\torchvision\\image.pyd' (or one of its dependencies). Try using the full path with constructor syntax.\n",
      "  warn(f\"Failed to load image Python extension: {e}\")\n"
     ]
    }
   ],
   "source": [
    "import matplotlib.pyplot as plt\n",
    "import numpy as np\n",
    "import torch\n",
    "from transformers import MT5ForConditionalGeneration, MT5Tokenizer, Trainer, TrainingArguments\n",
    "from datasets import load_dataset\n",
    "from nltk.translate.bleu_score import corpus_bleu\n",
    "from nltk.tokenize import word_tokenize\n",
    "import nltk\n"
   ]
  },
  {
   "cell_type": "code",
   "execution_count": 2,
   "metadata": {},
   "outputs": [
    {
     "name": "stderr",
     "output_type": "stream",
     "text": [
      "[nltk_data] Downloading package punkt to\n",
      "[nltk_data]     C:\\Users\\ASUS\\AppData\\Roaming\\nltk_data...\n",
      "[nltk_data]   Package punkt is already up-to-date!\n",
      "You are using the default legacy behaviour of the <class 'transformers.models.t5.tokenization_t5.T5Tokenizer'>. This is expected, and simply means that the `legacy` (previous) behavior will be used so nothing changes for you. If you want to use the new behaviour, set `legacy=False`. This should only be set if you understand what it means, and thoroughly read the reason why this was added as explained in https://github.com/huggingface/transformers/pull/24565\n"
     ]
    }
   ],
   "source": [
    "\n",
    "nltk.download('punkt')\n",
    "\n",
    "# Load dataset\n",
    "dset = load_dataset(\"SEACrowd/liputan6\", trust_remote_code=True)\n",
    "\n",
    "# Use subsets of the dataset\n",
    "train_data = dset[\"train\"].select(range(10000))\n",
    "val_data = dset[\"validation\"].select(range(2000))\n",
    "test_data = dset[\"test\"].select(range(2000))\n",
    "\n",
    "# Load tokenizer and model\n",
    "model_name = \"google/mt5-small\"\n",
    "tokenizer = MT5Tokenizer.from_pretrained(model_name)\n",
    "model = MT5ForConditionalGeneration.from_pretrained(model_name)\n"
   ]
  },
  {
   "cell_type": "code",
   "execution_count": 3,
   "metadata": {},
   "outputs": [
    {
     "name": "stderr",
     "output_type": "stream",
     "text": [
      "Map:   0%|          | 0/10000 [00:00<?, ? examples/s]c:\\Users\\ASUS\\AppData\\Local\\Programs\\Python\\Python310\\lib\\site-packages\\transformers\\tokenization_utils_base.py:3953: UserWarning: `as_target_tokenizer` is deprecated and will be removed in v5 of Transformers. You can tokenize your labels by using the argument `text_target` of the regular `__call__` method (either in the same call as your input texts if you use the same keyword arguments, or in a separate call.\n",
      "  warnings.warn(\n",
      "Map: 100%|██████████| 10000/10000 [00:12<00:00, 798.64 examples/s]\n",
      "Map: 100%|██████████| 2000/2000 [00:02<00:00, 762.67 examples/s]\n",
      "Map: 100%|██████████| 2000/2000 [00:02<00:00, 789.70 examples/s]\n"
     ]
    }
   ],
   "source": [
    "\n",
    "# Preprocessing function\n",
    "def preprocess_function(examples):\n",
    "    inputs = [\"summarize: \" + doc for doc in examples[\"document\"]]\n",
    "    model_inputs = tokenizer(inputs, max_length=512, truncation=True, padding=True)\n",
    "\n",
    "    # Setup the tokenizer for targets\n",
    "    with tokenizer.as_target_tokenizer():\n",
    "        labels = tokenizer(examples[\"summary\"], max_length=128, truncation=True, padding=True)\n",
    "\n",
    "    model_inputs[\"labels\"] = labels[\"input_ids\"]\n",
    "    return model_inputs\n",
    "\n",
    "# Tokenize dataset\n",
    "tokenized_train = train_data.map(preprocess_function, batched=True, remove_columns=train_data.column_names)\n",
    "tokenized_val = val_data.map(preprocess_function, batched=True, remove_columns=val_data.column_names)\n",
    "tokenized_test = test_data.map(preprocess_function, batched=True, remove_columns=test_data.column_names)\n"
   ]
  },
  {
   "cell_type": "code",
   "execution_count": 6,
   "metadata": {},
   "outputs": [
    {
     "name": "stderr",
     "output_type": "stream",
     "text": [
      "C:\\Users\\ASUS\\AppData\\Local\\Temp\\ipykernel_29392\\3100007604.py:19: FutureWarning: `tokenizer` is deprecated and will be removed in version 5.0.0 for `Trainer.__init__`. Use `processing_class` instead.\n",
      "  trainer = Trainer(\n"
     ]
    }
   ],
   "source": [
    "\n",
    "# Define training arguments\n",
    "training_args = TrainingArguments(\n",
    "    output_dir=\"./results\",\n",
    "    evaluation_strategy=\"epoch\",\n",
    "    save_strategy=\"epoch\",\n",
    "    learning_rate=2e-5,\n",
    "    per_device_train_batch_size=4,\n",
    "    per_device_eval_batch_size=4,\n",
    "    num_train_epochs=1,\n",
    "    weight_decay=0.01,\n",
    "    logging_dir=\"./logs\",\n",
    "    logging_steps=10,\n",
    "    save_total_limit=2,\n",
    "    load_best_model_at_end=True,\n",
    "    metric_for_best_model=\"eval_loss\",\n",
    ")\n",
    "\n",
    "# Define the Trainer\n",
    "trainer = Trainer(\n",
    "    model=model,\n",
    "    args=training_args,\n",
    "    train_dataset=tokenized_train,\n",
    "    eval_dataset=tokenized_val,\n",
    "    tokenizer=tokenizer,\n",
    ")\n"
   ]
  },
  {
   "cell_type": "code",
   "execution_count": 7,
   "metadata": {},
   "outputs": [
    {
     "name": "stderr",
     "output_type": "stream",
     "text": [
      "                                                   \n",
      "  0%|          | 6/7500 [02:29<17:32:26,  8.43s/it]"
     ]
    },
    {
     "name": "stdout",
     "output_type": "stream",
     "text": [
      "{'loss': 41.2839, 'grad_norm': 1699.947021484375, 'learning_rate': 1.9920000000000002e-05, 'epoch': 0.0}\n"
     ]
    },
    {
     "name": "stderr",
     "output_type": "stream",
     "text": [
      "                                                   \n",
      "  0%|          | 6/7500 [03:48<17:32:26,  8.43s/it]"
     ]
    },
    {
     "name": "stdout",
     "output_type": "stream",
     "text": [
      "{'loss': 40.8443, 'grad_norm': 2572.601806640625, 'learning_rate': 1.9840000000000003e-05, 'epoch': 0.01}\n"
     ]
    },
    {
     "name": "stderr",
     "output_type": "stream",
     "text": [
      "                                                   \n",
      "  0%|          | 6/7500 [05:06<17:32:26,  8.43s/it]"
     ]
    },
    {
     "name": "stdout",
     "output_type": "stream",
     "text": [
      "{'loss': 37.6702, 'grad_norm': 1204.8099365234375, 'learning_rate': 1.976e-05, 'epoch': 0.01}\n"
     ]
    },
    {
     "name": "stderr",
     "output_type": "stream",
     "text": [
      "                                                   \n",
      "  0%|          | 6/7500 [06:26<17:32:26,  8.43s/it]"
     ]
    },
    {
     "name": "stdout",
     "output_type": "stream",
     "text": [
      "{'loss': 37.4363, 'grad_norm': 3518.0849609375, 'learning_rate': 1.968e-05, 'epoch': 0.02}\n"
     ]
    },
    {
     "name": "stderr",
     "output_type": "stream",
     "text": [
      "                                                   \n",
      "  0%|          | 6/7500 [07:45<17:32:26,  8.43s/it]"
     ]
    },
    {
     "name": "stdout",
     "output_type": "stream",
     "text": [
      "{'loss': 35.4291, 'grad_norm': 2676.642578125, 'learning_rate': 1.9600000000000002e-05, 'epoch': 0.02}\n"
     ]
    },
    {
     "name": "stderr",
     "output_type": "stream",
     "text": [
      "                                                   \n",
      "  0%|          | 6/7500 [09:05<17:32:26,  8.43s/it]"
     ]
    },
    {
     "name": "stdout",
     "output_type": "stream",
     "text": [
      "{'loss': 37.0985, 'grad_norm': 1759.005126953125, 'learning_rate': 1.9520000000000003e-05, 'epoch': 0.02}\n"
     ]
    },
    {
     "name": "stderr",
     "output_type": "stream",
     "text": [
      "                                                   \n",
      "  0%|          | 6/7500 [10:23<17:32:26,  8.43s/it]"
     ]
    },
    {
     "name": "stdout",
     "output_type": "stream",
     "text": [
      "{'loss': 34.4522, 'grad_norm': 9726.7744140625, 'learning_rate': 1.944e-05, 'epoch': 0.03}\n"
     ]
    },
    {
     "name": "stderr",
     "output_type": "stream",
     "text": [
      "                                                   \n",
      "  0%|          | 6/7500 [11:46<17:32:26,  8.43s/it]"
     ]
    },
    {
     "name": "stdout",
     "output_type": "stream",
     "text": [
      "{'loss': 34.1453, 'grad_norm': 1339.78369140625, 'learning_rate': 1.936e-05, 'epoch': 0.03}\n"
     ]
    },
    {
     "name": "stderr",
     "output_type": "stream",
     "text": [
      "                                                   \n",
      "  0%|          | 6/7500 [13:05<17:32:26,  8.43s/it]"
     ]
    },
    {
     "name": "stdout",
     "output_type": "stream",
     "text": [
      "{'loss': 33.1727, 'grad_norm': 2060.73486328125, 'learning_rate': 1.9280000000000002e-05, 'epoch': 0.04}\n"
     ]
    },
    {
     "name": "stderr",
     "output_type": "stream",
     "text": [
      "                                                   \n",
      "  0%|          | 6/7500 [14:22<17:32:26,  8.43s/it] "
     ]
    },
    {
     "name": "stdout",
     "output_type": "stream",
     "text": [
      "{'loss': 32.162, 'grad_norm': 2462.172119140625, 'learning_rate': 1.9200000000000003e-05, 'epoch': 0.04}\n"
     ]
    },
    {
     "name": "stderr",
     "output_type": "stream",
     "text": [
      "                                                   \n",
      "  0%|          | 6/7500 [15:40<17:32:26,  8.43s/it] "
     ]
    },
    {
     "name": "stdout",
     "output_type": "stream",
     "text": [
      "{'loss': 31.9432, 'grad_norm': 1852.0137939453125, 'learning_rate': 1.912e-05, 'epoch': 0.04}\n"
     ]
    },
    {
     "name": "stderr",
     "output_type": "stream",
     "text": [
      "                                                   \n",
      "  0%|          | 6/7500 [16:58<17:32:26,  8.43s/it] "
     ]
    },
    {
     "name": "stdout",
     "output_type": "stream",
     "text": [
      "{'loss': 31.7824, 'grad_norm': 12942.162109375, 'learning_rate': 1.904e-05, 'epoch': 0.05}\n"
     ]
    },
    {
     "name": "stderr",
     "output_type": "stream",
     "text": [
      "                                                   \n",
      "  0%|          | 6/7500 [18:15<17:32:26,  8.43s/it] "
     ]
    },
    {
     "name": "stdout",
     "output_type": "stream",
     "text": [
      "{'loss': 31.4428, 'grad_norm': 998.2999267578125, 'learning_rate': 1.896e-05, 'epoch': 0.05}\n"
     ]
    },
    {
     "name": "stderr",
     "output_type": "stream",
     "text": [
      "                                                   \n",
      "  0%|          | 6/7500 [19:34<17:32:26,  8.43s/it] "
     ]
    },
    {
     "name": "stdout",
     "output_type": "stream",
     "text": [
      "{'loss': 30.7354, 'grad_norm': 4799.044921875, 'learning_rate': 1.8880000000000002e-05, 'epoch': 0.06}\n"
     ]
    },
    {
     "name": "stderr",
     "output_type": "stream",
     "text": [
      "                                                   \n",
      "  0%|          | 6/7500 [20:53<17:32:26,  8.43s/it] "
     ]
    },
    {
     "name": "stdout",
     "output_type": "stream",
     "text": [
      "{'loss': 30.7985, 'grad_norm': 1245.0245361328125, 'learning_rate': 1.88e-05, 'epoch': 0.06}\n"
     ]
    },
    {
     "name": "stderr",
     "output_type": "stream",
     "text": [
      "                                                   \n",
      "  0%|          | 6/7500 [22:12<17:32:26,  8.43s/it] "
     ]
    },
    {
     "name": "stdout",
     "output_type": "stream",
     "text": [
      "{'loss': 29.6316, 'grad_norm': 4244.875, 'learning_rate': 1.8720000000000004e-05, 'epoch': 0.06}\n"
     ]
    },
    {
     "name": "stderr",
     "output_type": "stream",
     "text": [
      "                                                   \n",
      "  0%|          | 6/7500 [23:29<17:32:26,  8.43s/it] "
     ]
    },
    {
     "name": "stdout",
     "output_type": "stream",
     "text": [
      "{'loss': 29.7006, 'grad_norm': 5738.58447265625, 'learning_rate': 1.864e-05, 'epoch': 0.07}\n"
     ]
    },
    {
     "name": "stderr",
     "output_type": "stream",
     "text": [
      "                                                   \n",
      "  0%|          | 6/7500 [24:47<17:32:26,  8.43s/it] "
     ]
    },
    {
     "name": "stdout",
     "output_type": "stream",
     "text": [
      "{'loss': 28.4562, 'grad_norm': 5632.013671875, 'learning_rate': 1.8560000000000002e-05, 'epoch': 0.07}\n"
     ]
    },
    {
     "name": "stderr",
     "output_type": "stream",
     "text": [
      "                                                   \n",
      "  0%|          | 6/7500 [26:05<17:32:26,  8.43s/it] "
     ]
    },
    {
     "name": "stdout",
     "output_type": "stream",
     "text": [
      "{'loss': 29.2505, 'grad_norm': 997.3229370117188, 'learning_rate': 1.8480000000000003e-05, 'epoch': 0.08}\n"
     ]
    },
    {
     "name": "stderr",
     "output_type": "stream",
     "text": [
      "                                                   \n",
      "  0%|          | 6/7500 [27:23<17:32:26,  8.43s/it] "
     ]
    },
    {
     "name": "stdout",
     "output_type": "stream",
     "text": [
      "{'loss': 27.1263, 'grad_norm': 2253.961181640625, 'learning_rate': 1.8400000000000003e-05, 'epoch': 0.08}\n"
     ]
    },
    {
     "name": "stderr",
     "output_type": "stream",
     "text": [
      "                                                   \n",
      "  0%|          | 6/7500 [28:40<17:32:26,  8.43s/it] "
     ]
    },
    {
     "name": "stdout",
     "output_type": "stream",
     "text": [
      "{'loss': 25.5574, 'grad_norm': 770.4049072265625, 'learning_rate': 1.832e-05, 'epoch': 0.08}\n"
     ]
    },
    {
     "name": "stderr",
     "output_type": "stream",
     "text": [
      "                                                   \n",
      "  0%|          | 6/7500 [29:57<17:32:26,  8.43s/it] "
     ]
    },
    {
     "name": "stdout",
     "output_type": "stream",
     "text": [
      "{'loss': 26.1183, 'grad_norm': 3455.976318359375, 'learning_rate': 1.824e-05, 'epoch': 0.09}\n"
     ]
    },
    {
     "name": "stderr",
     "output_type": "stream",
     "text": [
      "                                                   \n",
      "  0%|          | 6/7500 [31:15<17:32:26,  8.43s/it] "
     ]
    },
    {
     "name": "stdout",
     "output_type": "stream",
     "text": [
      "{'loss': 25.4525, 'grad_norm': 1818.9271240234375, 'learning_rate': 1.8160000000000002e-05, 'epoch': 0.09}\n"
     ]
    },
    {
     "name": "stderr",
     "output_type": "stream",
     "text": [
      "                                                   \n",
      "  0%|          | 6/7500 [32:33<17:32:26,  8.43s/it] "
     ]
    },
    {
     "name": "stdout",
     "output_type": "stream",
     "text": [
      "{'loss': 25.3642, 'grad_norm': 3101.0126953125, 'learning_rate': 1.8080000000000003e-05, 'epoch': 0.1}\n"
     ]
    },
    {
     "name": "stderr",
     "output_type": "stream",
     "text": [
      "                                                   \n",
      "  0%|          | 6/7500 [33:50<17:32:26,  8.43s/it] "
     ]
    },
    {
     "name": "stdout",
     "output_type": "stream",
     "text": [
      "{'loss': 24.8705, 'grad_norm': 1299.878173828125, 'learning_rate': 1.8e-05, 'epoch': 0.1}\n"
     ]
    },
    {
     "name": "stderr",
     "output_type": "stream",
     "text": [
      "                                                   \n",
      "  0%|          | 6/7500 [35:09<17:32:26,  8.43s/it] "
     ]
    },
    {
     "name": "stdout",
     "output_type": "stream",
     "text": [
      "{'loss': 25.1122, 'grad_norm': 4287.37841796875, 'learning_rate': 1.792e-05, 'epoch': 0.1}\n"
     ]
    },
    {
     "name": "stderr",
     "output_type": "stream",
     "text": [
      "                                                   \n",
      "  0%|          | 6/7500 [36:28<17:32:26,  8.43s/it] "
     ]
    },
    {
     "name": "stdout",
     "output_type": "stream",
     "text": [
      "{'loss': 24.8595, 'grad_norm': 1730.5113525390625, 'learning_rate': 1.7840000000000002e-05, 'epoch': 0.11}\n"
     ]
    },
    {
     "name": "stderr",
     "output_type": "stream",
     "text": [
      "                                                   \n",
      "  0%|          | 6/7500 [37:49<17:32:26,  8.43s/it] "
     ]
    },
    {
     "name": "stdout",
     "output_type": "stream",
     "text": [
      "{'loss': 24.6616, 'grad_norm': 2426.045654296875, 'learning_rate': 1.7760000000000003e-05, 'epoch': 0.11}\n"
     ]
    },
    {
     "name": "stderr",
     "output_type": "stream",
     "text": [
      "                                                   \n",
      "  0%|          | 6/7500 [39:08<17:32:26,  8.43s/it] "
     ]
    },
    {
     "name": "stdout",
     "output_type": "stream",
     "text": [
      "{'loss': 23.0286, 'grad_norm': 1551.8365478515625, 'learning_rate': 1.768e-05, 'epoch': 0.12}\n"
     ]
    },
    {
     "name": "stderr",
     "output_type": "stream",
     "text": [
      "                                                   \n",
      "  0%|          | 6/7500 [40:26<17:32:26,  8.43s/it] "
     ]
    },
    {
     "name": "stdout",
     "output_type": "stream",
     "text": [
      "{'loss': 22.2743, 'grad_norm': 719.4118041992188, 'learning_rate': 1.76e-05, 'epoch': 0.12}\n"
     ]
    },
    {
     "name": "stderr",
     "output_type": "stream",
     "text": [
      "                                                   \n",
      "  0%|          | 6/7500 [41:44<17:32:26,  8.43s/it] "
     ]
    },
    {
     "name": "stdout",
     "output_type": "stream",
     "text": [
      "{'loss': 23.3362, 'grad_norm': 1228.757568359375, 'learning_rate': 1.752e-05, 'epoch': 0.12}\n"
     ]
    },
    {
     "name": "stderr",
     "output_type": "stream",
     "text": [
      "                                                   \n",
      "  0%|          | 6/7500 [43:02<17:32:26,  8.43s/it] "
     ]
    },
    {
     "name": "stdout",
     "output_type": "stream",
     "text": [
      "{'loss': 23.4166, 'grad_norm': 2378.04052734375, 'learning_rate': 1.7440000000000002e-05, 'epoch': 0.13}\n"
     ]
    },
    {
     "name": "stderr",
     "output_type": "stream",
     "text": [
      "                                                   \n",
      "  0%|          | 6/7500 [44:20<17:32:26,  8.43s/it] "
     ]
    },
    {
     "name": "stdout",
     "output_type": "stream",
     "text": [
      "{'loss': 22.6987, 'grad_norm': 2447.351806640625, 'learning_rate': 1.736e-05, 'epoch': 0.13}\n"
     ]
    },
    {
     "name": "stderr",
     "output_type": "stream",
     "text": [
      "                                                   \n",
      "  0%|          | 6/7500 [45:38<17:32:26,  8.43s/it] "
     ]
    },
    {
     "name": "stdout",
     "output_type": "stream",
     "text": [
      "{'loss': 22.3035, 'grad_norm': 4241.8681640625, 'learning_rate': 1.728e-05, 'epoch': 0.14}\n"
     ]
    },
    {
     "name": "stderr",
     "output_type": "stream",
     "text": [
      "                                                   \n",
      "  0%|          | 6/7500 [46:56<17:32:26,  8.43s/it] "
     ]
    },
    {
     "name": "stdout",
     "output_type": "stream",
     "text": [
      "{'loss': 22.3144, 'grad_norm': 1034.4288330078125, 'learning_rate': 1.72e-05, 'epoch': 0.14}\n"
     ]
    },
    {
     "name": "stderr",
     "output_type": "stream",
     "text": [
      "                                                   \n",
      "  0%|          | 6/7500 [48:14<17:32:26,  8.43s/it] "
     ]
    },
    {
     "name": "stdout",
     "output_type": "stream",
     "text": [
      "{'loss': 21.278, 'grad_norm': 1754.3931884765625, 'learning_rate': 1.7120000000000002e-05, 'epoch': 0.14}\n"
     ]
    },
    {
     "name": "stderr",
     "output_type": "stream",
     "text": [
      "                                                   \n",
      "  0%|          | 6/7500 [49:32<17:32:26,  8.43s/it] "
     ]
    },
    {
     "name": "stdout",
     "output_type": "stream",
     "text": [
      "{'loss': 20.2212, 'grad_norm': 7689.17041015625, 'learning_rate': 1.704e-05, 'epoch': 0.15}\n"
     ]
    },
    {
     "name": "stderr",
     "output_type": "stream",
     "text": [
      "                                                   \n",
      "  0%|          | 6/7500 [50:51<17:32:26,  8.43s/it] "
     ]
    },
    {
     "name": "stdout",
     "output_type": "stream",
     "text": [
      "{'loss': 20.9753, 'grad_norm': 592.1343994140625, 'learning_rate': 1.696e-05, 'epoch': 0.15}\n"
     ]
    },
    {
     "name": "stderr",
     "output_type": "stream",
     "text": [
      "                                                   \n",
      "  0%|          | 6/7500 [52:10<17:32:26,  8.43s/it] "
     ]
    },
    {
     "name": "stdout",
     "output_type": "stream",
     "text": [
      "{'loss': 19.8277, 'grad_norm': 1003.9406127929688, 'learning_rate': 1.688e-05, 'epoch': 0.16}\n"
     ]
    },
    {
     "name": "stderr",
     "output_type": "stream",
     "text": [
      "                                                   \n",
      "  0%|          | 6/7500 [53:29<17:32:26,  8.43s/it] "
     ]
    },
    {
     "name": "stdout",
     "output_type": "stream",
     "text": [
      "{'loss': 20.4984, 'grad_norm': 6641.44970703125, 'learning_rate': 1.6800000000000002e-05, 'epoch': 0.16}\n"
     ]
    },
    {
     "name": "stderr",
     "output_type": "stream",
     "text": [
      "                                                   \n",
      "  0%|          | 6/7500 [54:48<17:32:26,  8.43s/it] "
     ]
    },
    {
     "name": "stdout",
     "output_type": "stream",
     "text": [
      "{'loss': 21.0572, 'grad_norm': 1068.7742919921875, 'learning_rate': 1.672e-05, 'epoch': 0.16}\n"
     ]
    },
    {
     "name": "stderr",
     "output_type": "stream",
     "text": [
      "                                                   \n",
      "  0%|          | 6/7500 [56:06<17:32:26,  8.43s/it] "
     ]
    },
    {
     "name": "stdout",
     "output_type": "stream",
     "text": [
      "{'loss': 21.4193, 'grad_norm': 6534.4990234375, 'learning_rate': 1.664e-05, 'epoch': 0.17}\n"
     ]
    },
    {
     "name": "stderr",
     "output_type": "stream",
     "text": [
      "                                                   \n",
      "  0%|          | 6/7500 [57:25<17:32:26,  8.43s/it] "
     ]
    },
    {
     "name": "stdout",
     "output_type": "stream",
     "text": [
      "{'loss': 19.6513, 'grad_norm': 1836.2559814453125, 'learning_rate': 1.656e-05, 'epoch': 0.17}\n"
     ]
    },
    {
     "name": "stderr",
     "output_type": "stream",
     "text": [
      "                                                   \n",
      "  0%|          | 6/7500 [58:43<17:32:26,  8.43s/it] "
     ]
    },
    {
     "name": "stdout",
     "output_type": "stream",
     "text": [
      "{'loss': 19.9622, 'grad_norm': 509.830810546875, 'learning_rate': 1.648e-05, 'epoch': 0.18}\n"
     ]
    },
    {
     "name": "stderr",
     "output_type": "stream",
     "text": [
      "                                                   \n",
      "  0%|          | 6/7500 [1:00:02<17:32:26,  8.43s/it]"
     ]
    },
    {
     "name": "stdout",
     "output_type": "stream",
     "text": [
      "{'loss': 19.1081, 'grad_norm': 4113.916015625, 'learning_rate': 1.64e-05, 'epoch': 0.18}\n"
     ]
    },
    {
     "name": "stderr",
     "output_type": "stream",
     "text": [
      "                                                     \n",
      "  0%|          | 6/7500 [1:01:20<17:32:26,  8.43s/it] "
     ]
    },
    {
     "name": "stdout",
     "output_type": "stream",
     "text": [
      "{'loss': 18.7832, 'grad_norm': 4734.01904296875, 'learning_rate': 1.632e-05, 'epoch': 0.18}\n"
     ]
    },
    {
     "name": "stderr",
     "output_type": "stream",
     "text": [
      "                                                     \n",
      "  0%|          | 6/7500 [1:02:38<17:32:26,  8.43s/it] "
     ]
    },
    {
     "name": "stdout",
     "output_type": "stream",
     "text": [
      "{'loss': 18.7586, 'grad_norm': 3434.83251953125, 'learning_rate': 1.6240000000000004e-05, 'epoch': 0.19}\n"
     ]
    },
    {
     "name": "stderr",
     "output_type": "stream",
     "text": [
      "                                                     \n",
      "  0%|          | 6/7500 [1:03:56<17:32:26,  8.43s/it] "
     ]
    },
    {
     "name": "stdout",
     "output_type": "stream",
     "text": [
      "{'loss': 18.5635, 'grad_norm': 1468.2576904296875, 'learning_rate': 1.616e-05, 'epoch': 0.19}\n"
     ]
    },
    {
     "name": "stderr",
     "output_type": "stream",
     "text": [
      "                                                     \n",
      "  0%|          | 6/7500 [1:05:13<17:32:26,  8.43s/it] "
     ]
    },
    {
     "name": "stdout",
     "output_type": "stream",
     "text": [
      "{'loss': 18.6405, 'grad_norm': 604.7415771484375, 'learning_rate': 1.6080000000000002e-05, 'epoch': 0.2}\n"
     ]
    },
    {
     "name": "stderr",
     "output_type": "stream",
     "text": [
      "                                                     \n",
      "  0%|          | 6/7500 [1:06:31<17:32:26,  8.43s/it] "
     ]
    },
    {
     "name": "stdout",
     "output_type": "stream",
     "text": [
      "{'loss': 17.9248, 'grad_norm': 1388.180419921875, 'learning_rate': 1.6000000000000003e-05, 'epoch': 0.2}\n"
     ]
    },
    {
     "name": "stderr",
     "output_type": "stream",
     "text": [
      "                                                     \n",
      "  0%|          | 6/7500 [1:07:49<17:32:26,  8.43s/it] "
     ]
    },
    {
     "name": "stdout",
     "output_type": "stream",
     "text": [
      "{'loss': 17.9138, 'grad_norm': 1443.2022705078125, 'learning_rate': 1.5920000000000003e-05, 'epoch': 0.2}\n"
     ]
    },
    {
     "name": "stderr",
     "output_type": "stream",
     "text": [
      "                                                     \n",
      "  0%|          | 6/7500 [1:09:06<17:32:26,  8.43s/it] "
     ]
    },
    {
     "name": "stdout",
     "output_type": "stream",
     "text": [
      "{'loss': 17.0875, 'grad_norm': 1105.114013671875, 'learning_rate': 1.584e-05, 'epoch': 0.21}\n"
     ]
    },
    {
     "name": "stderr",
     "output_type": "stream",
     "text": [
      "                                                     \n",
      "  0%|          | 6/7500 [1:10:22<17:32:26,  8.43s/it] "
     ]
    },
    {
     "name": "stdout",
     "output_type": "stream",
     "text": [
      "{'loss': 17.7066, 'grad_norm': 441.9109191894531, 'learning_rate': 1.576e-05, 'epoch': 0.21}\n"
     ]
    },
    {
     "name": "stderr",
     "output_type": "stream",
     "text": [
      "                                                     \n",
      "  0%|          | 6/7500 [1:11:40<17:32:26,  8.43s/it] "
     ]
    },
    {
     "name": "stdout",
     "output_type": "stream",
     "text": [
      "{'loss': 17.2254, 'grad_norm': 1288.018310546875, 'learning_rate': 1.5680000000000002e-05, 'epoch': 0.22}\n"
     ]
    },
    {
     "name": "stderr",
     "output_type": "stream",
     "text": [
      "                                                     \n",
      "  0%|          | 6/7500 [1:12:57<17:32:26,  8.43s/it] "
     ]
    },
    {
     "name": "stdout",
     "output_type": "stream",
     "text": [
      "{'loss': 17.0542, 'grad_norm': 3257.052001953125, 'learning_rate': 1.5600000000000003e-05, 'epoch': 0.22}\n"
     ]
    },
    {
     "name": "stderr",
     "output_type": "stream",
     "text": [
      "                                                     \n",
      "  0%|          | 6/7500 [1:14:15<17:32:26,  8.43s/it] "
     ]
    },
    {
     "name": "stdout",
     "output_type": "stream",
     "text": [
      "{'loss': 16.6557, 'grad_norm': 674.9089965820312, 'learning_rate': 1.552e-05, 'epoch': 0.22}\n"
     ]
    },
    {
     "name": "stderr",
     "output_type": "stream",
     "text": [
      "                                                     \n",
      "  0%|          | 6/7500 [1:15:34<17:32:26,  8.43s/it] "
     ]
    },
    {
     "name": "stdout",
     "output_type": "stream",
     "text": [
      "{'loss': 16.184, 'grad_norm': 1345.370361328125, 'learning_rate': 1.544e-05, 'epoch': 0.23}\n"
     ]
    },
    {
     "name": "stderr",
     "output_type": "stream",
     "text": [
      "                                                     \n",
      "  0%|          | 6/7500 [1:16:54<17:32:26,  8.43s/it] "
     ]
    },
    {
     "name": "stdout",
     "output_type": "stream",
     "text": [
      "{'loss': 16.4652, 'grad_norm': 2048.18505859375, 'learning_rate': 1.5360000000000002e-05, 'epoch': 0.23}\n"
     ]
    },
    {
     "name": "stderr",
     "output_type": "stream",
     "text": [
      "                                                     \n",
      "  0%|          | 6/7500 [1:18:13<17:32:26,  8.43s/it] "
     ]
    },
    {
     "name": "stdout",
     "output_type": "stream",
     "text": [
      "{'loss': 16.9308, 'grad_norm': 3614.949462890625, 'learning_rate': 1.5280000000000003e-05, 'epoch': 0.24}\n"
     ]
    },
    {
     "name": "stderr",
     "output_type": "stream",
     "text": [
      "                                                     \n",
      "  0%|          | 6/7500 [1:19:30<17:32:26,  8.43s/it] "
     ]
    },
    {
     "name": "stdout",
     "output_type": "stream",
     "text": [
      "{'loss': 15.8135, 'grad_norm': 1022.4423828125, 'learning_rate': 1.5200000000000002e-05, 'epoch': 0.24}\n"
     ]
    },
    {
     "name": "stderr",
     "output_type": "stream",
     "text": [
      "                                                     \n",
      "  0%|          | 6/7500 [1:20:48<17:32:26,  8.43s/it] "
     ]
    },
    {
     "name": "stdout",
     "output_type": "stream",
     "text": [
      "{'loss': 15.8214, 'grad_norm': 1351.6552734375, 'learning_rate': 1.5120000000000001e-05, 'epoch': 0.24}\n"
     ]
    },
    {
     "name": "stderr",
     "output_type": "stream",
     "text": [
      "                                                     \n",
      "  0%|          | 6/7500 [1:22:06<17:32:26,  8.43s/it] "
     ]
    },
    {
     "name": "stdout",
     "output_type": "stream",
     "text": [
      "{'loss': 15.3448, 'grad_norm': 951.930908203125, 'learning_rate': 1.5040000000000002e-05, 'epoch': 0.25}\n"
     ]
    },
    {
     "name": "stderr",
     "output_type": "stream",
     "text": [
      "                                                     \n",
      "  0%|          | 6/7500 [1:23:25<17:32:26,  8.43s/it] "
     ]
    },
    {
     "name": "stdout",
     "output_type": "stream",
     "text": [
      "{'loss': 15.0997, 'grad_norm': 1079.362548828125, 'learning_rate': 1.496e-05, 'epoch': 0.25}\n"
     ]
    },
    {
     "name": "stderr",
     "output_type": "stream",
     "text": [
      "                                                     \n",
      "  0%|          | 6/7500 [1:24:43<17:32:26,  8.43s/it] "
     ]
    },
    {
     "name": "stdout",
     "output_type": "stream",
     "text": [
      "{'loss': 15.4738, 'grad_norm': 466.77093505859375, 'learning_rate': 1.4880000000000002e-05, 'epoch': 0.26}\n"
     ]
    },
    {
     "name": "stderr",
     "output_type": "stream",
     "text": [
      "                                                     \n",
      "  0%|          | 6/7500 [1:26:01<17:32:26,  8.43s/it] "
     ]
    },
    {
     "name": "stdout",
     "output_type": "stream",
     "text": [
      "{'loss': 15.3558, 'grad_norm': 6836.259765625, 'learning_rate': 1.48e-05, 'epoch': 0.26}\n"
     ]
    },
    {
     "name": "stderr",
     "output_type": "stream",
     "text": [
      "                                                     \n",
      "  0%|          | 6/7500 [1:27:18<17:32:26,  8.43s/it] "
     ]
    },
    {
     "name": "stdout",
     "output_type": "stream",
     "text": [
      "{'loss': 14.3511, 'grad_norm': 921.91259765625, 'learning_rate': 1.4720000000000001e-05, 'epoch': 0.26}\n"
     ]
    },
    {
     "name": "stderr",
     "output_type": "stream",
     "text": [
      "                                                     \n",
      "  0%|          | 6/7500 [1:28:36<17:32:26,  8.43s/it] "
     ]
    },
    {
     "name": "stdout",
     "output_type": "stream",
     "text": [
      "{'loss': 14.1813, 'grad_norm': 427.8635559082031, 'learning_rate': 1.464e-05, 'epoch': 0.27}\n"
     ]
    },
    {
     "name": "stderr",
     "output_type": "stream",
     "text": [
      "                                                     \n",
      "  0%|          | 6/7500 [1:29:54<17:32:26,  8.43s/it] "
     ]
    },
    {
     "name": "stdout",
     "output_type": "stream",
     "text": [
      "{'loss': 14.7385, 'grad_norm': 1107.185791015625, 'learning_rate': 1.4560000000000001e-05, 'epoch': 0.27}\n"
     ]
    },
    {
     "name": "stderr",
     "output_type": "stream",
     "text": [
      "                                                     \n",
      "  0%|          | 6/7500 [1:31:12<17:32:26,  8.43s/it] "
     ]
    },
    {
     "name": "stdout",
     "output_type": "stream",
     "text": [
      "{'loss': 14.3286, 'grad_norm': 2264.27392578125, 'learning_rate': 1.448e-05, 'epoch': 0.28}\n"
     ]
    },
    {
     "name": "stderr",
     "output_type": "stream",
     "text": [
      "                                                     \n",
      "  0%|          | 6/7500 [1:32:30<17:32:26,  8.43s/it] "
     ]
    },
    {
     "name": "stdout",
     "output_type": "stream",
     "text": [
      "{'loss': 14.6418, 'grad_norm': 495.48870849609375, 'learning_rate': 1.4400000000000001e-05, 'epoch': 0.28}\n"
     ]
    },
    {
     "name": "stderr",
     "output_type": "stream",
     "text": [
      "                                                     \n",
      "  0%|          | 6/7500 [1:33:48<17:32:26,  8.43s/it] "
     ]
    },
    {
     "name": "stdout",
     "output_type": "stream",
     "text": [
      "{'loss': 13.709, 'grad_norm': 575.5645751953125, 'learning_rate': 1.432e-05, 'epoch': 0.28}\n"
     ]
    },
    {
     "name": "stderr",
     "output_type": "stream",
     "text": [
      "                                                     \n",
      "  0%|          | 6/7500 [1:35:06<17:32:26,  8.43s/it] "
     ]
    },
    {
     "name": "stdout",
     "output_type": "stream",
     "text": [
      "{'loss': 14.4812, 'grad_norm': 1339.8121337890625, 'learning_rate': 1.4240000000000001e-05, 'epoch': 0.29}\n"
     ]
    },
    {
     "name": "stderr",
     "output_type": "stream",
     "text": [
      "                                                     \n",
      "  0%|          | 6/7500 [1:36:24<17:32:26,  8.43s/it] "
     ]
    },
    {
     "name": "stdout",
     "output_type": "stream",
     "text": [
      "{'loss': 13.7096, 'grad_norm': 1653.6785888671875, 'learning_rate': 1.416e-05, 'epoch': 0.29}\n"
     ]
    },
    {
     "name": "stderr",
     "output_type": "stream",
     "text": [
      "                                                     \n",
      "  0%|          | 6/7500 [1:37:41<17:32:26,  8.43s/it] "
     ]
    },
    {
     "name": "stdout",
     "output_type": "stream",
     "text": [
      "{'loss': 13.3608, 'grad_norm': 1513.1954345703125, 'learning_rate': 1.408e-05, 'epoch': 0.3}\n"
     ]
    },
    {
     "name": "stderr",
     "output_type": "stream",
     "text": [
      "                                                     \n",
      "  0%|          | 6/7500 [1:39:00<17:32:26,  8.43s/it] "
     ]
    },
    {
     "name": "stdout",
     "output_type": "stream",
     "text": [
      "{'loss': 13.0755, 'grad_norm': 999.4191284179688, 'learning_rate': 1.4e-05, 'epoch': 0.3}\n"
     ]
    },
    {
     "name": "stderr",
     "output_type": "stream",
     "text": [
      "                                                     \n",
      "  0%|          | 6/7500 [1:40:17<17:32:26,  8.43s/it] "
     ]
    },
    {
     "name": "stdout",
     "output_type": "stream",
     "text": [
      "{'loss': 13.7237, 'grad_norm': 446.1192321777344, 'learning_rate': 1.392e-05, 'epoch': 0.3}\n"
     ]
    },
    {
     "name": "stderr",
     "output_type": "stream",
     "text": [
      "                                                     \n",
      "  0%|          | 6/7500 [1:41:34<17:32:26,  8.43s/it] "
     ]
    },
    {
     "name": "stdout",
     "output_type": "stream",
     "text": [
      "{'loss': 12.7479, 'grad_norm': 368.8188781738281, 'learning_rate': 1.384e-05, 'epoch': 0.31}\n"
     ]
    },
    {
     "name": "stderr",
     "output_type": "stream",
     "text": [
      "                                                     \n",
      "  0%|          | 6/7500 [1:42:51<17:32:26,  8.43s/it] "
     ]
    },
    {
     "name": "stdout",
     "output_type": "stream",
     "text": [
      "{'loss': 12.3271, 'grad_norm': 423.5849609375, 'learning_rate': 1.376e-05, 'epoch': 0.31}\n"
     ]
    },
    {
     "name": "stderr",
     "output_type": "stream",
     "text": [
      "                                                     \n",
      "  0%|          | 6/7500 [1:44:07<17:32:26,  8.43s/it] "
     ]
    },
    {
     "name": "stdout",
     "output_type": "stream",
     "text": [
      "{'loss': 12.397, 'grad_norm': 331.99822998046875, 'learning_rate': 1.3680000000000003e-05, 'epoch': 0.32}\n"
     ]
    },
    {
     "name": "stderr",
     "output_type": "stream",
     "text": [
      "                                                     \n",
      "  0%|          | 6/7500 [1:45:25<17:32:26,  8.43s/it] "
     ]
    },
    {
     "name": "stdout",
     "output_type": "stream",
     "text": [
      "{'loss': 12.394, 'grad_norm': 1179.2147216796875, 'learning_rate': 1.3600000000000002e-05, 'epoch': 0.32}\n"
     ]
    },
    {
     "name": "stderr",
     "output_type": "stream",
     "text": [
      "                                                     \n",
      "  0%|          | 6/7500 [1:46:42<17:32:26,  8.43s/it] "
     ]
    },
    {
     "name": "stdout",
     "output_type": "stream",
     "text": [
      "{'loss': 12.1939, 'grad_norm': 1178.8292236328125, 'learning_rate': 1.3520000000000003e-05, 'epoch': 0.32}\n"
     ]
    },
    {
     "name": "stderr",
     "output_type": "stream",
     "text": [
      "                                                     \n",
      "  0%|          | 6/7500 [1:47:59<17:32:26,  8.43s/it] "
     ]
    },
    {
     "name": "stdout",
     "output_type": "stream",
     "text": [
      "{'loss': 12.3399, 'grad_norm': 779.6805419921875, 'learning_rate': 1.3440000000000002e-05, 'epoch': 0.33}\n"
     ]
    },
    {
     "name": "stderr",
     "output_type": "stream",
     "text": [
      "                                                     \n",
      "  0%|          | 6/7500 [1:49:16<17:32:26,  8.43s/it] "
     ]
    },
    {
     "name": "stdout",
     "output_type": "stream",
     "text": [
      "{'loss': 12.3347, 'grad_norm': 269.21148681640625, 'learning_rate': 1.3360000000000003e-05, 'epoch': 0.33}\n"
     ]
    },
    {
     "name": "stderr",
     "output_type": "stream",
     "text": [
      "                                                     \n",
      "  0%|          | 6/7500 [1:50:33<17:32:26,  8.43s/it] "
     ]
    },
    {
     "name": "stdout",
     "output_type": "stream",
     "text": [
      "{'loss': 11.9208, 'grad_norm': 645.361328125, 'learning_rate': 1.3280000000000002e-05, 'epoch': 0.34}\n"
     ]
    },
    {
     "name": "stderr",
     "output_type": "stream",
     "text": [
      "                                                     \n",
      "  0%|          | 6/7500 [1:51:52<17:32:26,  8.43s/it] "
     ]
    },
    {
     "name": "stdout",
     "output_type": "stream",
     "text": [
      "{'loss': 11.7556, 'grad_norm': 338.7598876953125, 'learning_rate': 1.3200000000000002e-05, 'epoch': 0.34}\n"
     ]
    },
    {
     "name": "stderr",
     "output_type": "stream",
     "text": [
      "                                                     \n",
      "  0%|          | 6/7500 [1:53:10<17:32:26,  8.43s/it] "
     ]
    },
    {
     "name": "stdout",
     "output_type": "stream",
     "text": [
      "{'loss': 11.6089, 'grad_norm': 700.8136596679688, 'learning_rate': 1.3120000000000001e-05, 'epoch': 0.34}\n"
     ]
    },
    {
     "name": "stderr",
     "output_type": "stream",
     "text": [
      "                                                     \n",
      "  0%|          | 6/7500 [1:54:27<17:32:26,  8.43s/it] "
     ]
    },
    {
     "name": "stdout",
     "output_type": "stream",
     "text": [
      "{'loss': 11.5793, 'grad_norm': 1437.9871826171875, 'learning_rate': 1.3040000000000002e-05, 'epoch': 0.35}\n"
     ]
    },
    {
     "name": "stderr",
     "output_type": "stream",
     "text": [
      "                                                     \n",
      "  0%|          | 6/7500 [1:55:45<17:32:26,  8.43s/it] "
     ]
    },
    {
     "name": "stdout",
     "output_type": "stream",
     "text": [
      "{'loss': 11.4873, 'grad_norm': 262.7764892578125, 'learning_rate': 1.2960000000000001e-05, 'epoch': 0.35}\n"
     ]
    },
    {
     "name": "stderr",
     "output_type": "stream",
     "text": [
      "                                                     \n",
      "  0%|          | 6/7500 [1:57:04<17:32:26,  8.43s/it] "
     ]
    },
    {
     "name": "stdout",
     "output_type": "stream",
     "text": [
      "{'loss': 11.0406, 'grad_norm': 655.39013671875, 'learning_rate': 1.2880000000000002e-05, 'epoch': 0.36}\n"
     ]
    },
    {
     "name": "stderr",
     "output_type": "stream",
     "text": [
      "                                                     \n",
      "  0%|          | 6/7500 [1:58:23<17:32:26,  8.43s/it] "
     ]
    },
    {
     "name": "stdout",
     "output_type": "stream",
     "text": [
      "{'loss': 10.8982, 'grad_norm': 584.7565307617188, 'learning_rate': 1.2800000000000001e-05, 'epoch': 0.36}\n"
     ]
    },
    {
     "name": "stderr",
     "output_type": "stream",
     "text": [
      "                                                     \n",
      "  0%|          | 6/7500 [1:59:40<17:32:26,  8.43s/it] "
     ]
    },
    {
     "name": "stdout",
     "output_type": "stream",
     "text": [
      "{'loss': 10.9171, 'grad_norm': 1198.3580322265625, 'learning_rate': 1.2720000000000002e-05, 'epoch': 0.36}\n"
     ]
    },
    {
     "name": "stderr",
     "output_type": "stream",
     "text": [
      "                                                     \n",
      "  0%|          | 6/7500 [2:00:57<17:32:26,  8.43s/it] "
     ]
    },
    {
     "name": "stdout",
     "output_type": "stream",
     "text": [
      "{'loss': 11.2355, 'grad_norm': 1224.8868408203125, 'learning_rate': 1.2640000000000001e-05, 'epoch': 0.37}\n"
     ]
    },
    {
     "name": "stderr",
     "output_type": "stream",
     "text": [
      "                                                     \n",
      "  0%|          | 6/7500 [2:02:14<17:32:26,  8.43s/it] "
     ]
    },
    {
     "name": "stdout",
     "output_type": "stream",
     "text": [
      "{'loss': 10.9011, 'grad_norm': 5371.4970703125, 'learning_rate': 1.2560000000000002e-05, 'epoch': 0.37}\n"
     ]
    },
    {
     "name": "stderr",
     "output_type": "stream",
     "text": [
      "                                                     \n",
      "  0%|          | 6/7500 [2:03:32<17:32:26,  8.43s/it] "
     ]
    },
    {
     "name": "stdout",
     "output_type": "stream",
     "text": [
      "{'loss': 10.5679, 'grad_norm': 283.0589599609375, 'learning_rate': 1.248e-05, 'epoch': 0.38}\n"
     ]
    },
    {
     "name": "stderr",
     "output_type": "stream",
     "text": [
      "                                                     \n",
      "  0%|          | 6/7500 [2:04:49<17:32:26,  8.43s/it] "
     ]
    },
    {
     "name": "stdout",
     "output_type": "stream",
     "text": [
      "{'loss': 10.4441, 'grad_norm': 409.1608581542969, 'learning_rate': 1.2400000000000002e-05, 'epoch': 0.38}\n"
     ]
    },
    {
     "name": "stderr",
     "output_type": "stream",
     "text": [
      "                                                     \n",
      "  0%|          | 6/7500 [2:06:07<17:32:26,  8.43s/it] "
     ]
    },
    {
     "name": "stdout",
     "output_type": "stream",
     "text": [
      "{'loss': 10.4043, 'grad_norm': 1007.6096801757812, 'learning_rate': 1.232e-05, 'epoch': 0.38}\n"
     ]
    },
    {
     "name": "stderr",
     "output_type": "stream",
     "text": [
      "                                                     \n",
      "  0%|          | 6/7500 [2:07:25<17:32:26,  8.43s/it] "
     ]
    },
    {
     "name": "stdout",
     "output_type": "stream",
     "text": [
      "{'loss': 10.3868, 'grad_norm': 624.1979370117188, 'learning_rate': 1.2240000000000001e-05, 'epoch': 0.39}\n"
     ]
    },
    {
     "name": "stderr",
     "output_type": "stream",
     "text": [
      "                                                     \n",
      "  0%|          | 6/7500 [2:08:42<17:32:26,  8.43s/it] "
     ]
    },
    {
     "name": "stdout",
     "output_type": "stream",
     "text": [
      "{'loss': 10.3934, 'grad_norm': 247.43118286132812, 'learning_rate': 1.216e-05, 'epoch': 0.39}\n"
     ]
    },
    {
     "name": "stderr",
     "output_type": "stream",
     "text": [
      "                                                     \n",
      "  0%|          | 6/7500 [2:10:00<17:32:26,  8.43s/it] "
     ]
    },
    {
     "name": "stdout",
     "output_type": "stream",
     "text": [
      "{'loss': 10.4353, 'grad_norm': 1934.412353515625, 'learning_rate': 1.2080000000000001e-05, 'epoch': 0.4}\n"
     ]
    },
    {
     "name": "stderr",
     "output_type": "stream",
     "text": [
      "                                                     \n",
      "  0%|          | 6/7500 [2:11:17<17:32:26,  8.43s/it]  "
     ]
    },
    {
     "name": "stdout",
     "output_type": "stream",
     "text": [
      "{'loss': 10.0785, 'grad_norm': 524.4196166992188, 'learning_rate': 1.2e-05, 'epoch': 0.4}\n"
     ]
    },
    {
     "name": "stderr",
     "output_type": "stream",
     "text": [
      "                                                     \n",
      "  0%|          | 6/7500 [2:12:34<17:32:26,  8.43s/it]  "
     ]
    },
    {
     "name": "stdout",
     "output_type": "stream",
     "text": [
      "{'loss': 9.8074, 'grad_norm': 561.4884643554688, 'learning_rate': 1.1920000000000001e-05, 'epoch': 0.4}\n"
     ]
    },
    {
     "name": "stderr",
     "output_type": "stream",
     "text": [
      "                                                     \n",
      "  0%|          | 6/7500 [2:13:51<17:32:26,  8.43s/it]  "
     ]
    },
    {
     "name": "stdout",
     "output_type": "stream",
     "text": [
      "{'loss': 10.1737, 'grad_norm': 389.45880126953125, 'learning_rate': 1.184e-05, 'epoch': 0.41}\n"
     ]
    },
    {
     "name": "stderr",
     "output_type": "stream",
     "text": [
      "                                                     \n",
      "  0%|          | 6/7500 [2:15:08<17:32:26,  8.43s/it]  "
     ]
    },
    {
     "name": "stdout",
     "output_type": "stream",
     "text": [
      "{'loss': 9.9435, 'grad_norm': 443.2567443847656, 'learning_rate': 1.1760000000000001e-05, 'epoch': 0.41}\n"
     ]
    },
    {
     "name": "stderr",
     "output_type": "stream",
     "text": [
      "                                                     \n",
      "  0%|          | 6/7500 [2:16:40<17:32:26,  8.43s/it]  "
     ]
    },
    {
     "name": "stdout",
     "output_type": "stream",
     "text": [
      "{'loss': 9.5347, 'grad_norm': 338.6741027832031, 'learning_rate': 1.168e-05, 'epoch': 0.42}\n"
     ]
    },
    {
     "name": "stderr",
     "output_type": "stream",
     "text": [
      "                                                     \n",
      "  0%|          | 6/7500 [2:18:12<17:32:26,  8.43s/it]  "
     ]
    },
    {
     "name": "stdout",
     "output_type": "stream",
     "text": [
      "{'loss': 9.8522, 'grad_norm': 513.2328491210938, 'learning_rate': 1.16e-05, 'epoch': 0.42}\n"
     ]
    },
    {
     "name": "stderr",
     "output_type": "stream",
     "text": [
      "                                                     \n",
      "  0%|          | 6/7500 [3:37:40<17:32:26,  8.43s/it]   "
     ]
    },
    {
     "name": "stdout",
     "output_type": "stream",
     "text": [
      "{'loss': 9.7707, 'grad_norm': 481.00299072265625, 'learning_rate': 1.152e-05, 'epoch': 0.42}\n"
     ]
    },
    {
     "name": "stderr",
     "output_type": "stream",
     "text": [
      "                                                     \n",
      "  0%|          | 6/7500 [3:39:12<17:32:26,  8.43s/it]  "
     ]
    },
    {
     "name": "stdout",
     "output_type": "stream",
     "text": [
      "{'loss': 9.4917, 'grad_norm': 3740.028564453125, 'learning_rate': 1.144e-05, 'epoch': 0.43}\n"
     ]
    },
    {
     "name": "stderr",
     "output_type": "stream",
     "text": [
      "                                                     \n",
      "  0%|          | 6/7500 [3:40:46<17:32:26,  8.43s/it]  "
     ]
    },
    {
     "name": "stdout",
     "output_type": "stream",
     "text": [
      "{'loss': 9.4348, 'grad_norm': 445.414306640625, 'learning_rate': 1.136e-05, 'epoch': 0.43}\n"
     ]
    },
    {
     "name": "stderr",
     "output_type": "stream",
     "text": [
      "                                                     \n",
      "  0%|          | 6/7500 [3:42:21<17:32:26,  8.43s/it]  "
     ]
    },
    {
     "name": "stdout",
     "output_type": "stream",
     "text": [
      "{'loss': 9.1066, 'grad_norm': 722.503173828125, 'learning_rate': 1.128e-05, 'epoch': 0.44}\n"
     ]
    },
    {
     "name": "stderr",
     "output_type": "stream",
     "text": [
      "                                                     \n",
      "  0%|          | 6/7500 [3:43:55<17:32:26,  8.43s/it]  "
     ]
    },
    {
     "name": "stdout",
     "output_type": "stream",
     "text": [
      "{'loss': 9.5531, 'grad_norm': 303.5098876953125, 'learning_rate': 1.1200000000000001e-05, 'epoch': 0.44}\n"
     ]
    },
    {
     "name": "stderr",
     "output_type": "stream",
     "text": [
      "                                                     \n",
      "  0%|          | 6/7500 [3:45:29<17:32:26,  8.43s/it]  "
     ]
    },
    {
     "name": "stdout",
     "output_type": "stream",
     "text": [
      "{'loss': 9.3415, 'grad_norm': 398.78887939453125, 'learning_rate': 1.1120000000000002e-05, 'epoch': 0.44}\n"
     ]
    },
    {
     "name": "stderr",
     "output_type": "stream",
     "text": [
      "                                                     \n",
      "  0%|          | 6/7500 [3:47:01<17:32:26,  8.43s/it]  "
     ]
    },
    {
     "name": "stdout",
     "output_type": "stream",
     "text": [
      "{'loss': 8.8703, 'grad_norm': 1123.004150390625, 'learning_rate': 1.1040000000000001e-05, 'epoch': 0.45}\n"
     ]
    },
    {
     "name": "stderr",
     "output_type": "stream",
     "text": [
      "                                                     \n",
      "  0%|          | 6/7500 [3:48:34<17:32:26,  8.43s/it]  "
     ]
    },
    {
     "name": "stdout",
     "output_type": "stream",
     "text": [
      "{'loss': 9.1563, 'grad_norm': 362.2789306640625, 'learning_rate': 1.0960000000000002e-05, 'epoch': 0.45}\n"
     ]
    },
    {
     "name": "stderr",
     "output_type": "stream",
     "text": [
      "                                                     \n",
      "  0%|          | 6/7500 [3:50:07<17:32:26,  8.43s/it]  "
     ]
    },
    {
     "name": "stdout",
     "output_type": "stream",
     "text": [
      "{'loss': 8.5854, 'grad_norm': 1545.5245361328125, 'learning_rate': 1.0880000000000001e-05, 'epoch': 0.46}\n"
     ]
    },
    {
     "name": "stderr",
     "output_type": "stream",
     "text": [
      "                                                     \n",
      "  0%|          | 6/7500 [3:51:40<17:32:26,  8.43s/it]  "
     ]
    },
    {
     "name": "stdout",
     "output_type": "stream",
     "text": [
      "{'loss': 8.8714, 'grad_norm': 342.2921142578125, 'learning_rate': 1.0800000000000002e-05, 'epoch': 0.46}\n"
     ]
    },
    {
     "name": "stderr",
     "output_type": "stream",
     "text": [
      "                                                     \n",
      "  0%|          | 6/7500 [3:53:13<17:32:26,  8.43s/it]  "
     ]
    },
    {
     "name": "stdout",
     "output_type": "stream",
     "text": [
      "{'loss': 9.012, 'grad_norm': 3883.854248046875, 'learning_rate': 1.072e-05, 'epoch': 0.46}\n"
     ]
    },
    {
     "name": "stderr",
     "output_type": "stream",
     "text": [
      "                                                     \n",
      "  0%|          | 6/7500 [3:54:46<17:32:26,  8.43s/it]  "
     ]
    },
    {
     "name": "stdout",
     "output_type": "stream",
     "text": [
      "{'loss': 8.8698, 'grad_norm': 659.8582153320312, 'learning_rate': 1.0640000000000001e-05, 'epoch': 0.47}\n"
     ]
    },
    {
     "name": "stderr",
     "output_type": "stream",
     "text": [
      "                                                     \n",
      "  0%|          | 6/7500 [3:56:19<17:32:26,  8.43s/it]  "
     ]
    },
    {
     "name": "stdout",
     "output_type": "stream",
     "text": [
      "{'loss': 8.8656, 'grad_norm': 363.3125305175781, 'learning_rate': 1.056e-05, 'epoch': 0.47}\n"
     ]
    },
    {
     "name": "stderr",
     "output_type": "stream",
     "text": [
      "                                                     \n",
      "  0%|          | 6/7500 [3:57:52<17:32:26,  8.43s/it]  "
     ]
    },
    {
     "name": "stdout",
     "output_type": "stream",
     "text": [
      "{'loss': 8.8556, 'grad_norm': 1320.576416015625, 'learning_rate': 1.0480000000000001e-05, 'epoch': 0.48}\n"
     ]
    },
    {
     "name": "stderr",
     "output_type": "stream",
     "text": [
      "                                                     \n",
      "  0%|          | 6/7500 [3:59:26<17:32:26,  8.43s/it]  "
     ]
    },
    {
     "name": "stdout",
     "output_type": "stream",
     "text": [
      "{'loss': 8.7485, 'grad_norm': 806.7913818359375, 'learning_rate': 1.04e-05, 'epoch': 0.48}\n"
     ]
    },
    {
     "name": "stderr",
     "output_type": "stream",
     "text": [
      "                                                     \n",
      "  0%|          | 6/7500 [4:01:00<17:32:26,  8.43s/it]  "
     ]
    },
    {
     "name": "stdout",
     "output_type": "stream",
     "text": [
      "{'loss': 8.7196, 'grad_norm': 486.7948913574219, 'learning_rate': 1.0320000000000001e-05, 'epoch': 0.48}\n"
     ]
    },
    {
     "name": "stderr",
     "output_type": "stream",
     "text": [
      "                                                     \n",
      "  0%|          | 6/7500 [4:02:34<17:32:26,  8.43s/it]  "
     ]
    },
    {
     "name": "stdout",
     "output_type": "stream",
     "text": [
      "{'loss': 8.2513, 'grad_norm': 568.4244995117188, 'learning_rate': 1.024e-05, 'epoch': 0.49}\n"
     ]
    },
    {
     "name": "stderr",
     "output_type": "stream",
     "text": [
      "                                                     \n",
      "  0%|          | 6/7500 [4:03:57<17:32:26,  8.43s/it]  "
     ]
    },
    {
     "name": "stdout",
     "output_type": "stream",
     "text": [
      "{'loss': 8.4949, 'grad_norm': 344.3664855957031, 'learning_rate': 1.0160000000000001e-05, 'epoch': 0.49}\n"
     ]
    },
    {
     "name": "stderr",
     "output_type": "stream",
     "text": [
      "                                                     \n",
      "  0%|          | 6/7500 [4:05:08<17:32:26,  8.43s/it]  "
     ]
    },
    {
     "name": "stdout",
     "output_type": "stream",
     "text": [
      "{'loss': 8.1216, 'grad_norm': 653.5921630859375, 'learning_rate': 1.008e-05, 'epoch': 0.5}\n"
     ]
    },
    {
     "name": "stderr",
     "output_type": "stream",
     "text": [
      "                                                     \n",
      "  0%|          | 6/7500 [4:06:18<17:32:26,  8.43s/it]  "
     ]
    },
    {
     "name": "stdout",
     "output_type": "stream",
     "text": [
      "{'loss': 8.2717, 'grad_norm': 316.9374694824219, 'learning_rate': 1e-05, 'epoch': 0.5}\n"
     ]
    },
    {
     "name": "stderr",
     "output_type": "stream",
     "text": [
      "                                                     \n",
      "  0%|          | 6/7500 [4:07:28<17:32:26,  8.43s/it]  "
     ]
    },
    {
     "name": "stdout",
     "output_type": "stream",
     "text": [
      "{'loss': 7.8252, 'grad_norm': 268.9579162597656, 'learning_rate': 9.920000000000002e-06, 'epoch': 0.5}\n"
     ]
    },
    {
     "name": "stderr",
     "output_type": "stream",
     "text": [
      "                                                     \n",
      "  0%|          | 6/7500 [4:08:39<17:32:26,  8.43s/it]  "
     ]
    },
    {
     "name": "stdout",
     "output_type": "stream",
     "text": [
      "{'loss': 8.1921, 'grad_norm': 362.0890197753906, 'learning_rate': 9.84e-06, 'epoch': 0.51}\n"
     ]
    },
    {
     "name": "stderr",
     "output_type": "stream",
     "text": [
      "                                                     \n",
      "  0%|          | 6/7500 [4:09:52<17:32:26,  8.43s/it]  "
     ]
    },
    {
     "name": "stdout",
     "output_type": "stream",
     "text": [
      "{'loss': 8.1186, 'grad_norm': 472.3583679199219, 'learning_rate': 9.760000000000001e-06, 'epoch': 0.51}\n"
     ]
    },
    {
     "name": "stderr",
     "output_type": "stream",
     "text": [
      "                                                     \n",
      "  0%|          | 6/7500 [4:11:04<17:32:26,  8.43s/it]  "
     ]
    },
    {
     "name": "stdout",
     "output_type": "stream",
     "text": [
      "{'loss': 7.831, 'grad_norm': 368.4115905761719, 'learning_rate': 9.68e-06, 'epoch': 0.52}\n"
     ]
    },
    {
     "name": "stderr",
     "output_type": "stream",
     "text": [
      "                                                     \n",
      "  0%|          | 6/7500 [4:12:15<17:32:26,  8.43s/it]  "
     ]
    },
    {
     "name": "stdout",
     "output_type": "stream",
     "text": [
      "{'loss': 7.7369, 'grad_norm': 1986.5787353515625, 'learning_rate': 9.600000000000001e-06, 'epoch': 0.52}\n"
     ]
    },
    {
     "name": "stderr",
     "output_type": "stream",
     "text": [
      "                                                     \n",
      "  0%|          | 6/7500 [4:13:26<17:32:26,  8.43s/it]  "
     ]
    },
    {
     "name": "stdout",
     "output_type": "stream",
     "text": [
      "{'loss': 8.1639, 'grad_norm': 99.16883850097656, 'learning_rate': 9.52e-06, 'epoch': 0.52}\n"
     ]
    },
    {
     "name": "stderr",
     "output_type": "stream",
     "text": [
      "                                                     \n",
      "  0%|          | 6/7500 [4:14:37<17:32:26,  8.43s/it]  "
     ]
    },
    {
     "name": "stdout",
     "output_type": "stream",
     "text": [
      "{'loss': 7.5862, 'grad_norm': 1298.030029296875, 'learning_rate': 9.440000000000001e-06, 'epoch': 0.53}\n"
     ]
    },
    {
     "name": "stderr",
     "output_type": "stream",
     "text": [
      "                                                     \n",
      "  0%|          | 6/7500 [4:15:48<17:32:26,  8.43s/it]  "
     ]
    },
    {
     "name": "stdout",
     "output_type": "stream",
     "text": [
      "{'loss': 7.8341, 'grad_norm': 499.1407165527344, 'learning_rate': 9.360000000000002e-06, 'epoch': 0.53}\n"
     ]
    },
    {
     "name": "stderr",
     "output_type": "stream",
     "text": [
      "                                                     \n",
      "  0%|          | 6/7500 [4:16:59<17:32:26,  8.43s/it]  "
     ]
    },
    {
     "name": "stdout",
     "output_type": "stream",
     "text": [
      "{'loss': 7.6509, 'grad_norm': 286.2748718261719, 'learning_rate': 9.280000000000001e-06, 'epoch': 0.54}\n"
     ]
    },
    {
     "name": "stderr",
     "output_type": "stream",
     "text": [
      "                                                     \n",
      "  0%|          | 6/7500 [4:18:10<17:32:26,  8.43s/it]  "
     ]
    },
    {
     "name": "stdout",
     "output_type": "stream",
     "text": [
      "{'loss': 7.4513, 'grad_norm': 506.72760009765625, 'learning_rate': 9.200000000000002e-06, 'epoch': 0.54}\n"
     ]
    },
    {
     "name": "stderr",
     "output_type": "stream",
     "text": [
      "                                                     \n",
      "  0%|          | 6/7500 [4:19:22<17:32:26,  8.43s/it]  "
     ]
    },
    {
     "name": "stdout",
     "output_type": "stream",
     "text": [
      "{'loss': 7.4673, 'grad_norm': 1641.9501953125, 'learning_rate': 9.12e-06, 'epoch': 0.54}\n"
     ]
    },
    {
     "name": "stderr",
     "output_type": "stream",
     "text": [
      "                                                     \n",
      "  0%|          | 6/7500 [4:20:33<17:32:26,  8.43s/it]  "
     ]
    },
    {
     "name": "stdout",
     "output_type": "stream",
     "text": [
      "{'loss': 7.4201, 'grad_norm': 552.9197387695312, 'learning_rate': 9.040000000000002e-06, 'epoch': 0.55}\n"
     ]
    },
    {
     "name": "stderr",
     "output_type": "stream",
     "text": [
      "                                                     \n",
      "  0%|          | 6/7500 [4:21:44<17:32:26,  8.43s/it]  "
     ]
    },
    {
     "name": "stdout",
     "output_type": "stream",
     "text": [
      "{'loss': 7.9843, 'grad_norm': 378.48712158203125, 'learning_rate': 8.96e-06, 'epoch': 0.55}\n"
     ]
    },
    {
     "name": "stderr",
     "output_type": "stream",
     "text": [
      "                                                     \n",
      "  0%|          | 6/7500 [4:22:56<17:32:26,  8.43s/it]  "
     ]
    },
    {
     "name": "stdout",
     "output_type": "stream",
     "text": [
      "{'loss': 7.4325, 'grad_norm': 236.40420532226562, 'learning_rate': 8.880000000000001e-06, 'epoch': 0.56}\n"
     ]
    },
    {
     "name": "stderr",
     "output_type": "stream",
     "text": [
      "                                                     \n",
      "  0%|          | 6/7500 [4:24:07<17:32:26,  8.43s/it]  "
     ]
    },
    {
     "name": "stdout",
     "output_type": "stream",
     "text": [
      "{'loss': 7.6977, 'grad_norm': 1531.528564453125, 'learning_rate': 8.8e-06, 'epoch': 0.56}\n"
     ]
    },
    {
     "name": "stderr",
     "output_type": "stream",
     "text": [
      "                                                     \n",
      "  0%|          | 6/7500 [4:25:18<17:32:26,  8.43s/it]  "
     ]
    },
    {
     "name": "stdout",
     "output_type": "stream",
     "text": [
      "{'loss': 7.482, 'grad_norm': 546.7688598632812, 'learning_rate': 8.720000000000001e-06, 'epoch': 0.56}\n"
     ]
    },
    {
     "name": "stderr",
     "output_type": "stream",
     "text": [
      "                                                     \n",
      "  0%|          | 6/7500 [4:26:29<17:32:26,  8.43s/it]  "
     ]
    },
    {
     "name": "stdout",
     "output_type": "stream",
     "text": [
      "{'loss': 7.3829, 'grad_norm': 163.6239776611328, 'learning_rate': 8.64e-06, 'epoch': 0.57}\n"
     ]
    },
    {
     "name": "stderr",
     "output_type": "stream",
     "text": [
      "                                                     \n",
      "  0%|          | 6/7500 [4:27:40<17:32:26,  8.43s/it]  "
     ]
    },
    {
     "name": "stdout",
     "output_type": "stream",
     "text": [
      "{'loss': 7.1764, 'grad_norm': 259.2082214355469, 'learning_rate': 8.560000000000001e-06, 'epoch': 0.57}\n"
     ]
    },
    {
     "name": "stderr",
     "output_type": "stream",
     "text": [
      "                                                     \n",
      "  0%|          | 6/7500 [4:28:50<17:32:26,  8.43s/it]  "
     ]
    },
    {
     "name": "stdout",
     "output_type": "stream",
     "text": [
      "{'loss': 7.4715, 'grad_norm': 1399.6409912109375, 'learning_rate': 8.48e-06, 'epoch': 0.58}\n"
     ]
    },
    {
     "name": "stderr",
     "output_type": "stream",
     "text": [
      "                                                     \n",
      "  0%|          | 6/7500 [4:30:01<17:32:26,  8.43s/it]  "
     ]
    },
    {
     "name": "stdout",
     "output_type": "stream",
     "text": [
      "{'loss': 7.3404, 'grad_norm': 4966.10205078125, 'learning_rate': 8.400000000000001e-06, 'epoch': 0.58}\n"
     ]
    },
    {
     "name": "stderr",
     "output_type": "stream",
     "text": [
      "                                                     \n",
      "  0%|          | 6/7500 [4:31:12<17:32:26,  8.43s/it]  "
     ]
    },
    {
     "name": "stdout",
     "output_type": "stream",
     "text": [
      "{'loss': 7.0874, 'grad_norm': 1444.624267578125, 'learning_rate': 8.32e-06, 'epoch': 0.58}\n"
     ]
    },
    {
     "name": "stderr",
     "output_type": "stream",
     "text": [
      "                                                     \n",
      "  0%|          | 6/7500 [4:32:23<17:32:26,  8.43s/it]  "
     ]
    },
    {
     "name": "stdout",
     "output_type": "stream",
     "text": [
      "{'loss': 7.15, 'grad_norm': 142.67562866210938, 'learning_rate': 8.24e-06, 'epoch': 0.59}\n"
     ]
    },
    {
     "name": "stderr",
     "output_type": "stream",
     "text": [
      "                                                     \n",
      "  0%|          | 6/7500 [4:33:33<17:32:26,  8.43s/it]  "
     ]
    },
    {
     "name": "stdout",
     "output_type": "stream",
     "text": [
      "{'loss': 7.1644, 'grad_norm': 744.0586547851562, 'learning_rate': 8.16e-06, 'epoch': 0.59}\n"
     ]
    },
    {
     "name": "stderr",
     "output_type": "stream",
     "text": [
      "                                                     \n",
      "  0%|          | 6/7500 [4:34:44<17:32:26,  8.43s/it]  "
     ]
    },
    {
     "name": "stdout",
     "output_type": "stream",
     "text": [
      "{'loss': 6.9612, 'grad_norm': 591.82275390625, 'learning_rate': 8.08e-06, 'epoch': 0.6}\n"
     ]
    },
    {
     "name": "stderr",
     "output_type": "stream",
     "text": [
      "                                                     \n",
      "  0%|          | 6/7500 [4:35:56<17:32:26,  8.43s/it]  "
     ]
    },
    {
     "name": "stdout",
     "output_type": "stream",
     "text": [
      "{'loss': 7.0076, 'grad_norm': 4747.7041015625, 'learning_rate': 8.000000000000001e-06, 'epoch': 0.6}\n"
     ]
    },
    {
     "name": "stderr",
     "output_type": "stream",
     "text": [
      "                                                     \n",
      "  0%|          | 6/7500 [4:37:07<17:32:26,  8.43s/it]  "
     ]
    },
    {
     "name": "stdout",
     "output_type": "stream",
     "text": [
      "{'loss': 6.9241, 'grad_norm': 173.6011199951172, 'learning_rate': 7.92e-06, 'epoch': 0.6}\n"
     ]
    },
    {
     "name": "stderr",
     "output_type": "stream",
     "text": [
      "                                                     \n",
      "  0%|          | 6/7500 [4:38:19<17:32:26,  8.43s/it]  "
     ]
    },
    {
     "name": "stdout",
     "output_type": "stream",
     "text": [
      "{'loss': 7.4288, 'grad_norm': 136.71627807617188, 'learning_rate': 7.840000000000001e-06, 'epoch': 0.61}\n"
     ]
    },
    {
     "name": "stderr",
     "output_type": "stream",
     "text": [
      "                                                     \n",
      "  0%|          | 6/7500 [4:39:30<17:32:26,  8.43s/it]  "
     ]
    },
    {
     "name": "stdout",
     "output_type": "stream",
     "text": [
      "{'loss': 6.7204, 'grad_norm': 342.0278015136719, 'learning_rate': 7.76e-06, 'epoch': 0.61}\n"
     ]
    },
    {
     "name": "stderr",
     "output_type": "stream",
     "text": [
      "                                                     \n",
      "  0%|          | 6/7500 [4:40:41<17:32:26,  8.43s/it]  "
     ]
    },
    {
     "name": "stdout",
     "output_type": "stream",
     "text": [
      "{'loss': 6.8169, 'grad_norm': 197.17825317382812, 'learning_rate': 7.680000000000001e-06, 'epoch': 0.62}\n"
     ]
    },
    {
     "name": "stderr",
     "output_type": "stream",
     "text": [
      "                                                     \n",
      "  0%|          | 6/7500 [4:41:51<17:32:26,  8.43s/it]  "
     ]
    },
    {
     "name": "stdout",
     "output_type": "stream",
     "text": [
      "{'loss': 6.7625, 'grad_norm': 94.64596557617188, 'learning_rate': 7.600000000000001e-06, 'epoch': 0.62}\n"
     ]
    },
    {
     "name": "stderr",
     "output_type": "stream",
     "text": [
      "                                                     \n",
      "  0%|          | 6/7500 [4:43:02<17:32:26,  8.43s/it]  "
     ]
    },
    {
     "name": "stdout",
     "output_type": "stream",
     "text": [
      "{'loss': 6.8837, 'grad_norm': 721.543701171875, 'learning_rate': 7.520000000000001e-06, 'epoch': 0.62}\n"
     ]
    },
    {
     "name": "stderr",
     "output_type": "stream",
     "text": [
      "                                                     \n",
      "  0%|          | 6/7500 [4:44:13<17:32:26,  8.43s/it]  "
     ]
    },
    {
     "name": "stdout",
     "output_type": "stream",
     "text": [
      "{'loss': 6.7664, 'grad_norm': 344.3021240234375, 'learning_rate': 7.440000000000001e-06, 'epoch': 0.63}\n"
     ]
    },
    {
     "name": "stderr",
     "output_type": "stream",
     "text": [
      "                                                     \n",
      "  0%|          | 6/7500 [4:45:24<17:32:26,  8.43s/it]  "
     ]
    },
    {
     "name": "stdout",
     "output_type": "stream",
     "text": [
      "{'loss': 6.8166, 'grad_norm': 481.5422668457031, 'learning_rate': 7.360000000000001e-06, 'epoch': 0.63}\n"
     ]
    },
    {
     "name": "stderr",
     "output_type": "stream",
     "text": [
      "                                                     \n",
      "  0%|          | 6/7500 [4:46:35<17:32:26,  8.43s/it]  "
     ]
    },
    {
     "name": "stdout",
     "output_type": "stream",
     "text": [
      "{'loss': 6.4522, 'grad_norm': 964.45947265625, 'learning_rate': 7.280000000000001e-06, 'epoch': 0.64}\n"
     ]
    },
    {
     "name": "stderr",
     "output_type": "stream",
     "text": [
      "                                                     \n",
      "  0%|          | 6/7500 [4:47:45<17:32:26,  8.43s/it]  "
     ]
    },
    {
     "name": "stdout",
     "output_type": "stream",
     "text": [
      "{'loss': 6.3257, 'grad_norm': 134.69337463378906, 'learning_rate': 7.2000000000000005e-06, 'epoch': 0.64}\n"
     ]
    },
    {
     "name": "stderr",
     "output_type": "stream",
     "text": [
      "                                                     \n",
      "  0%|          | 6/7500 [4:48:56<17:32:26,  8.43s/it]  "
     ]
    },
    {
     "name": "stdout",
     "output_type": "stream",
     "text": [
      "{'loss': 6.399, 'grad_norm': 12622.8681640625, 'learning_rate': 7.1200000000000004e-06, 'epoch': 0.64}\n"
     ]
    },
    {
     "name": "stderr",
     "output_type": "stream",
     "text": [
      "                                                     \n",
      "  0%|          | 6/7500 [4:50:07<17:32:26,  8.43s/it]  "
     ]
    },
    {
     "name": "stdout",
     "output_type": "stream",
     "text": [
      "{'loss': 6.3509, 'grad_norm': 144.90658569335938, 'learning_rate': 7.04e-06, 'epoch': 0.65}\n"
     ]
    },
    {
     "name": "stderr",
     "output_type": "stream",
     "text": [
      "                                                     \n",
      "  0%|          | 6/7500 [4:51:18<17:32:26,  8.43s/it]  "
     ]
    },
    {
     "name": "stdout",
     "output_type": "stream",
     "text": [
      "{'loss': 6.3003, 'grad_norm': 475.7489013671875, 'learning_rate': 6.96e-06, 'epoch': 0.65}\n"
     ]
    },
    {
     "name": "stderr",
     "output_type": "stream",
     "text": [
      "                                                     \n",
      "  0%|          | 6/7500 [4:52:29<17:32:26,  8.43s/it]  "
     ]
    },
    {
     "name": "stdout",
     "output_type": "stream",
     "text": [
      "{'loss': 6.5192, 'grad_norm': 1695.178955078125, 'learning_rate': 6.88e-06, 'epoch': 0.66}\n"
     ]
    },
    {
     "name": "stderr",
     "output_type": "stream",
     "text": [
      "                                                     \n",
      "  0%|          | 6/7500 [4:53:42<17:32:26,  8.43s/it]  "
     ]
    },
    {
     "name": "stdout",
     "output_type": "stream",
     "text": [
      "{'loss': 6.5165, 'grad_norm': 1039.5093994140625, 'learning_rate': 6.800000000000001e-06, 'epoch': 0.66}\n"
     ]
    },
    {
     "name": "stderr",
     "output_type": "stream",
     "text": [
      "                                                     \n",
      "  0%|          | 6/7500 [4:54:53<17:32:26,  8.43s/it]  "
     ]
    },
    {
     "name": "stdout",
     "output_type": "stream",
     "text": [
      "{'loss': 6.4084, 'grad_norm': 396.11700439453125, 'learning_rate': 6.720000000000001e-06, 'epoch': 0.66}\n"
     ]
    },
    {
     "name": "stderr",
     "output_type": "stream",
     "text": [
      "                                                     \n",
      "  0%|          | 6/7500 [4:56:05<17:32:26,  8.43s/it]  "
     ]
    },
    {
     "name": "stdout",
     "output_type": "stream",
     "text": [
      "{'loss': 6.5748, 'grad_norm': 1477.0062255859375, 'learning_rate': 6.640000000000001e-06, 'epoch': 0.67}\n"
     ]
    },
    {
     "name": "stderr",
     "output_type": "stream",
     "text": [
      "                                                     \n",
      "  0%|          | 6/7500 [4:57:17<17:32:26,  8.43s/it]  "
     ]
    },
    {
     "name": "stdout",
     "output_type": "stream",
     "text": [
      "{'loss': 6.5498, 'grad_norm': 220.80548095703125, 'learning_rate': 6.560000000000001e-06, 'epoch': 0.67}\n"
     ]
    },
    {
     "name": "stderr",
     "output_type": "stream",
     "text": [
      "                                                     \n",
      "  0%|          | 6/7500 [4:58:27<17:32:26,  8.43s/it]  "
     ]
    },
    {
     "name": "stdout",
     "output_type": "stream",
     "text": [
      "{'loss': 6.2488, 'grad_norm': 139.1355438232422, 'learning_rate': 6.480000000000001e-06, 'epoch': 0.68}\n"
     ]
    },
    {
     "name": "stderr",
     "output_type": "stream",
     "text": [
      "                                                     \n",
      "  0%|          | 6/7500 [4:59:37<17:32:26,  8.43s/it]  "
     ]
    },
    {
     "name": "stdout",
     "output_type": "stream",
     "text": [
      "{'loss': 6.459, 'grad_norm': 362.7652893066406, 'learning_rate': 6.4000000000000006e-06, 'epoch': 0.68}\n"
     ]
    },
    {
     "name": "stderr",
     "output_type": "stream",
     "text": [
      "                                                     \n",
      "  0%|          | 6/7500 [5:00:48<17:32:26,  8.43s/it]  "
     ]
    },
    {
     "name": "stdout",
     "output_type": "stream",
     "text": [
      "{'loss': 6.063, 'grad_norm': 183.5489501953125, 'learning_rate': 6.3200000000000005e-06, 'epoch': 0.68}\n"
     ]
    },
    {
     "name": "stderr",
     "output_type": "stream",
     "text": [
      "                                                     \n",
      "  0%|          | 6/7500 [5:01:59<17:32:26,  8.43s/it]  "
     ]
    },
    {
     "name": "stdout",
     "output_type": "stream",
     "text": [
      "{'loss': 6.3277, 'grad_norm': 423.57440185546875, 'learning_rate': 6.24e-06, 'epoch': 0.69}\n"
     ]
    },
    {
     "name": "stderr",
     "output_type": "stream",
     "text": [
      "                                                     \n",
      "  0%|          | 6/7500 [5:03:10<17:32:26,  8.43s/it]  "
     ]
    },
    {
     "name": "stdout",
     "output_type": "stream",
     "text": [
      "{'loss': 6.2476, 'grad_norm': 313.7919616699219, 'learning_rate': 6.16e-06, 'epoch': 0.69}\n"
     ]
    },
    {
     "name": "stderr",
     "output_type": "stream",
     "text": [
      "                                                     \n",
      "  0%|          | 6/7500 [5:04:20<17:32:26,  8.43s/it]  "
     ]
    },
    {
     "name": "stdout",
     "output_type": "stream",
     "text": [
      "{'loss': 6.1997, 'grad_norm': 354.1591796875, 'learning_rate': 6.08e-06, 'epoch': 0.7}\n"
     ]
    },
    {
     "name": "stderr",
     "output_type": "stream",
     "text": [
      "                                                     \n",
      "  0%|          | 6/7500 [5:05:31<17:32:26,  8.43s/it]  "
     ]
    },
    {
     "name": "stdout",
     "output_type": "stream",
     "text": [
      "{'loss': 6.1602, 'grad_norm': 439.1802673339844, 'learning_rate': 6e-06, 'epoch': 0.7}\n"
     ]
    },
    {
     "name": "stderr",
     "output_type": "stream",
     "text": [
      "                                                     \n",
      "  0%|          | 6/7500 [5:06:42<17:32:26,  8.43s/it]  "
     ]
    },
    {
     "name": "stdout",
     "output_type": "stream",
     "text": [
      "{'loss': 6.0074, 'grad_norm': 882.0795288085938, 'learning_rate': 5.92e-06, 'epoch': 0.7}\n"
     ]
    },
    {
     "name": "stderr",
     "output_type": "stream",
     "text": [
      "                                                     \n",
      "  0%|          | 6/7500 [5:07:53<17:32:26,  8.43s/it]  "
     ]
    },
    {
     "name": "stdout",
     "output_type": "stream",
     "text": [
      "{'loss': 6.302, 'grad_norm': 276.34417724609375, 'learning_rate': 5.84e-06, 'epoch': 0.71}\n"
     ]
    },
    {
     "name": "stderr",
     "output_type": "stream",
     "text": [
      "                                                     \n",
      "  0%|          | 6/7500 [5:09:07<17:32:26,  8.43s/it]  "
     ]
    },
    {
     "name": "stdout",
     "output_type": "stream",
     "text": [
      "{'loss': 6.4137, 'grad_norm': 1228.124267578125, 'learning_rate': 5.76e-06, 'epoch': 0.71}\n"
     ]
    },
    {
     "name": "stderr",
     "output_type": "stream",
     "text": [
      "                                                     \n",
      "  0%|          | 6/7500 [5:10:18<17:32:26,  8.43s/it]  "
     ]
    },
    {
     "name": "stdout",
     "output_type": "stream",
     "text": [
      "{'loss': 6.3294, 'grad_norm': 439.0770568847656, 'learning_rate': 5.68e-06, 'epoch': 0.72}\n"
     ]
    },
    {
     "name": "stderr",
     "output_type": "stream",
     "text": [
      "                                                     \n",
      "  0%|          | 6/7500 [5:11:28<17:32:26,  8.43s/it]  "
     ]
    },
    {
     "name": "stdout",
     "output_type": "stream",
     "text": [
      "{'loss': 5.983, 'grad_norm': 354.6218566894531, 'learning_rate': 5.600000000000001e-06, 'epoch': 0.72}\n"
     ]
    },
    {
     "name": "stderr",
     "output_type": "stream",
     "text": [
      "                                                     \n",
      "  0%|          | 6/7500 [5:12:39<17:32:26,  8.43s/it]  "
     ]
    },
    {
     "name": "stdout",
     "output_type": "stream",
     "text": [
      "{'loss': 5.9201, 'grad_norm': 572.608154296875, 'learning_rate': 5.5200000000000005e-06, 'epoch': 0.72}\n"
     ]
    },
    {
     "name": "stderr",
     "output_type": "stream",
     "text": [
      "                                                     \n",
      "  0%|          | 6/7500 [5:13:49<17:32:26,  8.43s/it]  "
     ]
    },
    {
     "name": "stdout",
     "output_type": "stream",
     "text": [
      "{'loss': 6.013, 'grad_norm': 106.43063354492188, 'learning_rate': 5.4400000000000004e-06, 'epoch': 0.73}\n"
     ]
    },
    {
     "name": "stderr",
     "output_type": "stream",
     "text": [
      "                                                     \n",
      "  0%|          | 6/7500 [5:15:00<17:32:26,  8.43s/it]  "
     ]
    },
    {
     "name": "stdout",
     "output_type": "stream",
     "text": [
      "{'loss': 6.3401, 'grad_norm': 190.42901611328125, 'learning_rate': 5.36e-06, 'epoch': 0.73}\n"
     ]
    },
    {
     "name": "stderr",
     "output_type": "stream",
     "text": [
      "                                                     \n",
      "  0%|          | 6/7500 [5:16:11<17:32:26,  8.43s/it]  "
     ]
    },
    {
     "name": "stdout",
     "output_type": "stream",
     "text": [
      "{'loss': 6.1295, 'grad_norm': 789.1180419921875, 'learning_rate': 5.28e-06, 'epoch': 0.74}\n"
     ]
    },
    {
     "name": "stderr",
     "output_type": "stream",
     "text": [
      "                                                     \n",
      "  0%|          | 6/7500 [5:17:22<17:32:26,  8.43s/it]  "
     ]
    },
    {
     "name": "stdout",
     "output_type": "stream",
     "text": [
      "{'loss': 5.8508, 'grad_norm': 580.4296875, 'learning_rate': 5.2e-06, 'epoch': 0.74}\n"
     ]
    },
    {
     "name": "stderr",
     "output_type": "stream",
     "text": [
      "                                                     \n",
      "  0%|          | 6/7500 [5:18:33<17:32:26,  8.43s/it]  "
     ]
    },
    {
     "name": "stdout",
     "output_type": "stream",
     "text": [
      "{'loss': 5.8946, 'grad_norm': 768.1133422851562, 'learning_rate': 5.12e-06, 'epoch': 0.74}\n"
     ]
    },
    {
     "name": "stderr",
     "output_type": "stream",
     "text": [
      "                                                     \n",
      "  0%|          | 6/7500 [5:19:44<17:32:26,  8.43s/it]  "
     ]
    },
    {
     "name": "stdout",
     "output_type": "stream",
     "text": [
      "{'loss': 5.7328, 'grad_norm': 109.09242248535156, 'learning_rate': 5.04e-06, 'epoch': 0.75}\n"
     ]
    },
    {
     "name": "stderr",
     "output_type": "stream",
     "text": [
      "                                                     \n",
      "  0%|          | 6/7500 [5:20:55<17:32:26,  8.43s/it]  "
     ]
    },
    {
     "name": "stdout",
     "output_type": "stream",
     "text": [
      "{'loss': 5.8949, 'grad_norm': 113.39321899414062, 'learning_rate': 4.960000000000001e-06, 'epoch': 0.75}\n"
     ]
    },
    {
     "name": "stderr",
     "output_type": "stream",
     "text": [
      "                                                     \n",
      "  0%|          | 6/7500 [5:22:06<17:32:26,  8.43s/it]  "
     ]
    },
    {
     "name": "stdout",
     "output_type": "stream",
     "text": [
      "{'loss': 5.7925, 'grad_norm': 959.2523193359375, 'learning_rate': 4.880000000000001e-06, 'epoch': 0.76}\n"
     ]
    },
    {
     "name": "stderr",
     "output_type": "stream",
     "text": [
      "                                                     \n",
      "  0%|          | 6/7500 [5:23:17<17:32:26,  8.43s/it]  "
     ]
    },
    {
     "name": "stdout",
     "output_type": "stream",
     "text": [
      "{'loss': 5.8611, 'grad_norm': 449.69830322265625, 'learning_rate': 4.800000000000001e-06, 'epoch': 0.76}\n"
     ]
    },
    {
     "name": "stderr",
     "output_type": "stream",
     "text": [
      "                                                     \n",
      "  0%|          | 6/7500 [5:24:28<17:32:26,  8.43s/it]  "
     ]
    },
    {
     "name": "stdout",
     "output_type": "stream",
     "text": [
      "{'loss': 5.6424, 'grad_norm': 158.4562530517578, 'learning_rate': 4.7200000000000005e-06, 'epoch': 0.76}\n"
     ]
    },
    {
     "name": "stderr",
     "output_type": "stream",
     "text": [
      "                                                     \n",
      "  0%|          | 6/7500 [5:25:39<17:32:26,  8.43s/it]  "
     ]
    },
    {
     "name": "stdout",
     "output_type": "stream",
     "text": [
      "{'loss': 5.7484, 'grad_norm': 465.1369323730469, 'learning_rate': 4.6400000000000005e-06, 'epoch': 0.77}\n"
     ]
    },
    {
     "name": "stderr",
     "output_type": "stream",
     "text": [
      "                                                     \n",
      "  0%|          | 6/7500 [5:26:50<17:32:26,  8.43s/it]  "
     ]
    },
    {
     "name": "stdout",
     "output_type": "stream",
     "text": [
      "{'loss': 5.505, 'grad_norm': 190.24954223632812, 'learning_rate': 4.56e-06, 'epoch': 0.77}\n"
     ]
    },
    {
     "name": "stderr",
     "output_type": "stream",
     "text": [
      "                                                     \n",
      "  0%|          | 6/7500 [5:28:02<17:32:26,  8.43s/it]  "
     ]
    },
    {
     "name": "stdout",
     "output_type": "stream",
     "text": [
      "{'loss': 5.7092, 'grad_norm': 897.302734375, 'learning_rate': 4.48e-06, 'epoch': 0.78}\n"
     ]
    },
    {
     "name": "stderr",
     "output_type": "stream",
     "text": [
      "                                                     \n",
      "  0%|          | 6/7500 [5:29:12<17:32:26,  8.43s/it]  "
     ]
    },
    {
     "name": "stdout",
     "output_type": "stream",
     "text": [
      "{'loss': 6.0855, 'grad_norm': 399.28167724609375, 'learning_rate': 4.4e-06, 'epoch': 0.78}\n"
     ]
    },
    {
     "name": "stderr",
     "output_type": "stream",
     "text": [
      "                                                     \n",
      "  0%|          | 6/7500 [5:30:22<17:32:26,  8.43s/it]  "
     ]
    },
    {
     "name": "stdout",
     "output_type": "stream",
     "text": [
      "{'loss': 5.82, 'grad_norm': 228.3208465576172, 'learning_rate': 4.32e-06, 'epoch': 0.78}\n"
     ]
    },
    {
     "name": "stderr",
     "output_type": "stream",
     "text": [
      "                                                     \n",
      "  0%|          | 6/7500 [5:31:32<17:32:26,  8.43s/it]  "
     ]
    },
    {
     "name": "stdout",
     "output_type": "stream",
     "text": [
      "{'loss': 5.7057, 'grad_norm': 388.3545837402344, 'learning_rate': 4.24e-06, 'epoch': 0.79}\n"
     ]
    },
    {
     "name": "stderr",
     "output_type": "stream",
     "text": [
      "                                                     \n",
      "  0%|          | 6/7500 [5:32:42<17:32:26,  8.43s/it]  "
     ]
    },
    {
     "name": "stdout",
     "output_type": "stream",
     "text": [
      "{'loss': 5.7483, 'grad_norm': 262.9902038574219, 'learning_rate': 4.16e-06, 'epoch': 0.79}\n"
     ]
    },
    {
     "name": "stderr",
     "output_type": "stream",
     "text": [
      "                                                     \n",
      "  0%|          | 6/7500 [5:33:52<17:32:26,  8.43s/it]"
     ]
    },
    {
     "name": "stdout",
     "output_type": "stream",
     "text": [
      "{'loss': 5.8634, 'grad_norm': 450.1901550292969, 'learning_rate': 4.08e-06, 'epoch': 0.8}\n"
     ]
    },
    {
     "name": "stderr",
     "output_type": "stream",
     "text": [
      "                                                     \n",
      "  0%|          | 6/7500 [5:35:03<17:32:26,  8.43s/it]"
     ]
    },
    {
     "name": "stdout",
     "output_type": "stream",
     "text": [
      "{'loss': 5.5214, 'grad_norm': 592.58056640625, 'learning_rate': 4.000000000000001e-06, 'epoch': 0.8}\n"
     ]
    },
    {
     "name": "stderr",
     "output_type": "stream",
     "text": [
      "                                                     \n",
      "  0%|          | 6/7500 [5:36:13<17:32:26,  8.43s/it]"
     ]
    },
    {
     "name": "stdout",
     "output_type": "stream",
     "text": [
      "{'loss': 5.9614, 'grad_norm': 65.30148315429688, 'learning_rate': 3.920000000000001e-06, 'epoch': 0.8}\n"
     ]
    },
    {
     "name": "stderr",
     "output_type": "stream",
     "text": [
      "                                                     \n",
      "  0%|          | 6/7500 [5:37:24<17:32:26,  8.43s/it]"
     ]
    },
    {
     "name": "stdout",
     "output_type": "stream",
     "text": [
      "{'loss': 5.4653, 'grad_norm': 511.77191162109375, 'learning_rate': 3.8400000000000005e-06, 'epoch': 0.81}\n"
     ]
    },
    {
     "name": "stderr",
     "output_type": "stream",
     "text": [
      "                                                     \n",
      "  0%|          | 6/7500 [5:38:34<17:32:26,  8.43s/it]"
     ]
    },
    {
     "name": "stdout",
     "output_type": "stream",
     "text": [
      "{'loss': 5.7029, 'grad_norm': 327.1967468261719, 'learning_rate': 3.7600000000000004e-06, 'epoch': 0.81}\n"
     ]
    },
    {
     "name": "stderr",
     "output_type": "stream",
     "text": [
      "                                                     \n",
      "  0%|          | 6/7500 [5:39:44<17:32:26,  8.43s/it]"
     ]
    },
    {
     "name": "stdout",
     "output_type": "stream",
     "text": [
      "{'loss': 5.8313, 'grad_norm': 89.7340316772461, 'learning_rate': 3.6800000000000003e-06, 'epoch': 0.82}\n"
     ]
    },
    {
     "name": "stderr",
     "output_type": "stream",
     "text": [
      "                                                     \n",
      "  0%|          | 6/7500 [5:40:55<17:32:26,  8.43s/it]"
     ]
    },
    {
     "name": "stdout",
     "output_type": "stream",
     "text": [
      "{'loss': 5.4142, 'grad_norm': 180.5078887939453, 'learning_rate': 3.6000000000000003e-06, 'epoch': 0.82}\n"
     ]
    },
    {
     "name": "stderr",
     "output_type": "stream",
     "text": [
      "                                                     \n",
      "  0%|          | 6/7500 [5:42:06<17:32:26,  8.43s/it]"
     ]
    },
    {
     "name": "stdout",
     "output_type": "stream",
     "text": [
      "{'loss': 5.6139, 'grad_norm': 598.855224609375, 'learning_rate': 3.52e-06, 'epoch': 0.82}\n"
     ]
    },
    {
     "name": "stderr",
     "output_type": "stream",
     "text": [
      "                                                     \n",
      "  0%|          | 6/7500 [5:43:17<17:32:26,  8.43s/it]"
     ]
    },
    {
     "name": "stdout",
     "output_type": "stream",
     "text": [
      "{'loss': 5.5375, 'grad_norm': 231.72998046875, 'learning_rate': 3.44e-06, 'epoch': 0.83}\n"
     ]
    },
    {
     "name": "stderr",
     "output_type": "stream",
     "text": [
      "                                                     \n",
      "  0%|          | 6/7500 [5:44:27<17:32:26,  8.43s/it]"
     ]
    },
    {
     "name": "stdout",
     "output_type": "stream",
     "text": [
      "{'loss': 5.4455, 'grad_norm': 567.0284423828125, 'learning_rate': 3.3600000000000004e-06, 'epoch': 0.83}\n"
     ]
    },
    {
     "name": "stderr",
     "output_type": "stream",
     "text": [
      "                                                     \n",
      "  0%|          | 6/7500 [5:45:37<17:32:26,  8.43s/it]"
     ]
    },
    {
     "name": "stdout",
     "output_type": "stream",
     "text": [
      "{'loss': 5.4977, 'grad_norm': 463.4721984863281, 'learning_rate': 3.2800000000000004e-06, 'epoch': 0.84}\n"
     ]
    },
    {
     "name": "stderr",
     "output_type": "stream",
     "text": [
      "                                                     \n",
      "  0%|          | 6/7500 [5:46:48<17:32:26,  8.43s/it]"
     ]
    },
    {
     "name": "stdout",
     "output_type": "stream",
     "text": [
      "{'loss': 5.6077, 'grad_norm': 452.6423034667969, 'learning_rate': 3.2000000000000003e-06, 'epoch': 0.84}\n"
     ]
    },
    {
     "name": "stderr",
     "output_type": "stream",
     "text": [
      "                                                     \n",
      "  0%|          | 6/7500 [5:47:59<17:32:26,  8.43s/it]"
     ]
    },
    {
     "name": "stdout",
     "output_type": "stream",
     "text": [
      "{'loss': 5.8072, 'grad_norm': 195.8623504638672, 'learning_rate': 3.12e-06, 'epoch': 0.84}\n"
     ]
    },
    {
     "name": "stderr",
     "output_type": "stream",
     "text": [
      "                                                     \n",
      "  0%|          | 6/7500 [5:49:11<17:32:26,  8.43s/it]"
     ]
    },
    {
     "name": "stdout",
     "output_type": "stream",
     "text": [
      "{'loss': 5.7893, 'grad_norm': 230.51622009277344, 'learning_rate': 3.04e-06, 'epoch': 0.85}\n"
     ]
    },
    {
     "name": "stderr",
     "output_type": "stream",
     "text": [
      "                                                     \n",
      "  0%|          | 6/7500 [5:50:21<17:32:26,  8.43s/it]"
     ]
    },
    {
     "name": "stdout",
     "output_type": "stream",
     "text": [
      "{'loss': 5.5257, 'grad_norm': 148.3167266845703, 'learning_rate': 2.96e-06, 'epoch': 0.85}\n"
     ]
    },
    {
     "name": "stderr",
     "output_type": "stream",
     "text": [
      "                                                     \n",
      "  0%|          | 6/7500 [5:51:32<17:32:26,  8.43s/it]"
     ]
    },
    {
     "name": "stdout",
     "output_type": "stream",
     "text": [
      "{'loss': 5.6556, 'grad_norm': 525.6694946289062, 'learning_rate': 2.88e-06, 'epoch': 0.86}\n"
     ]
    },
    {
     "name": "stderr",
     "output_type": "stream",
     "text": [
      "                                                     \n",
      "  0%|          | 6/7500 [5:52:43<17:32:26,  8.43s/it]"
     ]
    },
    {
     "name": "stdout",
     "output_type": "stream",
     "text": [
      "{'loss': 5.6011, 'grad_norm': 207.94882202148438, 'learning_rate': 2.8000000000000003e-06, 'epoch': 0.86}\n"
     ]
    },
    {
     "name": "stderr",
     "output_type": "stream",
     "text": [
      "                                                     \n",
      "  0%|          | 6/7500 [5:53:54<17:32:26,  8.43s/it]"
     ]
    },
    {
     "name": "stdout",
     "output_type": "stream",
     "text": [
      "{'loss': 5.3572, 'grad_norm': 227.95193481445312, 'learning_rate': 2.7200000000000002e-06, 'epoch': 0.86}\n"
     ]
    },
    {
     "name": "stderr",
     "output_type": "stream",
     "text": [
      "                                                     \n",
      "  0%|          | 6/7500 [5:55:04<17:32:26,  8.43s/it]"
     ]
    },
    {
     "name": "stdout",
     "output_type": "stream",
     "text": [
      "{'loss': 5.3457, 'grad_norm': 277.1990966796875, 'learning_rate': 2.64e-06, 'epoch': 0.87}\n"
     ]
    },
    {
     "name": "stderr",
     "output_type": "stream",
     "text": [
      "                                                     \n",
      "  0%|          | 6/7500 [5:56:15<17:32:26,  8.43s/it]"
     ]
    },
    {
     "name": "stdout",
     "output_type": "stream",
     "text": [
      "{'loss': 5.2763, 'grad_norm': 143.98486328125, 'learning_rate': 2.56e-06, 'epoch': 0.87}\n"
     ]
    },
    {
     "name": "stderr",
     "output_type": "stream",
     "text": [
      "                                                     \n",
      "  0%|          | 6/7500 [5:57:26<17:32:26,  8.43s/it]"
     ]
    },
    {
     "name": "stdout",
     "output_type": "stream",
     "text": [
      "{'loss': 5.5115, 'grad_norm': 192.4591522216797, 'learning_rate': 2.4800000000000004e-06, 'epoch': 0.88}\n"
     ]
    },
    {
     "name": "stderr",
     "output_type": "stream",
     "text": [
      "                                                     \n",
      "  0%|          | 6/7500 [5:58:36<17:32:26,  8.43s/it]"
     ]
    },
    {
     "name": "stdout",
     "output_type": "stream",
     "text": [
      "{'loss': 5.4969, 'grad_norm': 236.53680419921875, 'learning_rate': 2.4000000000000003e-06, 'epoch': 0.88}\n"
     ]
    },
    {
     "name": "stderr",
     "output_type": "stream",
     "text": [
      "                                                     \n",
      "  0%|          | 6/7500 [5:59:46<17:32:26,  8.43s/it]"
     ]
    },
    {
     "name": "stdout",
     "output_type": "stream",
     "text": [
      "{'loss': 5.1673, 'grad_norm': 154.8863525390625, 'learning_rate': 2.3200000000000002e-06, 'epoch': 0.88}\n"
     ]
    },
    {
     "name": "stderr",
     "output_type": "stream",
     "text": [
      "                                                     \n",
      "  0%|          | 6/7500 [6:00:56<17:32:26,  8.43s/it]"
     ]
    },
    {
     "name": "stdout",
     "output_type": "stream",
     "text": [
      "{'loss': 5.179, 'grad_norm': 461.9427185058594, 'learning_rate': 2.24e-06, 'epoch': 0.89}\n"
     ]
    },
    {
     "name": "stderr",
     "output_type": "stream",
     "text": [
      "                                                     \n",
      "  0%|          | 6/7500 [6:02:06<17:32:26,  8.43s/it]"
     ]
    },
    {
     "name": "stdout",
     "output_type": "stream",
     "text": [
      "{'loss': 5.5395, 'grad_norm': 682.6221313476562, 'learning_rate': 2.16e-06, 'epoch': 0.89}\n"
     ]
    },
    {
     "name": "stderr",
     "output_type": "stream",
     "text": [
      "                                                     \n",
      "  0%|          | 6/7500 [6:03:17<17:32:26,  8.43s/it]"
     ]
    },
    {
     "name": "stdout",
     "output_type": "stream",
     "text": [
      "{'loss': 5.4047, 'grad_norm': 192.13902282714844, 'learning_rate': 2.08e-06, 'epoch': 0.9}\n"
     ]
    },
    {
     "name": "stderr",
     "output_type": "stream",
     "text": [
      "                                                     \n",
      "  0%|          | 6/7500 [6:04:28<17:32:26,  8.43s/it]"
     ]
    },
    {
     "name": "stdout",
     "output_type": "stream",
     "text": [
      "{'loss': 5.5548, 'grad_norm': 226.24327087402344, 'learning_rate': 2.0000000000000003e-06, 'epoch': 0.9}\n"
     ]
    },
    {
     "name": "stderr",
     "output_type": "stream",
     "text": [
      "                                                     \n",
      "  0%|          | 6/7500 [6:05:38<17:32:26,  8.43s/it]"
     ]
    },
    {
     "name": "stdout",
     "output_type": "stream",
     "text": [
      "{'loss': 5.3984, 'grad_norm': 123.1158218383789, 'learning_rate': 1.9200000000000003e-06, 'epoch': 0.9}\n"
     ]
    },
    {
     "name": "stderr",
     "output_type": "stream",
     "text": [
      "                                                     \n",
      "  0%|          | 6/7500 [6:06:49<17:32:26,  8.43s/it]"
     ]
    },
    {
     "name": "stdout",
     "output_type": "stream",
     "text": [
      "{'loss': 5.4548, 'grad_norm': 124.35997009277344, 'learning_rate': 1.8400000000000002e-06, 'epoch': 0.91}\n"
     ]
    },
    {
     "name": "stderr",
     "output_type": "stream",
     "text": [
      "                                                     \n",
      "  0%|          | 6/7500 [6:07:59<17:32:26,  8.43s/it]"
     ]
    },
    {
     "name": "stdout",
     "output_type": "stream",
     "text": [
      "{'loss': 5.5458, 'grad_norm': 113.87542724609375, 'learning_rate': 1.76e-06, 'epoch': 0.91}\n"
     ]
    },
    {
     "name": "stderr",
     "output_type": "stream",
     "text": [
      "                                                     \n",
      "  0%|          | 6/7500 [6:09:12<17:32:26,  8.43s/it]"
     ]
    },
    {
     "name": "stdout",
     "output_type": "stream",
     "text": [
      "{'loss': 5.3443, 'grad_norm': 207.53843688964844, 'learning_rate': 1.6800000000000002e-06, 'epoch': 0.92}\n"
     ]
    },
    {
     "name": "stderr",
     "output_type": "stream",
     "text": [
      "                                                     \n",
      "  0%|          | 6/7500 [6:10:23<17:32:26,  8.43s/it]"
     ]
    },
    {
     "name": "stdout",
     "output_type": "stream",
     "text": [
      "{'loss': 5.469, 'grad_norm': 285.478271484375, 'learning_rate': 1.6000000000000001e-06, 'epoch': 0.92}\n"
     ]
    },
    {
     "name": "stderr",
     "output_type": "stream",
     "text": [
      "                                                     \n",
      "  0%|          | 6/7500 [6:11:34<17:32:26,  8.43s/it]"
     ]
    },
    {
     "name": "stdout",
     "output_type": "stream",
     "text": [
      "{'loss': 5.3202, 'grad_norm': 107.69458770751953, 'learning_rate': 1.52e-06, 'epoch': 0.92}\n"
     ]
    },
    {
     "name": "stderr",
     "output_type": "stream",
     "text": [
      "                                                     \n",
      "  0%|          | 6/7500 [6:12:45<17:32:26,  8.43s/it]"
     ]
    },
    {
     "name": "stdout",
     "output_type": "stream",
     "text": [
      "{'loss': 5.6493, 'grad_norm': 3720.46435546875, 'learning_rate': 1.44e-06, 'epoch': 0.93}\n"
     ]
    },
    {
     "name": "stderr",
     "output_type": "stream",
     "text": [
      "                                                     \n",
      "  0%|          | 6/7500 [6:13:55<17:32:26,  8.43s/it]"
     ]
    },
    {
     "name": "stdout",
     "output_type": "stream",
     "text": [
      "{'loss': 5.6185, 'grad_norm': 237.9912872314453, 'learning_rate': 1.3600000000000001e-06, 'epoch': 0.93}\n"
     ]
    },
    {
     "name": "stderr",
     "output_type": "stream",
     "text": [
      "                                                     \n",
      "  0%|          | 6/7500 [6:15:06<17:32:26,  8.43s/it]"
     ]
    },
    {
     "name": "stdout",
     "output_type": "stream",
     "text": [
      "{'loss': 5.2465, 'grad_norm': 322.2344970703125, 'learning_rate': 1.28e-06, 'epoch': 0.94}\n"
     ]
    },
    {
     "name": "stderr",
     "output_type": "stream",
     "text": [
      "                                                     \n",
      "  0%|          | 6/7500 [6:16:16<17:32:26,  8.43s/it]"
     ]
    },
    {
     "name": "stdout",
     "output_type": "stream",
     "text": [
      "{'loss': 5.4277, 'grad_norm': 1575.4910888671875, 'learning_rate': 1.2000000000000002e-06, 'epoch': 0.94}\n"
     ]
    },
    {
     "name": "stderr",
     "output_type": "stream",
     "text": [
      "                                                     \n",
      "  0%|          | 6/7500 [6:17:27<17:32:26,  8.43s/it]"
     ]
    },
    {
     "name": "stdout",
     "output_type": "stream",
     "text": [
      "{'loss': 5.4858, 'grad_norm': 215.68251037597656, 'learning_rate': 1.12e-06, 'epoch': 0.94}\n"
     ]
    },
    {
     "name": "stderr",
     "output_type": "stream",
     "text": [
      "                                                     \n",
      "  0%|          | 6/7500 [6:18:38<17:32:26,  8.43s/it]"
     ]
    },
    {
     "name": "stdout",
     "output_type": "stream",
     "text": [
      "{'loss': 5.2827, 'grad_norm': 2666.75927734375, 'learning_rate': 1.04e-06, 'epoch': 0.95}\n"
     ]
    },
    {
     "name": "stderr",
     "output_type": "stream",
     "text": [
      "                                                     \n",
      "  0%|          | 6/7500 [6:19:49<17:32:26,  8.43s/it]"
     ]
    },
    {
     "name": "stdout",
     "output_type": "stream",
     "text": [
      "{'loss': 5.5265, 'grad_norm': 445.7021484375, 'learning_rate': 9.600000000000001e-07, 'epoch': 0.95}\n"
     ]
    },
    {
     "name": "stderr",
     "output_type": "stream",
     "text": [
      "                                                     \n",
      "  0%|          | 6/7500 [6:20:59<17:32:26,  8.43s/it]"
     ]
    },
    {
     "name": "stdout",
     "output_type": "stream",
     "text": [
      "{'loss': 5.2202, 'grad_norm': 72.6478271484375, 'learning_rate': 8.8e-07, 'epoch': 0.96}\n"
     ]
    },
    {
     "name": "stderr",
     "output_type": "stream",
     "text": [
      "                                                     \n",
      "  0%|          | 6/7500 [6:22:09<17:32:26,  8.43s/it]"
     ]
    },
    {
     "name": "stdout",
     "output_type": "stream",
     "text": [
      "{'loss': 5.3097, 'grad_norm': 220.7271728515625, 'learning_rate': 8.000000000000001e-07, 'epoch': 0.96}\n"
     ]
    },
    {
     "name": "stderr",
     "output_type": "stream",
     "text": [
      "                                                     \n",
      "  0%|          | 6/7500 [6:23:20<17:32:26,  8.43s/it]"
     ]
    },
    {
     "name": "stdout",
     "output_type": "stream",
     "text": [
      "{'loss': 5.4037, 'grad_norm': 232.9355010986328, 'learning_rate': 7.2e-07, 'epoch': 0.96}\n"
     ]
    },
    {
     "name": "stderr",
     "output_type": "stream",
     "text": [
      "                                                     \n",
      "  0%|          | 6/7500 [6:24:31<17:32:26,  8.43s/it]"
     ]
    },
    {
     "name": "stdout",
     "output_type": "stream",
     "text": [
      "{'loss': 5.1651, 'grad_norm': 131.2239227294922, 'learning_rate': 6.4e-07, 'epoch': 0.97}\n"
     ]
    },
    {
     "name": "stderr",
     "output_type": "stream",
     "text": [
      "                                                     \n",
      "  0%|          | 6/7500 [6:25:41<17:32:26,  8.43s/it]"
     ]
    },
    {
     "name": "stdout",
     "output_type": "stream",
     "text": [
      "{'loss': 5.3666, 'grad_norm': 850.5905151367188, 'learning_rate': 5.6e-07, 'epoch': 0.97}\n"
     ]
    },
    {
     "name": "stderr",
     "output_type": "stream",
     "text": [
      "                                                     \n",
      "  0%|          | 6/7500 [6:26:52<17:32:26,  8.43s/it]"
     ]
    },
    {
     "name": "stdout",
     "output_type": "stream",
     "text": [
      "{'loss': 5.1876, 'grad_norm': 413.99420166015625, 'learning_rate': 4.800000000000001e-07, 'epoch': 0.98}\n"
     ]
    },
    {
     "name": "stderr",
     "output_type": "stream",
     "text": [
      "                                                     \n",
      "  0%|          | 6/7500 [6:28:03<17:32:26,  8.43s/it]"
     ]
    },
    {
     "name": "stdout",
     "output_type": "stream",
     "text": [
      "{'loss': 5.3682, 'grad_norm': 842.7271118164062, 'learning_rate': 4.0000000000000003e-07, 'epoch': 0.98}\n"
     ]
    },
    {
     "name": "stderr",
     "output_type": "stream",
     "text": [
      "                                                     \n",
      "  0%|          | 6/7500 [6:29:13<17:32:26,  8.43s/it]"
     ]
    },
    {
     "name": "stdout",
     "output_type": "stream",
     "text": [
      "{'loss': 5.2372, 'grad_norm': 132.62741088867188, 'learning_rate': 3.2e-07, 'epoch': 0.98}\n"
     ]
    },
    {
     "name": "stderr",
     "output_type": "stream",
     "text": [
      "                                                     \n",
      "  0%|          | 6/7500 [6:30:23<17:32:26,  8.43s/it]"
     ]
    },
    {
     "name": "stdout",
     "output_type": "stream",
     "text": [
      "{'loss': 5.5774, 'grad_norm': 905.8253784179688, 'learning_rate': 2.4000000000000003e-07, 'epoch': 0.99}\n"
     ]
    },
    {
     "name": "stderr",
     "output_type": "stream",
     "text": [
      "                                                     \n",
      "  0%|          | 6/7500 [6:31:34<17:32:26,  8.43s/it]"
     ]
    },
    {
     "name": "stdout",
     "output_type": "stream",
     "text": [
      "{'loss': 5.1779, 'grad_norm': 374.45428466796875, 'learning_rate': 1.6e-07, 'epoch': 0.99}\n"
     ]
    },
    {
     "name": "stderr",
     "output_type": "stream",
     "text": [
      "                                                     \n",
      "  0%|          | 6/7500 [6:32:44<17:32:26,  8.43s/it]"
     ]
    },
    {
     "name": "stdout",
     "output_type": "stream",
     "text": [
      "{'loss': 5.468, 'grad_norm': 120.15302276611328, 'learning_rate': 8e-08, 'epoch': 1.0}\n"
     ]
    },
    {
     "name": "stderr",
     "output_type": "stream",
     "text": [
      "                                                     \n",
      "  0%|          | 6/7500 [6:33:54<17:32:26,  8.43s/it]"
     ]
    },
    {
     "name": "stdout",
     "output_type": "stream",
     "text": [
      "{'loss': 5.2736, 'grad_norm': 126.8198013305664, 'learning_rate': 0.0, 'epoch': 1.0}\n"
     ]
    },
    {
     "name": "stderr",
     "output_type": "stream",
     "text": [
      "\n",
      "\u001b[A\n",
      "\u001b[A\n",
      "\u001b[A\n",
      "\u001b[A\n",
      "\u001b[A\n",
      "\u001b[A\n",
      "\u001b[A\n",
      "\u001b[A\n",
      "\u001b[A\n",
      "\u001b[A\n",
      "\u001b[A\n",
      "\u001b[A\n",
      "\u001b[A\n",
      "\u001b[A\n",
      "\u001b[A\n",
      "\u001b[A\n",
      "\u001b[A\n",
      "\u001b[A\n",
      "\u001b[A\n",
      "\u001b[A\n",
      "\u001b[A\n",
      "\u001b[A\n",
      "\u001b[A\n",
      "\u001b[A\n",
      "\u001b[A\n",
      "\u001b[A\n",
      "\u001b[A\n",
      "\u001b[A\n",
      "\u001b[A\n",
      "\u001b[A\n",
      "\u001b[A\n",
      "\u001b[A\n",
      "\u001b[A\n",
      "\u001b[A\n",
      "\u001b[A\n",
      "\u001b[A\n",
      "\u001b[A\n",
      "\u001b[A\n",
      "\u001b[A\n",
      "\u001b[A\n",
      "\u001b[A\n",
      "\u001b[A\n",
      "\u001b[A\n",
      "\u001b[A\n",
      "\u001b[A\n",
      "\u001b[A\n",
      "\u001b[A\n",
      "\u001b[A\n",
      "\u001b[A\n",
      "\u001b[A\n",
      "\u001b[A\n",
      "\u001b[A\n",
      "\u001b[A\n",
      "\u001b[A\n",
      "\u001b[A\n",
      "\u001b[A\n",
      "\u001b[A\n",
      "\u001b[A\n",
      "\u001b[A\n",
      "\u001b[A\n",
      "\u001b[A\n",
      "\u001b[A\n",
      "\u001b[A\n",
      "\u001b[A\n",
      "\u001b[A\n",
      "\u001b[A\n",
      "\u001b[A\n",
      "\u001b[A\n",
      "\u001b[A\n",
      "\u001b[A\n",
      "\u001b[A\n",
      "\u001b[A\n",
      "\u001b[A\n",
      "\u001b[A\n",
      "\u001b[A\n",
      "\u001b[A\n",
      "\u001b[A\n",
      "\u001b[A\n",
      "\u001b[A\n",
      "\u001b[A\n",
      "\u001b[A\n",
      "\u001b[A\n",
      "\u001b[A\n",
      "\u001b[A\n",
      "\u001b[A\n",
      "\u001b[A\n",
      "\u001b[A\n",
      "\u001b[A\n",
      "\u001b[A\n",
      "\u001b[A\n",
      "\u001b[A\n",
      "\u001b[A\n",
      "\u001b[A\n",
      "\u001b[A\n",
      "\u001b[A\n",
      "\u001b[A\n",
      "\u001b[A\n",
      "\u001b[A\n",
      "\u001b[A\n",
      "\u001b[A\n",
      "\u001b[A\n",
      "\u001b[A\n",
      "\u001b[A\n",
      "\u001b[A\n",
      "\u001b[A\n",
      "\u001b[A\n",
      "\u001b[A\n",
      "\u001b[A\n",
      "\u001b[A\n",
      "\u001b[A\n",
      "\u001b[A\n",
      "\u001b[A\n",
      "\u001b[A\n",
      "\u001b[A\n",
      "\u001b[A\n",
      "\u001b[A\n",
      "\u001b[A\n",
      "\u001b[A\n",
      "\u001b[A\n",
      "\u001b[A\n",
      "\u001b[A\n",
      "\u001b[A\n",
      "\u001b[A\n",
      "\u001b[A\n",
      "\u001b[A\n",
      "\u001b[A\n",
      "\u001b[A\n",
      "\u001b[A\n",
      "\u001b[A\n",
      "\u001b[A\n",
      "\u001b[A\n",
      "\u001b[A\n",
      "\u001b[A\n",
      "\u001b[A\n",
      "\u001b[A\n",
      "\u001b[A\n",
      "\u001b[A\n",
      "\u001b[A\n",
      "\u001b[A\n",
      "\u001b[A\n",
      "\u001b[A\n",
      "\u001b[A\n",
      "\u001b[A\n",
      "\u001b[A\n",
      "\u001b[A\n",
      "\u001b[A\n",
      "\u001b[A\n",
      "\u001b[A\n",
      "\u001b[A\n",
      "\u001b[A\n",
      "\u001b[A\n",
      "\u001b[A\n",
      "\u001b[A\n",
      "\u001b[A\n",
      "\u001b[A\n",
      "\u001b[A\n",
      "\u001b[A\n",
      "\u001b[A\n",
      "\u001b[A\n",
      "\u001b[A\n",
      "\u001b[A\n",
      "\u001b[A\n",
      "\u001b[A\n",
      "\u001b[A\n",
      "\u001b[A\n",
      "\u001b[A\n",
      "\u001b[A\n",
      "\u001b[A\n",
      "\u001b[A\n",
      "\u001b[A\n",
      "\u001b[A\n",
      "\u001b[A\n",
      "\u001b[A\n",
      "\u001b[A\n",
      "\u001b[A\n",
      "\u001b[A\n",
      "\u001b[A\n",
      "\u001b[A\n",
      "\u001b[A\n",
      "\u001b[A\n",
      "\u001b[A\n",
      "\u001b[A\n",
      "\u001b[A\n",
      "\u001b[A\n",
      "\u001b[A\n",
      "\u001b[A\n",
      "\u001b[A\n",
      "\u001b[A\n",
      "\u001b[A\n",
      "\u001b[A\n",
      "\u001b[A\n",
      "\u001b[A\n",
      "\u001b[A\n",
      "\u001b[A\n",
      "\u001b[A\n",
      "\u001b[A\n",
      "\u001b[A\n",
      "\u001b[A\n",
      "\u001b[A\n",
      "\u001b[A\n",
      "\u001b[A\n",
      "\u001b[A\n",
      "\u001b[A\n",
      "\u001b[A\n",
      "\u001b[A\n",
      "\u001b[A\n",
      "\u001b[A\n",
      "\u001b[A\n",
      "\u001b[A\n",
      "\u001b[A\n",
      "\u001b[A\n",
      "\u001b[A\n",
      "\u001b[A\n",
      "\u001b[A\n",
      "\u001b[A\n",
      "\u001b[A\n",
      "\u001b[A\n",
      "\u001b[A\n",
      "\u001b[A\n",
      "\u001b[A\n",
      "\u001b[A\n",
      "\u001b[A\n",
      "\u001b[A\n",
      "\u001b[A\n",
      "\u001b[A\n",
      "\u001b[A\n",
      "\u001b[A\n",
      "\u001b[A\n",
      "\u001b[A\n",
      "\u001b[A\n",
      "\u001b[A\n",
      "\u001b[A\n",
      "\u001b[A\n",
      "\u001b[A\n",
      "\u001b[A\n",
      "\u001b[A\n",
      "\u001b[A\n",
      "\u001b[A\n",
      "\u001b[A\n",
      "\u001b[A\n",
      "\u001b[A\n",
      "\u001b[A\n",
      "\u001b[A\n",
      "\u001b[A\n",
      "\u001b[A\n",
      "\u001b[A\n",
      "\u001b[A\n",
      "\u001b[A\n",
      "\u001b[A\n",
      "\u001b[A\n",
      "\u001b[A\n",
      "\u001b[A\n",
      "\u001b[A\n",
      "\u001b[A\n",
      "\u001b[A\n",
      "\u001b[A\n",
      "\u001b[A\n",
      "\u001b[A\n",
      "\u001b[A\n",
      "\u001b[A\n",
      "\u001b[A\n",
      "\u001b[A\n",
      "\u001b[A\n",
      "\u001b[A\n",
      "\u001b[A\n",
      "\u001b[A\n",
      "\u001b[A\n",
      "\u001b[A\n",
      "\u001b[A\n",
      "\u001b[A\n",
      "\u001b[A\n",
      "\u001b[A\n",
      "\u001b[A\n",
      "\u001b[A\n",
      "\u001b[A\n",
      "\u001b[A\n",
      "\u001b[A\n",
      "\u001b[A\n",
      "\u001b[A\n",
      "\u001b[A\n",
      "\u001b[A\n",
      "\u001b[A\n",
      "\u001b[A\n",
      "\u001b[A\n",
      "\u001b[A\n",
      "\u001b[A\n",
      "\u001b[A\n",
      "\u001b[A\n",
      "\u001b[A\n",
      "\u001b[A\n",
      "\u001b[A\n",
      "\u001b[A\n",
      "\u001b[A\n",
      "\u001b[A\n",
      "\u001b[A\n",
      "\u001b[A\n",
      "\u001b[A\n",
      "\u001b[A\n",
      "\u001b[A\n",
      "\u001b[A\n",
      "\u001b[A\n",
      "\u001b[A\n",
      "\u001b[A\n",
      "\u001b[A\n",
      "\u001b[A\n",
      "\u001b[A\n",
      "\u001b[A\n",
      "\u001b[A\n",
      "\u001b[A\n",
      "\u001b[A\n",
      "\u001b[A\n",
      "\u001b[A\n",
      "\u001b[A\n",
      "\u001b[A\n",
      "\u001b[A\n",
      "\u001b[A\n",
      "\u001b[A\n",
      "\u001b[A\n",
      "\u001b[A\n",
      "\u001b[A\n",
      "\u001b[A\n",
      "\u001b[A\n",
      "\u001b[A\n",
      "\u001b[A\n",
      "\u001b[A\n",
      "\u001b[A\n",
      "\u001b[A\n",
      "\u001b[A\n",
      "\u001b[A\n",
      "\u001b[A\n",
      "\u001b[A\n",
      "\u001b[A\n",
      "\u001b[A\n",
      "\u001b[A\n",
      "\u001b[A\n",
      "\u001b[A\n",
      "\u001b[A\n",
      "\u001b[A\n",
      "\u001b[A\n",
      "\u001b[A\n",
      "\u001b[A\n",
      "\u001b[A\n",
      "\u001b[A\n",
      "\u001b[A\n",
      "\u001b[A\n",
      "\u001b[A\n",
      "\u001b[A\n",
      "\u001b[A\n",
      "\u001b[A\n",
      "\u001b[A\n",
      "\u001b[A\n",
      "\u001b[A\n",
      "\u001b[A\n",
      "\u001b[A\n",
      "\u001b[A\n",
      "\u001b[A\n",
      "\u001b[A\n",
      "\u001b[A\n",
      "\u001b[A\n",
      "\u001b[A\n",
      "\u001b[A\n",
      "\u001b[A\n",
      "\u001b[A\n",
      "\u001b[A\n",
      "\u001b[A\n",
      "\u001b[A\n",
      "\u001b[A\n",
      "\u001b[A\n",
      "\u001b[A\n",
      "\u001b[A\n",
      "\u001b[A\n",
      "\u001b[A\n",
      "\u001b[A\n",
      "\u001b[A\n",
      "\u001b[A\n",
      "\u001b[A\n",
      "\u001b[A\n",
      "\u001b[A\n",
      "\u001b[A\n",
      "\u001b[A\n",
      "\u001b[A\n",
      "\u001b[A\n",
      "\u001b[A\n",
      "\u001b[A\n",
      "\u001b[A\n",
      "\u001b[A\n",
      "\u001b[A\n",
      "\u001b[A\n",
      "\u001b[A\n",
      "\u001b[A\n",
      "\u001b[A\n",
      "\u001b[A\n",
      "\u001b[A\n",
      "\u001b[A\n",
      "\u001b[A\n",
      "\u001b[A\n",
      "\u001b[A\n",
      "\u001b[A\n",
      "\u001b[A\n",
      "\u001b[A\n",
      "\u001b[A\n",
      "\u001b[A\n",
      "\u001b[A\n",
      "\u001b[A\n",
      "\u001b[A\n",
      "\u001b[A\n",
      "\u001b[A\n",
      "\u001b[A\n",
      "\u001b[A\n",
      "\u001b[A\n",
      "\u001b[A\n",
      "\u001b[A\n",
      "\u001b[A\n",
      "\u001b[A\n",
      "\u001b[A\n",
      "\u001b[A\n",
      "\u001b[A\n",
      "\u001b[A\n",
      "\u001b[A\n",
      "\u001b[A\n",
      "\u001b[A\n",
      "\u001b[A\n",
      "\u001b[A\n",
      "\u001b[A\n",
      "\u001b[A\n",
      "\u001b[A\n",
      "\u001b[A\n",
      "\u001b[A\n",
      "\u001b[A\n",
      "\u001b[A\n",
      "\u001b[A\n",
      "\u001b[A\n",
      "\u001b[A\n",
      "\u001b[A\n",
      "\u001b[A\n",
      "\u001b[A\n",
      "\u001b[A\n",
      "\u001b[A\n",
      "\u001b[A\n",
      "\u001b[A\n",
      "\u001b[A\n",
      "\u001b[A\n",
      "\u001b[A\n",
      "\u001b[A\n",
      "\u001b[A\n",
      "\u001b[A\n",
      "\u001b[A\n",
      "\u001b[A\n",
      "\u001b[A\n",
      "\u001b[A\n",
      "\u001b[A\n",
      "\u001b[A\n",
      "\u001b[A\n",
      "\u001b[A\n",
      "\u001b[A\n",
      "\u001b[A\n",
      "\u001b[A\n",
      "\u001b[A\n",
      "\u001b[A\n",
      "\u001b[A\n",
      "\u001b[A\n",
      "\u001b[A\n",
      "\u001b[A\n",
      "\u001b[A\n",
      "\u001b[A\n",
      "\u001b[A\n",
      "\u001b[A\n",
      "\u001b[A\n",
      "\u001b[A\n",
      "\u001b[A\n",
      "\u001b[A\n",
      "\u001b[A\n",
      "\u001b[A\n",
      "\u001b[A\n",
      "\u001b[A\n",
      "\u001b[A\n",
      "\u001b[A\n",
      "\u001b[A\n",
      "\u001b[A\n",
      "\u001b[A\n",
      "\u001b[A\n",
      "\u001b[A\n",
      "\u001b[A\n",
      "\u001b[A\n",
      "\u001b[A\n",
      "\u001b[A\n",
      "\u001b[A\n",
      "\u001b[A\n",
      "\u001b[A\n",
      "\u001b[A\n",
      "\u001b[A\n",
      "\u001b[A\n",
      "\u001b[A\n",
      "\u001b[A\n",
      "\u001b[A\n",
      "\u001b[A\n",
      "\u001b[A\n",
      "\u001b[A\n",
      "\u001b[A\n",
      "                                                     \n",
      "\u001b[A                                                  \n",
      "\n",
      "  0%|          | 6/7500 [6:46:16<17:32:26,  8.43s/it]\n",
      "\u001b[A\n",
      "\u001b[A"
     ]
    },
    {
     "name": "stdout",
     "output_type": "stream",
     "text": [
      "{'eval_loss': 5.535392761230469, 'eval_runtime': 736.839, 'eval_samples_per_second': 2.714, 'eval_steps_per_second': 0.679, 'epoch': 1.0}\n"
     ]
    },
    {
     "name": "stderr",
     "output_type": "stream",
     "text": [
      "There were missing keys in the checkpoint model loaded: ['encoder.embed_tokens.weight', 'decoder.embed_tokens.weight'].\n",
      "                                                     \n",
      "100%|██████████| 2500/2500 [6:45:18<00:00,  9.73s/it]\n"
     ]
    },
    {
     "name": "stdout",
     "output_type": "stream",
     "text": [
      "{'train_runtime': 24319.1993, 'train_samples_per_second': 0.411, 'train_steps_per_second': 0.103, 'train_loss': 11.98397053527832, 'epoch': 1.0}\n"
     ]
    },
    {
     "data": {
      "text/plain": [
       "TrainOutput(global_step=2500, training_loss=11.98397053527832, metrics={'train_runtime': 24319.1993, 'train_samples_per_second': 0.411, 'train_steps_per_second': 0.103, 'total_flos': 5287496908800000.0, 'train_loss': 11.98397053527832, 'epoch': 1.0})"
      ]
     },
     "execution_count": 7,
     "metadata": {},
     "output_type": "execute_result"
    }
   ],
   "source": [
    "\n",
    "# Fine-tune the model\n",
    "trainer.train()\n"
   ]
  },
  {
   "cell_type": "code",
   "execution_count": 8,
   "metadata": {},
   "outputs": [
    {
     "name": "stdout",
     "output_type": "stream",
     "text": [
      "Average BLEU Score: 0.0006279388331626488\n"
     ]
    },
    {
     "name": "stderr",
     "output_type": "stream",
     "text": [
      "c:\\Users\\ASUS\\AppData\\Local\\Programs\\Python\\Python310\\lib\\site-packages\\nltk\\translate\\bleu_score.py:577: UserWarning: \n",
      "The hypothesis contains 0 counts of 2-gram overlaps.\n",
      "Therefore the BLEU score evaluates to 0, independently of\n",
      "how many N-gram overlaps of lower order it contains.\n",
      "Consider using lower n-gram order or use SmoothingFunction()\n",
      "  warnings.warn(_msg)\n",
      "c:\\Users\\ASUS\\AppData\\Local\\Programs\\Python\\Python310\\lib\\site-packages\\nltk\\translate\\bleu_score.py:577: UserWarning: \n",
      "The hypothesis contains 0 counts of 3-gram overlaps.\n",
      "Therefore the BLEU score evaluates to 0, independently of\n",
      "how many N-gram overlaps of lower order it contains.\n",
      "Consider using lower n-gram order or use SmoothingFunction()\n",
      "  warnings.warn(_msg)\n",
      "c:\\Users\\ASUS\\AppData\\Local\\Programs\\Python\\Python310\\lib\\site-packages\\nltk\\translate\\bleu_score.py:577: UserWarning: \n",
      "The hypothesis contains 0 counts of 4-gram overlaps.\n",
      "Therefore the BLEU score evaluates to 0, independently of\n",
      "how many N-gram overlaps of lower order it contains.\n",
      "Consider using lower n-gram order or use SmoothingFunction()\n",
      "  warnings.warn(_msg)\n"
     ]
    },
    {
     "name": "stdout",
     "output_type": "stream",
     "text": [
      "Article: Liputan6 . com , Bangka : Kapal patroli Angkatan Laut Republik Indonesia , Belinyu , baru-baru ini , menangkap tiga kapal nelayan berbendera Thailand , yakni KM Binatama , KM Sumber Jaya II , dan KM Mataram di Perairan Belitung Utara . Ketiga kapal itu ditangkap karena melanggar zona ekonomi ekslusif Indonesia . Saat ini , kapal-kapal itu diamankan di Pos Lanal Pelabuhan Pangkalan Balam , Bangka-Belitung . Menurut Komandan Pangkalan TNI AL Bangka Letnan Kolonel Laut Fredy Egam , selain menangkap tiga kapal , ALRI juga memeriksa 43 anak buah kapal . Mereka disergap saat sedang mengangkat jaring pukat harimau di Perairan Belitung Utara . Dari jumlah itu , hanya enam orang yang dijadikan tersangka , yakni tiga nahkoda dan tiga kepala kamar mesin kapal . Sedangkan ABK yang lain akan dideportasi ke negara asalnya . Meski berhasil menahan enam tersangka , TNI AL gagal mengamankan ikan tangkapan nelayan Thailand tersebut . Sebab , sebelum patroli datang , mereka telah memindahkan puluhan ton ikan hasil jaringan ke kapal induk . ( ULF/Ajmal Rokian dan Yanuar Ichrom ) ....\n",
      "Reference Summary: Meski memiliki izin resmi , TNI AL tetap menangkap tiga kapan nelayan berbendera Thailand . Pasalnya , ketiga kapal itu melanggar zona ekonomi ekslusif dan menjaring ikan dengan pukat harimau .\n",
      "Predicted Summary: <extra_id_0> . . .\n",
      "BLEU Score: 2.1461875372029916e-233\n",
      "\n",
      "Article: Liputan6 . com , Bandar Lampung : Sebanyak 51 anak di bawah umur lima tahun terserang busung lapar atau marasmus karena kekurangan gizi di Kota Madya Bandar Lampung . Lima di antaranya tewas . Data tersebut diungkapkan Kepala Dinas Kesehatan Kota Bandar Lampung M . Sudarman , baru-baru ini . Menurut Sudarman , Dinas Kesehatan Bandar Lampung mencatat sekitar 51 anak terserang busung lapar yang tersebar di beberapa kecamatan , selama periode 1999 sampai 2001 . Kebanyakan anak penderita busung tersebut berasal dari keluarga yang hidup di bawah garis kemiskinan . Selain kekurangan gizi , komplikasi radang paru-paru juga menjadi satu faktor penyebab kematian anak penderita busung lapar tersebut . Data Dinas Kesehatan menunjukkan pada 1999 , ditemukan 41 anak terserang penyakit busung lapar . Sebagian besar penderita berdomisili di kampung miskin Umbul Kunci . Jumlah penderita busung lapar menurun pada 2000 , yakni hanya sembilan anak . Sedangkan September 2001 , seorang anak meninggal karena marasmus . Sudarman menegaskan , untuk menekan jumlah korban marasmus , anak-anak dan balita diberi makanan tambahan ke sentra-sentra rawan busung lapar seperti di Desa Umbul Unci . Tetapi , berdasarkan keterangan masyarakat Umbul Kunci , program makanan tambahan ini hanya berjalan setahun yakni pada 1999 . Warga setempat mengaku tak pernah lagi menerima makanan tambahan bagi anak-anak kurang gizi sejak dua tahun terakhir . ( TNA/Bisri Merduani ) ....\n",
      "Reference Summary: Sebanyak 51 anak di bawah usia lima tahun di Kota Madya Bandar Lampung , menderita busung lapar karena kekurangan gizi . Lima di antaranya meninggal dunia .\n",
      "Predicted Summary: <extra_id_0> . . . . .\n",
      "BLEU Score: 1.1982403254679314e-232\n",
      "\n",
      "Article: Liputan6 . com , Jakarta : Polemik seputar pelaksanaan Sidang Istimewa MPR , 1 Agustus mendatang , terus bergulir . Setelah sekian kali , Presiden Abdurrahman Wahid kembali mengeluarkan ancaman akan memberlakukan status keadaan bahaya dan darurat sipil . Langkah itu bakal dilakukan jika SI MPR tetap meminta pertanggungjawaban dirinya . Penegasan tersebut diungkapkan Presiden Wahid dalam dialog usai salat Jumat di Mesjid Al Munawarah , Ciganjur , Jakarta Selatan , Jumat ( 06/7 ) . Bagi Gus Dur , pada dasarnya dia tidak mempermasalahkan pelaksanaan SI MPR . Asalkan , agenda yang dibahas tidak menyangkut pertanggungjawaban dan kinerja pemerintahannya . \" Sebab , masih ada agenda lain yang bisa dibahas , demi kemajuan negara ini , \" kata Gus Dur , serius . Pernyataan Gus Dur kontan ditanggap Wakil Rakyat . Menurut anggota Fraksi Partai Bulan Bintang DPR Hamdan Zoelva , pemberlakuan keadaan darurat sipil justru akan mempermudah aparat keamanan untuk mengantisipasi . Jadi , siapa pun yang berniat mengganggu jalannya SI MPR , bisa diantisipasi sejak awal . Meski begitu , bagi Hamdan , saat ditemui usai dialog soal voting dan money politics Jumat siang tadi , keadaan darurat sipil tadi tak boleh salah arah . Misalnya , bila diberlakukan untuk melarang anggota dewan bersidang . \" Itu menorehkan sejarah hitam sistem ketatanegaraan kita , \" kata Hamdan . Hamdan juga menambahkan , bila darurat sipil hanya semata-mata untuk menghambat jalannya SI MPR , nilai tambah buat Gus Dur . Bahkan , tidak menutup kemungkinan malah memicu kebulatan tekad keputusan sidang Wakil Rakyat untuk menolak pertanggungjawaban Presiden Wahid . ( BMI/Tim Liputan 6 SCTV ) ....\n",
      "Reference Summary: Presiden Abdurrahman Wahid kembali mengeluarkan ancaman akan memberlakukan status keadaan darurat sipil . Terutama , jika Sidang Istimewa MPR 1 Agustus mendatang tetap meminta pertanggungjawaban dirinya .\n",
      "Predicted Summary: <extra_id_0> . . . . . . . . . . . . . . . . . . . . . . . . . . . . . . . . . . . . . . . . . . . . . . . . . . . . .\n",
      "BLEU Score: 7.919883909890055e-232\n",
      "\n",
      "Article: Liputan6 . com , Ambon : Bahan bakar minyak jenis solar dan premium , selama sepekan terakhir , mulai langka di Kota Ambon . Akibatnya , sebagian besar kendaraan umum di Ambon memilih berhenti beroperasi karena sulit mendapatkan bahan bakar . Selain itu , kelangkaan tersebut juga memicu kenaikan harga premium di tingkat pengecer : mencapai Rp 2 ribu per liter . Padahal , biasanya harga premium hanya Rp 1 . 700 per liter . Demikian hasil pantauan SCTV di Ambon , baru-baru ini . Beberapa pedagang minyak eceran mengaku , kelangkaan terjadi karena pasokan dari Depot Pertamina Wayame berkurang . Selain itu , mereka juga menduga kelangkaan terjadi lantaran adanya ulah oknum yang menyuplai minyak ke sejumlah kapal di Pelabuhan Maluku . Menanggapi itu , Kapala Cabang Pertamina Unit Pemasaran dan Perbekalan Dalam Negeri VIII Ambon Subaedi memastikan , kelangkaan terjadi karena adanya kebijakan Pertamina Pusat yang mengurangi jatah pasokan . Subaedi memperkirakan , kelangkaan BBM di Ambon akan terus berlangsung hingga bulan depan . Tapi , ia menolak jika kelangkaan terjadi akibat adanya kerja sama kotor antara Pertamina dan para spekulan . ( ICH/Sahlan Heluth ) ....\n",
      "Reference Summary: Sepekan terakhir , bahan bakar minyak jenis solar dan premium di Kota Ambon , mulai langka . Kelangkaan terjadi karena pasokan BBM dari Depot Pertamina Wayame berkurang .\n",
      "Predicted Summary: <extra_id_0> . . . . . . .\n",
      "BLEU Score: 2.0138900446751835e-232\n",
      "\n",
      "Article: Liputan6 . com , Jakarta : Seluruh perubahan pasal Undang-Undang Nomor 23 tahun 1999 tentang Bank Indonesia telah disetujui oleh pemerintah dan DPR . Namun masih ada satu polemik soal pasal 75 . Inti pasal itu adalah soal memberhentikan seluruh anggota Dewan Gubernur BI , setelah UU Amendemen BI berlaku efektif . Bagi BI sendiri , posisinya harus tetap independen . Pernyataan itu ditegaskan Gubernur BI Sjahril Sabirin , baru-baru ini , di Jakarta . Menurut Sjahril , persoalan amendemen sudah menjadi kewenangan pemerintah dan DPR . Sebab kedua lembaga tersebut telah mendapat masukan dari tim panel Dana Moneter Internasional ( IMF ) . \" IMF sudah menganjurkan pembentukan tim panel , \" kata Sjahril . Lantas , tambah dia , tim panel itu juga sudah mengeluarkan hasil keputusan . \" Sekarang , tergantung pemerintah dan DPR untuk menerapkannya , \" kata Sjahril , serius . Pembahasan pasal 75 sendiri masih berlangsung di Panitia Kerja DPR . Panja ini mengusulkan pilihan supaya pemerintah mempercepat pembentukan Dewan Supervisi BI . Lantas , panja juga menawarkan kepada pemerintah untuk membuat laporan mengenai penyimpangan di tubuh BI . Berdasarkan laporan ini , DPR mesti menggelar paripurna untuk menentukan perlu tidaknya mengganti Gubernur BI . ( COK/Olivia Rosalia dan Bambang Triono ) ....\n",
      "Reference Summary: Bank Indonesia menyerahkan sepenuhnya amendemen UU BI tentang pergantian dewan gubernur kepada pemerintah dan DPR . Diperkirakan , polemik soal pasal 75 sulit untuk bisa mencapai kata sepakat .\n",
      "Predicted Summary: <extra_id_0> . . . . . . . . . . . . . . . . . . . . . . . . . . . . . . . . . . . . . . . . . . . . . . . . . . . . . . . .. . .. ..\n",
      "BLEU Score: 7.720899511627474e-232\n",
      "\n",
      "Article: Liputan6 . com , Jakarta : Mantan Presiden B . J . Habibie , Rabu ( 27/11 ) , kembali tak memenuhi panggilan Kejaksaan Agung . Sedianya , Habibie akan diperiksa sebagai saksi dalam kasus penggunaan dana nonbujeter Badan Urusan Logistik senilai Rp 54 , 6 miliar yang diduga melibatkan mantan Menteri Sekretaris Negara Akbar Tandjung . Bila tak ada aral melintang , pengacara Habibie , Yan Juanda , akan tiba di Kejagung sekitar pukul 12 . 00 WIB . Yan Juanda akan menjelaskan bahwa Habibie tak bisa memenuhi panggilan Kejagung untuk kedua kalinya karena masih berada di Jerman untuk menemani istrinya yang sakit . Menurut Kepala Pusat Penerangan dan Hukum Kejagung Moeljohardjo , sebenarnya kehadiran Habibie sangat diperlukan untuk mengungkap kasus tersebut . Sebab , Kejagung benar-benar serius untuk menyelesaikan Kasus Bulog dengan segera . Apabila , Habibie tak bisa datang ke Indonesia , bukan tak mungkin tim penyidik Kejagung akan ke Jerman untuk menemui Habibie . ( ULF/Edi Priono dan Irfan Efendi ) ....\n",
      "Reference Summary: Kejaksaan Agung akan mengirim tim penyidik ke Jerman untuk menemui mantan Presiden B . J . Habibie . Mantan Presiden ketiga itu kembali tak memenuhi panggilan Kejagung .\n",
      "Predicted Summary: <extra_id_0> . . . . .\n",
      "BLEU Score: 1.2575191861870427e-232\n",
      "\n",
      "Article: Liputan6 . com , Jakarta : Unjuk rasa anti-Amerika Serikat yang kini tengah memanas , ternyata telah menyusahkan sejumlah karyawan yang bekerja di sekitar Kedutaan Besar AS , Jalan Medan Merdeka Selatan , Jakarta Pusat . Pasalnya , jalan tersebut kerap ditutup untuk arus lalu lintas . Akibatnya , mereka harus rela berjalan kaki cukup jauh dari tempat bekerja . Untuk itu , mereka berharap agar unjuk rasa sejumlah elemen masyarakat yang menentang Amerika dapat dilakukan dengan tertib . \" Supaya transportasi tak terganggu , \" kata Ade , seorang karyawan , di Jakarta , baru-baru ini . Menurut Ade , kendaraan miliknya terpaksa diparkir di lokasi yang cukup jauh dari kantornya . Selain itu , meski terbiasa melihat unjuk rasa , sekarang ini , mereka suka was-was dan khawatir terjadi bentrokan lantaran yang berdemo terlihat lebih brutal . ( DEN/Apriliana dan Agus Ginanjar ) ....\n",
      "Reference Summary: Karyawan yang berkantor di sekitar Kedubes AS terpaksa berjalan kaki jika terjadi aksi anti-Amerika . Unjuk rasa diharapkan berlangsung lebih tertib .\n",
      "Predicted Summary: <extra_id_0> . . . . . . . . . . . . . . . . .\n",
      "BLEU Score: 9.269981669466712e-232\n",
      "\n",
      "Article: Liputan6 . com , Jakarta : Menteri Pendidikan Nasional Yahya Muhaimin meminta unsur dan instansi yang terlibat dalam penerimaan siswa baru tak mempersulit calon siswa . Permintaan Mendiknas tersebut disampaikan seusai melantik tujuh rektor perguruan tinggi negeri di Jakarta , Jumat ( 13/7 ) . Yahya mengakui ada beberapa pelanggaran dalam peneriman calon siswa baru tahun ini . Yahya mencontohkan ada orang tua siswa yang terpaksa menyogok panitia penerima siswa agar anaknya masuk ke sekolah favorit . Selain itu beredar juga katabelece di beberapa sekolah . Karena itu , Yahya berjanji akan menindak penyelewengan . Sementara itu , pelantikan rektor sempat tertunda . Pasalnya , Pembantu Rektor III Universitas Cendrawasih , Jayapura , Irianjaya , Robert Pilipus Lalenoh jatuh pingsan . Akhirnya , Pilipus meninggal dunia di Rumah Sakit Angkatan Laut Mintohardjo Jakarta . ( YYT/Tri Ambarwatie dan Rafael Setyo ) ....\n",
      "Reference Summary: Sejumlah penyelewengan dalam penerimaan calon siswa baru dapat diidentifikasi . Karena itu , dalam waktu dekat Mendiknas Yahya Muhaimin berjanji membentuk sebuah tim untuk menindak pelaku penyelewengan .\n",
      "Predicted Summary: <extra_id_0> . . . . . . . . . . . . . . . . . . . . . . . . . . . . .\n",
      "BLEU Score: 9.109159947227211e-232\n",
      "\n",
      "Article: Liputan6 . com , Jakarta : Seorang bapak dan anak ditemukan tewas dengan kondisi mengenaskan di kediamannya di Duri Selatan RT 4 , RW 5 Nomor 2 , Jakarta Barat , Senin ( 21/5 ) sekitar pukul 11 . 00 . Sejauh ini , polisi belum mengetahui penyebab kematian kedua korban . Yang pasti , polisi menemukan pisau bernoda darah dan luka di sekujur tubuh kedua korban . Demikian diungkapkan Kepala Kepolisian Sektor Tambora Ajun Komisaris Polisi Merdisyam , di Jakarta , tadi malam . Menurut Merdisyam , Hendrikus , 41 tahun dan anaknya , Michael , 4 tahun tewas sangat mengenaskan dengan luka di sekujur tubuh . Ia menambahkan sejumlah barang bukti di antaranya pisau bernoda darah ditemukan di tempat kejadian . Menurut Merdisyam , mayat Hendrikus , 41 tahun dan anaknya , Michael 4 tahun pertama kali ditemukan istrinya , Afa . Kala itu , Afa yang baru tiba dari rumah saudaranya melihat pintu rumah depan tak terkunci . Sedangkan pintu pagar rumah dalam keadaan terkunci . Ketika masuk rumahnya , ibu dua anak itu mendapati suami dan anaknya tewas dalam kondisi mengenaskan . Dari keterangan yang dihimpun SCTV menyebutkan , sejumlah warga yang berada di sekitar lokasi tak sedikit pun mendengar kegaduhan di rumah korban . Warga juga mengaku , tak ada tamu yang datang ke rumah korban sejak petang hari . Untuk mengungkap kasus ini , polisi menurunkan anjing pelacak , memeriksa istri korban , dan sejumlah saksi . Namun hingga kini , polisi belum dapat memastikan : apakah kedua korban terbunuh atau bunuh diri ? ( AWD/Christiyanto dan Agus Kusnohadi ) ....\n",
      "Reference Summary: Hendrikus , 41 tahun dan anaknya , Michael , 4 tahun ditemukan tewas mengenaskan di rumahnya , di Duri Selatan RT 4 , RW 5 Nomor 2 , Jakarta Barat . Mayat Hendrikus dan anaknya ditemukan istrinya , Afa .\n",
      "Predicted Summary: <extra_id_0> . . . . .\n",
      "BLEU Score: 2.3594750978510907e-233\n",
      "\n",
      "Article: Liputan6 . com , Jakarta : Sekretaris Fraksi Reformasi ( FR ) DPR Alvin Lie Ling Pao mengadukan rekan sefraksinya , Syamsul Balda ke Kepolisian Daerah Metro Jaya , Selasa ( 11/9 ) . Alvin menuduh Syamsul mencemarkan nama baiknya sebagai anggota DPR . Alvin menjelaskan , perkara itu bermula dari pernyataan Syamsul di sejumlah media massa soal posisi sekretaris FR yang dipegangnya . Kala itu , menurut Alvin , Syamsul mengatakan Alvin hanya mencapai posisi terakhir saat pemilihan ketua FR , sehingga tak layak menduduki posisi sekretaris fraksi . Pendapat Syamsul itulah , menurut Alvin , yang membuatnya geram , sehingga ia melaporkan pekara itu ke polisi . Sebaliknya , Syamsul menyayangkan tindakan Wakil Sekretaris Jenderal Partai Amanat Nasional itu . Apalagi , ia mengaku , Alvin tak pernah secara langsung menanyakan soal itu kepadanya . Karena itu , ia berjanji akan membeberkan duduk perkara tuduhan tersebut bila dipanggil polisi . Keinginan Syamsul tampaknya bakal menjadi kenyataan . Sebab , selain akan menyelidiki pengaduan tersebut , polisi juga berniat mengirim surat permohonan pemeriksaan terhadap Syamsul kepada Presiden . ( AWD/Tim Liputan 6 SCTV ) ....\n",
      "Reference Summary: Sekretaris Fraksi Reformasi Alvin Lie mengadukan rekan sefraksinya , Syamsul Balda ke Polisi dengan tuduhan pencemaran nama baik . Syamsul menganggap Alvin berlebihan .\n",
      "Predicted Summary: <extra_id_0> . . . . . . . . . . . . . . . . . . . . . . . . . . . . . . . . . .\n",
      "BLEU Score: 8.784466509829401e-232\n",
      "\n"
     ]
    }
   ],
   "source": [
    "from nltk.translate.bleu_score import sentence_bleu\n",
    "\n",
    "# Evaluate BLEU score\n",
    "def compute_bleu(data):\n",
    "    references = [[word_tokenize(summary)] for summary in data[\"summary\"]]\n",
    "    predictions = []\n",
    "    for article in data[\"document\"]:\n",
    "        inputs = tokenizer(\"summarize: \" + article, return_tensors=\"pt\", max_length=512, truncation=True)\n",
    "        outputs = model.generate(**inputs, max_length=128, num_beams=4, early_stopping=True)\n",
    "        pred_summary = tokenizer.decode(outputs[0], skip_special_tokens=True)\n",
    "        predictions.append(word_tokenize(pred_summary))\n",
    "    return corpus_bleu(references, predictions)\n",
    "\n",
    "average_bleu = compute_bleu(test_data)\n",
    "print(f\"Average BLEU Score: {average_bleu}\")\n",
    "\n",
    "# Predict on test data and print BLEU score for each sample\n",
    "for i in range(10):  # Predict and display summaries for first 10 examples\n",
    "    article = test_data[i][\"document\"]\n",
    "    reference_summary = test_data[i][\"summary\"]\n",
    "\n",
    "    # Generate prediction\n",
    "    inputs = tokenizer(\"summarize: \" + article, return_tensors=\"pt\", max_length=512, truncation=True)\n",
    "    outputs = model.generate(**inputs, max_length=128, num_beams=4, early_stopping=True)\n",
    "    pred_summary = tokenizer.decode(outputs[0], skip_special_tokens=True)\n",
    "\n",
    "    # Tokenize references and prediction\n",
    "    reference_tokens = word_tokenize(reference_summary)\n",
    "    prediction_tokens = word_tokenize(pred_summary)\n",
    "\n",
    "    # Compute BLEU score for the sample\n",
    "    sample_bleu = sentence_bleu([reference_tokens], prediction_tokens)\n",
    "\n",
    "    print(f\"Article: {article}...\")\n",
    "    print(f\"Reference Summary: {reference_summary}\")\n",
    "    print(f\"Predicted Summary: {pred_summary}\")\n",
    "    print(f\"BLEU Score: {sample_bleu}\\n\")\n"
   ]
  },
  {
   "cell_type": "code",
   "execution_count": null,
   "metadata": {},
   "outputs": [
    {
     "name": "stdout",
     "output_type": "stream",
     "text": [
      "Average BLEU Score: 0.0004225577576027379\n",
      "Article: Liputan6 . com , Bangka : Kapal patroli Angkatan Laut Republik Indonesia , Belinyu , baru-baru ini , menangkap tiga kapal nelayan berbendera Thailand , yakni KM Binatama , KM Sumber Jaya II , dan KM Mataram di Perairan Belitung Utara . Ketiga kapal itu ditangkap karena melanggar zona ekonomi ekslusif Indonesia . Saat ini , kapal-kapal itu diamankan di Pos Lanal Pelabuhan Pangkalan Balam , Bangka-Belitung . Menurut Komandan Pangkalan TNI AL Bangka Letnan Kolonel Laut Fredy Egam , selain menangkap tiga kapal , ALRI juga memeriksa 43 anak buah kapal . Mereka disergap saat sedang mengangkat jaring pukat harimau di Perairan Belitung Utara . Dari jumlah itu , hanya enam orang yang dijadikan tersangka , yakni tiga nahkoda dan tiga kepala kamar mesin kapal . Sedangkan ABK yang lain akan dideportasi ke negara asalnya . Meski berhasil menahan enam tersangka , TNI AL gagal mengamankan ikan tangkapan nelayan Thailand tersebut . Sebab , sebelum patroli datang , mereka telah memindahkan puluhan ton ikan hasil jaringan ke kapal induk . ( ULF/Ajmal Rokian dan Yanuar Ichrom ) ....\n",
      "Reference Summary: Meski memiliki izin resmi , TNI AL tetap menangkap tiga kapan nelayan berbendera Thailand . Pasalnya , ketiga kapal itu melanggar zona ekonomi ekslusif dan menjaring ikan dengan pukat harimau .\n",
      "Predicted Summary: <extra_id_0> . .\n",
      "BLEU Score: 7.992672451942217e-234\n",
      "\n",
      "Article: Liputan6 . com , Bandar Lampung : Sebanyak 51 anak di bawah umur lima tahun terserang busung lapar atau marasmus karena kekurangan gizi di Kota Madya Bandar Lampung . Lima di antaranya tewas . Data tersebut diungkapkan Kepala Dinas Kesehatan Kota Bandar Lampung M . Sudarman , baru-baru ini . Menurut Sudarman , Dinas Kesehatan Bandar Lampung mencatat sekitar 51 anak terserang busung lapar yang tersebar di beberapa kecamatan , selama periode 1999 sampai 2001 . Kebanyakan anak penderita busung tersebut berasal dari keluarga yang hidup di bawah garis kemiskinan . Selain kekurangan gizi , komplikasi radang paru-paru juga menjadi satu faktor penyebab kematian anak penderita busung lapar tersebut . Data Dinas Kesehatan menunjukkan pada 1999 , ditemukan 41 anak terserang penyakit busung lapar . Sebagian besar penderita berdomisili di kampung miskin Umbul Kunci . Jumlah penderita busung lapar menurun pada 2000 , yakni hanya sembilan anak . Sedangkan September 2001 , seorang anak meninggal karena marasmus . Sudarman menegaskan , untuk menekan jumlah korban marasmus , anak-anak dan balita diberi makanan tambahan ke sentra-sentra rawan busung lapar seperti di Desa Umbul Unci . Tetapi , berdasarkan keterangan masyarakat Umbul Kunci , program makanan tambahan ini hanya berjalan setahun yakni pada 1999 . Warga setempat mengaku tak pernah lagi menerima makanan tambahan bagi anak-anak kurang gizi sejak dua tahun terakhir . ( TNA/Bisri Merduani ) ....\n",
      "Reference Summary: Sebanyak 51 anak di bawah usia lima tahun di Kota Madya Bandar Lampung , menderita busung lapar karena kekurangan gizi . Lima di antaranya meninggal dunia .\n",
      "Predicted Summary: <extra_id_0> .\n",
      "BLEU Score: 4.100152922267089e-234\n",
      "\n",
      "Article: Liputan6 . com , Jakarta : Polemik seputar pelaksanaan Sidang Istimewa MPR , 1 Agustus mendatang , terus bergulir . Setelah sekian kali , Presiden Abdurrahman Wahid kembali mengeluarkan ancaman akan memberlakukan status keadaan bahaya dan darurat sipil . Langkah itu bakal dilakukan jika SI MPR tetap meminta pertanggungjawaban dirinya . Penegasan tersebut diungkapkan Presiden Wahid dalam dialog usai salat Jumat di Mesjid Al Munawarah , Ciganjur , Jakarta Selatan , Jumat ( 06/7 ) . Bagi Gus Dur , pada dasarnya dia tidak mempermasalahkan pelaksanaan SI MPR . Asalkan , agenda yang dibahas tidak menyangkut pertanggungjawaban dan kinerja pemerintahannya . \" Sebab , masih ada agenda lain yang bisa dibahas , demi kemajuan negara ini , \" kata Gus Dur , serius . Pernyataan Gus Dur kontan ditanggap Wakil Rakyat . Menurut anggota Fraksi Partai Bulan Bintang DPR Hamdan Zoelva , pemberlakuan keadaan darurat sipil justru akan mempermudah aparat keamanan untuk mengantisipasi . Jadi , siapa pun yang berniat mengganggu jalannya SI MPR , bisa diantisipasi sejak awal . Meski begitu , bagi Hamdan , saat ditemui usai dialog soal voting dan money politics Jumat siang tadi , keadaan darurat sipil tadi tak boleh salah arah . Misalnya , bila diberlakukan untuk melarang anggota dewan bersidang . \" Itu menorehkan sejarah hitam sistem ketatanegaraan kita , \" kata Hamdan . Hamdan juga menambahkan , bila darurat sipil hanya semata-mata untuk menghambat jalannya SI MPR , nilai tambah buat Gus Dur . Bahkan , tidak menutup kemungkinan malah memicu kebulatan tekad keputusan sidang Wakil Rakyat untuk menolak pertanggungjawaban Presiden Wahid . ( BMI/Tim Liputan 6 SCTV ) ....\n",
      "Reference Summary: Presiden Abdurrahman Wahid kembali mengeluarkan ancaman akan memberlakukan status keadaan darurat sipil . Terutama , jika Sidang Istimewa MPR 1 Agustus mendatang tetap meminta pertanggungjawaban dirinya .\n",
      "Predicted Summary: <extra_id_0> .\n",
      "BLEU Score: 4.100152922267089e-234\n",
      "\n",
      "Article: Liputan6 . com , Ambon : Bahan bakar minyak jenis solar dan premium , selama sepekan terakhir , mulai langka di Kota Ambon . Akibatnya , sebagian besar kendaraan umum di Ambon memilih berhenti beroperasi karena sulit mendapatkan bahan bakar . Selain itu , kelangkaan tersebut juga memicu kenaikan harga premium di tingkat pengecer : mencapai Rp 2 ribu per liter . Padahal , biasanya harga premium hanya Rp 1 . 700 per liter . Demikian hasil pantauan SCTV di Ambon , baru-baru ini . Beberapa pedagang minyak eceran mengaku , kelangkaan terjadi karena pasokan dari Depot Pertamina Wayame berkurang . Selain itu , mereka juga menduga kelangkaan terjadi lantaran adanya ulah oknum yang menyuplai minyak ke sejumlah kapal di Pelabuhan Maluku . Menanggapi itu , Kapala Cabang Pertamina Unit Pemasaran dan Perbekalan Dalam Negeri VIII Ambon Subaedi memastikan , kelangkaan terjadi karena adanya kebijakan Pertamina Pusat yang mengurangi jatah pasokan . Subaedi memperkirakan , kelangkaan BBM di Ambon akan terus berlangsung hingga bulan depan . Tapi , ia menolak jika kelangkaan terjadi akibat adanya kerja sama kotor antara Pertamina dan para spekulan . ( ICH/Sahlan Heluth ) ....\n",
      "Reference Summary: Sepekan terakhir , bahan bakar minyak jenis solar dan premium di Kota Ambon , mulai langka . Kelangkaan terjadi karena pasokan BBM dari Depot Pertamina Wayame berkurang .\n",
      "Predicted Summary: <extra_id_0> di Ambon .\n",
      "BLEU Score: 3.9159552871310616e-233\n",
      "\n",
      "Article: Liputan6 . com , Jakarta : Seluruh perubahan pasal Undang-Undang Nomor 23 tahun 1999 tentang Bank Indonesia telah disetujui oleh pemerintah dan DPR . Namun masih ada satu polemik soal pasal 75 . Inti pasal itu adalah soal memberhentikan seluruh anggota Dewan Gubernur BI , setelah UU Amendemen BI berlaku efektif . Bagi BI sendiri , posisinya harus tetap independen . Pernyataan itu ditegaskan Gubernur BI Sjahril Sabirin , baru-baru ini , di Jakarta . Menurut Sjahril , persoalan amendemen sudah menjadi kewenangan pemerintah dan DPR . Sebab kedua lembaga tersebut telah mendapat masukan dari tim panel Dana Moneter Internasional ( IMF ) . \" IMF sudah menganjurkan pembentukan tim panel , \" kata Sjahril . Lantas , tambah dia , tim panel itu juga sudah mengeluarkan hasil keputusan . \" Sekarang , tergantung pemerintah dan DPR untuk menerapkannya , \" kata Sjahril , serius . Pembahasan pasal 75 sendiri masih berlangsung di Panitia Kerja DPR . Panja ini mengusulkan pilihan supaya pemerintah mempercepat pembentukan Dewan Supervisi BI . Lantas , panja juga menawarkan kepada pemerintah untuk membuat laporan mengenai penyimpangan di tubuh BI . Berdasarkan laporan ini , DPR mesti menggelar paripurna untuk menentukan perlu tidaknya mengganti Gubernur BI . ( COK/Olivia Rosalia dan Bambang Triono ) ....\n",
      "Reference Summary: Bank Indonesia menyerahkan sepenuhnya amendemen UU BI tentang pergantian dewan gubernur kepada pemerintah dan DPR . Diperkirakan , polemik soal pasal 75 sulit untuk bisa mencapai kata sepakat .\n",
      "Predicted Summary: <extra_id_0> .\n",
      "BLEU Score: 2.4868684568653395e-234\n",
      "\n",
      "Article: Liputan6 . com , Jakarta : Mantan Presiden B . J . Habibie , Rabu ( 27/11 ) , kembali tak memenuhi panggilan Kejaksaan Agung . Sedianya , Habibie akan diperiksa sebagai saksi dalam kasus penggunaan dana nonbujeter Badan Urusan Logistik senilai Rp 54 , 6 miliar yang diduga melibatkan mantan Menteri Sekretaris Negara Akbar Tandjung . Bila tak ada aral melintang , pengacara Habibie , Yan Juanda , akan tiba di Kejagung sekitar pukul 12 . 00 WIB . Yan Juanda akan menjelaskan bahwa Habibie tak bisa memenuhi panggilan Kejagung untuk kedua kalinya karena masih berada di Jerman untuk menemani istrinya yang sakit . Menurut Kepala Pusat Penerangan dan Hukum Kejagung Moeljohardjo , sebenarnya kehadiran Habibie sangat diperlukan untuk mengungkap kasus tersebut . Sebab , Kejagung benar-benar serius untuk menyelesaikan Kasus Bulog dengan segera . Apabila , Habibie tak bisa datang ke Indonesia , bukan tak mungkin tim penyidik Kejagung akan ke Jerman untuk menemui Habibie . ( ULF/Edi Priono dan Irfan Efendi ) ....\n",
      "Reference Summary: Kejaksaan Agung akan mengirim tim penyidik ke Jerman untuk menemui mantan Presiden B . J . Habibie . Mantan Presiden ketiga itu kembali tak memenuhi panggilan Kejagung .\n",
      "Predicted Summary: <extra_id_0> .\n",
      "BLEU Score: 3.193202306574118e-234\n",
      "\n",
      "Article: Liputan6 . com , Jakarta : Unjuk rasa anti-Amerika Serikat yang kini tengah memanas , ternyata telah menyusahkan sejumlah karyawan yang bekerja di sekitar Kedutaan Besar AS , Jalan Medan Merdeka Selatan , Jakarta Pusat . Pasalnya , jalan tersebut kerap ditutup untuk arus lalu lintas . Akibatnya , mereka harus rela berjalan kaki cukup jauh dari tempat bekerja . Untuk itu , mereka berharap agar unjuk rasa sejumlah elemen masyarakat yang menentang Amerika dapat dilakukan dengan tertib . \" Supaya transportasi tak terganggu , \" kata Ade , seorang karyawan , di Jakarta , baru-baru ini . Menurut Ade , kendaraan miliknya terpaksa diparkir di lokasi yang cukup jauh dari kantornya . Selain itu , meski terbiasa melihat unjuk rasa , sekarang ini , mereka suka was-was dan khawatir terjadi bentrokan lantaran yang berdemo terlihat lebih brutal . ( DEN/Apriliana dan Agus Ginanjar ) ....\n",
      "Reference Summary: Karyawan yang berkantor di sekitar Kedubes AS terpaksa berjalan kaki jika terjadi aksi anti-Amerika . Unjuk rasa diharapkan berlangsung lebih tertib .\n",
      "Predicted Summary: <extra_id_0> Amerika Serikat .\n",
      "BLEU Score: 8.088200202498789e-233\n",
      "\n",
      "Article: Liputan6 . com , Jakarta : Menteri Pendidikan Nasional Yahya Muhaimin meminta unsur dan instansi yang terlibat dalam penerimaan siswa baru tak mempersulit calon siswa . Permintaan Mendiknas tersebut disampaikan seusai melantik tujuh rektor perguruan tinggi negeri di Jakarta , Jumat ( 13/7 ) . Yahya mengakui ada beberapa pelanggaran dalam peneriman calon siswa baru tahun ini . Yahya mencontohkan ada orang tua siswa yang terpaksa menyogok panitia penerima siswa agar anaknya masuk ke sekolah favorit . Selain itu beredar juga katabelece di beberapa sekolah . Karena itu , Yahya berjanji akan menindak penyelewengan . Sementara itu , pelantikan rektor sempat tertunda . Pasalnya , Pembantu Rektor III Universitas Cendrawasih , Jayapura , Irianjaya , Robert Pilipus Lalenoh jatuh pingsan . Akhirnya , Pilipus meninggal dunia di Rumah Sakit Angkatan Laut Mintohardjo Jakarta . ( YYT/Tri Ambarwatie dan Rafael Setyo ) ....\n",
      "Reference Summary: Sejumlah penyelewengan dalam penerimaan calon siswa baru dapat diidentifikasi . Karena itu , dalam waktu dekat Mendiknas Yahya Muhaimin berjanji membentuk sebuah tim untuk menindak pelaku penyelewengan .\n",
      "Predicted Summary: <extra_id_0> .\n",
      "BLEU Score: 3.193202306574118e-234\n",
      "\n",
      "Article: Liputan6 . com , Jakarta : Seorang bapak dan anak ditemukan tewas dengan kondisi mengenaskan di kediamannya di Duri Selatan RT 4 , RW 5 Nomor 2 , Jakarta Barat , Senin ( 21/5 ) sekitar pukul 11 . 00 . Sejauh ini , polisi belum mengetahui penyebab kematian kedua korban . Yang pasti , polisi menemukan pisau bernoda darah dan luka di sekujur tubuh kedua korban . Demikian diungkapkan Kepala Kepolisian Sektor Tambora Ajun Komisaris Polisi Merdisyam , di Jakarta , tadi malam . Menurut Merdisyam , Hendrikus , 41 tahun dan anaknya , Michael , 4 tahun tewas sangat mengenaskan dengan luka di sekujur tubuh . Ia menambahkan sejumlah barang bukti di antaranya pisau bernoda darah ditemukan di tempat kejadian . Menurut Merdisyam , mayat Hendrikus , 41 tahun dan anaknya , Michael 4 tahun pertama kali ditemukan istrinya , Afa . Kala itu , Afa yang baru tiba dari rumah saudaranya melihat pintu rumah depan tak terkunci . Sedangkan pintu pagar rumah dalam keadaan terkunci . Ketika masuk rumahnya , ibu dua anak itu mendapati suami dan anaknya tewas dalam kondisi mengenaskan . Dari keterangan yang dihimpun SCTV menyebutkan , sejumlah warga yang berada di sekitar lokasi tak sedikit pun mendengar kegaduhan di rumah korban . Warga juga mengaku , tak ada tamu yang datang ke rumah korban sejak petang hari . Untuk mengungkap kasus ini , polisi menurunkan anjing pelacak , memeriksa istri korban , dan sejumlah saksi . Namun hingga kini , polisi belum dapat memastikan : apakah kedua korban terbunuh atau bunuh diri ? ( AWD/Christiyanto dan Agus Kusnohadi ) ....\n",
      "Reference Summary: Hendrikus , 41 tahun dan anaknya , Michael , 4 tahun ditemukan tewas mengenaskan di rumahnya , di Duri Selatan RT 4 , RW 5 Nomor 2 , Jakarta Barat . Mayat Hendrikus dan anaknya ditemukan istrinya , Afa .\n",
      "Predicted Summary: <extra_id_0> .\n",
      "BLEU Score: 1.5898018154982647e-235\n",
      "\n",
      "Article: Liputan6 . com , Jakarta : Sekretaris Fraksi Reformasi ( FR ) DPR Alvin Lie Ling Pao mengadukan rekan sefraksinya , Syamsul Balda ke Kepolisian Daerah Metro Jaya , Selasa ( 11/9 ) . Alvin menuduh Syamsul mencemarkan nama baiknya sebagai anggota DPR . Alvin menjelaskan , perkara itu bermula dari pernyataan Syamsul di sejumlah media massa soal posisi sekretaris FR yang dipegangnya . Kala itu , menurut Alvin , Syamsul mengatakan Alvin hanya mencapai posisi terakhir saat pemilihan ketua FR , sehingga tak layak menduduki posisi sekretaris fraksi . Pendapat Syamsul itulah , menurut Alvin , yang membuatnya geram , sehingga ia melaporkan pekara itu ke polisi . Sebaliknya , Syamsul menyayangkan tindakan Wakil Sekretaris Jenderal Partai Amanat Nasional itu . Apalagi , ia mengaku , Alvin tak pernah secara langsung menanyakan soal itu kepadanya . Karena itu , ia berjanji akan membeberkan duduk perkara tuduhan tersebut bila dipanggil polisi . Keinginan Syamsul tampaknya bakal menjadi kenyataan . Sebab , selain akan menyelidiki pengaduan tersebut , polisi juga berniat mengirim surat permohonan pemeriksaan terhadap Syamsul kepada Presiden . ( AWD/Tim Liputan 6 SCTV ) ....\n",
      "Reference Summary: Sekretaris Fraksi Reformasi Alvin Lie mengadukan rekan sefraksinya , Syamsul Balda ke Polisi dengan tuduhan pencemaran nama baik . Syamsul menganggap Alvin berlebihan .\n",
      "Predicted Summary: <extra_id_0> .\n",
      "BLEU Score: 8.680023804553935e-234\n",
      "\n"
     ]
    }
   ],
   "source": [
    "from nltk.translate.bleu_score import sentence_bleu\n",
    "\n",
    "# Evaluate BLEU score\n",
    "def compute_bleu(data):\n",
    "    references = [[word_tokenize(summary)] for summary in data[\"summary\"]]\n",
    "    predictions = []\n",
    "    for article in data[\"document\"]:\n",
    "        inputs = tokenizer(\"summarize: \" + article, return_tensors=\"pt\", max_length=512, truncation=True)\n",
    "        outputs = model.generate(**inputs, max_length=128, num_beams=4, early_stopping=True)\n",
    "        pred_summary = tokenizer.decode(outputs[0], skip_special_tokens=True)\n",
    "        predictions.append(word_tokenize(pred_summary))\n",
    "    return corpus_bleu(references, predictions)\n",
    "\n",
    "average_bleu = compute_bleu(test_data)\n",
    "print(f\"Average BLEU Score: {average_bleu}\")\n",
    "\n",
    "# Predict on test data and print BLEU score for each sample\n",
    "for i in range(10):  # Predict and display summaries for first 10 examples\n",
    "    article = test_data[i][\"document\"]\n",
    "    reference_summary = test_data[i][\"summary\"]\n",
    "\n",
    "    # Generate prediction\n",
    "    inputs = tokenizer(\"summarize: \" + article, return_tensors=\"pt\", max_length=512, truncation=True)\n",
    "    outputs = model.generate(**inputs, max_length=128, num_beams=4, early_stopping=True)\n",
    "    pred_summary = tokenizer.decode(outputs[0], skip_special_tokens=True)\n",
    "\n",
    "    # Tokenize references and prediction\n",
    "    reference_tokens = word_tokenize(reference_summary)\n",
    "    prediction_tokens = word_tokenize(pred_summary)\n",
    "\n",
    "    # Compute BLEU score for the sample\n",
    "    sample_bleu = sentence_bleu([reference_tokens], prediction_tokens)\n",
    "\n",
    "    print(f\"Article: {article}...\")\n",
    "    print(f\"Reference Summary: {reference_summary}\")\n",
    "    print(f\"Predicted Summary: {pred_summary}\")\n",
    "    print(f\"BLEU Score: {sample_bleu}\\n\")\n"
   ]
  }
 ],
 "metadata": {
  "kernelspec": {
   "display_name": "Python 3",
   "language": "python",
   "name": "python3"
  },
  "language_info": {
   "codemirror_mode": {
    "name": "ipython",
    "version": 3
   },
   "file_extension": ".py",
   "mimetype": "text/x-python",
   "name": "python",
   "nbconvert_exporter": "python",
   "pygments_lexer": "ipython3",
   "version": "3.10.8"
  }
 },
 "nbformat": 4,
 "nbformat_minor": 2
}
