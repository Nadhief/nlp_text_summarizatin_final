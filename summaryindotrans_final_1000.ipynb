{
 "cells": [
  {
   "cell_type": "code",
   "execution_count": 1,
   "metadata": {},
   "outputs": [
    {
     "name": "stderr",
     "output_type": "stream",
     "text": [
      "c:\\Users\\ASUS\\AppData\\Local\\Programs\\Python\\Python310\\lib\\site-packages\\tqdm\\auto.py:21: TqdmWarning: IProgress not found. Please update jupyter and ipywidgets. See https://ipywidgets.readthedocs.io/en/stable/user_install.html\n",
      "  from .autonotebook import tqdm as notebook_tqdm\n"
     ]
    }
   ],
   "source": [
    "from datasets import load_dataset\n",
    "from torch.utils.data import DataLoader, Dataset\n",
    "import torch.nn as nn\n",
    "import torch.optim as optim\n",
    "import matplotlib.pyplot as plt\n",
    "from nltk.translate.bleu_score import sentence_bleu\n",
    "import torch\n",
    "from nltk.translate.bleu_score import sentence_bleu\n",
    "import torch"
   ]
  },
  {
   "cell_type": "code",
   "execution_count": 2,
   "metadata": {},
   "outputs": [
    {
     "name": "stderr",
     "output_type": "stream",
     "text": [
      "Using the latest cached version of the module from C:\\Users\\ASUS\\.cache\\huggingface\\modules\\datasets_modules\\datasets\\SEACrowd--liputan6\\92889ba1fdfc1c0166465f7a21ead34100f6188cff9796ac235d589978d0c01c (last modified on Thu Nov  7 10:27:07 2024) since it couldn't be found locally at SEACrowd/liputan6, or remotely on the Hugging Face Hub.\n"
     ]
    }
   ],
   "source": [
    "\n",
    "# ====== 1. Load Dataset ======\n",
    "dataset = load_dataset(\"SEACrowd/liputan6\", trust_remote_code=True)\n",
    "train_data = dataset[\"train\"].shuffle(seed=42).select(range(1000))\n",
    "val_data = dataset[\"validation\"].shuffle(seed=42).select(range(200))\n",
    "test_data = dataset[\"test\"].shuffle(seed=42).select(range(200))\n",
    "\n",
    "# Assuming a tokenizer function (from preprocessing)\n",
    "def custom_tokenizer(text, vocab, max_len=512):\n",
    "    tokens = text.split()[:max_len]  # Truncate to max_len\n",
    "    token_ids = [vocab.get(token, vocab[\"<unk>\"]) for token in tokens]  # Map to vocab IDs\n",
    "    padding = [vocab[\"<pad>\"]] * (max_len - len(token_ids))  # Pad to max_len\n",
    "    return token_ids + padding\n",
    "\n",
    "# Create a custom vocabulary for the tokenizer\n",
    "vocab = {\"<pad>\": 0, \"<unk>\": 1, \"<s>\": 2, \"</s>\": 3}\n",
    "index = len(vocab)\n",
    "for data in train_data[\"document\"]:\n",
    "    for word in data.split():\n",
    "        if word not in vocab:\n",
    "            vocab[word] = index\n",
    "            index += 1\n"
   ]
  },
  {
   "cell_type": "code",
   "execution_count": 3,
   "metadata": {},
   "outputs": [],
   "source": [
    "\n",
    "# ====== 2. Dataset Preparation ======\n",
    "class CustomTokenizerDataset(Dataset):\n",
    "    def __init__(self, articles, summaries, tokenizer, vocab, max_len=512):\n",
    "        self.articles = articles\n",
    "        self.summaries = summaries\n",
    "        self.tokenizer = tokenizer\n",
    "        self.vocab = vocab\n",
    "        self.max_len = max_len\n",
    "\n",
    "    def __len__(self):\n",
    "        return len(self.articles)\n",
    "\n",
    "    def __getitem__(self, idx):\n",
    "        article = self.articles[idx]\n",
    "        summary = self.summaries[idx]\n",
    "\n",
    "        article_ids = self.tokenizer(article, self.vocab, max_len=self.max_len)\n",
    "        summary_ids = self.tokenizer(summary, self.vocab, max_len=self.max_len)\n",
    "\n",
    "        return {\n",
    "            \"input_ids\": torch.tensor(article_ids, dtype=torch.long),\n",
    "            \"target_ids\": torch.tensor(summary_ids, dtype=torch.long),\n",
    "        }\n",
    "\n",
    "train_dataset = CustomTokenizerDataset(\n",
    "    train_data[\"document\"], train_data[\"summary\"], custom_tokenizer, vocab\n",
    ")\n",
    "val_dataset = CustomTokenizerDataset(\n",
    "    val_data[\"document\"], val_data[\"summary\"], custom_tokenizer, vocab\n",
    ")\n",
    "test_dataset = CustomTokenizerDataset(\n",
    "    test_data[\"document\"], test_data[\"summary\"], custom_tokenizer, vocab\n",
    ")\n",
    "\n",
    "train_loader = DataLoader(train_dataset, batch_size=16, shuffle=True)\n",
    "val_loader = DataLoader(val_dataset, batch_size=16)\n",
    "test_loader = DataLoader(test_dataset, batch_size=16)\n"
   ]
  },
  {
   "cell_type": "code",
   "execution_count": 4,
   "metadata": {},
   "outputs": [],
   "source": [
    "\n",
    "# ====== 3. Define Transformer Model ======\n",
    "class Seq2SeqTransformer(nn.Module):\n",
    "    def __init__(self, vocab_size, embed_size, num_heads, ff_dim, num_layers, max_len=512):\n",
    "        super(Seq2SeqTransformer, self).__init__()\n",
    "        self.embedding = nn.Embedding(vocab_size, embed_size)\n",
    "        self.transformer = nn.Transformer(\n",
    "            d_model=embed_size,\n",
    "            nhead=num_heads,\n",
    "            num_encoder_layers=num_layers,\n",
    "            num_decoder_layers=num_layers,\n",
    "            dim_feedforward=ff_dim,\n",
    "        )\n",
    "        self.fc = nn.Linear(embed_size, vocab_size)\n",
    "\n",
    "    def forward(self, src, tgt):\n",
    "        src_embed = self.embedding(src).permute(1, 0, 2)  # (seq_len, batch_size, embed_size)\n",
    "        tgt_embed = self.embedding(tgt).permute(1, 0, 2)\n",
    "        transformer_out = self.transformer(src_embed, tgt_embed)\n",
    "        output = self.fc(transformer_out).permute(1, 0, 2)  # (batch_size, seq_len, vocab_size)\n",
    "        return output\n"
   ]
  },
  {
   "cell_type": "code",
   "execution_count": 5,
   "metadata": {},
   "outputs": [],
   "source": [
    "\n",
    "# ====== 4. Training and Evaluation ======\n",
    "def train_model(model, dataloader, optimizer, criterion, device):\n",
    "    model.train()\n",
    "    total_loss = 0\n",
    "    for batch in dataloader:\n",
    "        input_ids = batch[\"input_ids\"].to(device)\n",
    "        target_ids = batch[\"target_ids\"].to(device)\n",
    "\n",
    "        optimizer.zero_grad()\n",
    "        output = model(input_ids, target_ids[:, :-1])  # Teacher forcing\n",
    "        loss = criterion(output.reshape(-1, output.size(-1)), target_ids[:, 1:].reshape(-1))\n",
    "        loss.backward()\n",
    "        optimizer.step()\n",
    "        total_loss += loss.item()\n",
    "    return total_loss / len(dataloader)\n",
    "\n",
    "\n",
    "\n",
    "\n",
    "def evaluate_model(model, dataloader, criterion, device):\n",
    "    model.eval()\n",
    "    total_loss = 0\n",
    "    with torch.no_grad():\n",
    "        for batch in dataloader:\n",
    "            input_ids = batch[\"input_ids\"].to(device)\n",
    "            target_ids = batch[\"target_ids\"].to(device)\n",
    "\n",
    "            output = model(input_ids, target_ids[:, :-1])\n",
    "            loss = criterion(output.reshape(-1, output.size(-1)), target_ids[:, 1:].reshape(-1))\n",
    "            total_loss += loss.item()\n",
    "    return total_loss / len(dataloader)\n",
    "\n"
   ]
  },
  {
   "cell_type": "code",
   "execution_count": 6,
   "metadata": {},
   "outputs": [],
   "source": [
    "\n",
    "# Plotting training and validation loss\n",
    "def plot_loss(train_losses, val_losses):\n",
    "    plt.figure(figsize=(10, 5))\n",
    "    plt.plot(train_losses, label=\"Train Loss\")\n",
    "    plt.plot(val_losses, label=\"Validation Loss\")\n",
    "    plt.xlabel(\"Epochs\")\n",
    "    plt.ylabel(\"Loss\")\n",
    "    plt.legend()\n",
    "    plt.title(\"Training and Validation Loss\")\n",
    "    plt.show()\n",
    "\n"
   ]
  },
  {
   "cell_type": "code",
   "execution_count": 7,
   "metadata": {},
   "outputs": [],
   "source": [
    "def decode_token_ids(token_ids, vocab):\n",
    "    \"\"\"Decode token IDs back into text using vocab mapping.\"\"\"\n",
    "    id_to_token = {v: k for k, v in vocab.items()}\n",
    "    tokens = [id_to_token[token_id] for token_id in token_ids if token_id != vocab[\"<pad>\"]]\n",
    "    return \" \".join(tokens)\n",
    "\n",
    "def calculate_bleu(model, dataloader, tokenizer, vocab, device):\n",
    "    model.eval()\n",
    "    scores = []\n",
    "    with torch.no_grad():\n",
    "        for batch in dataloader:\n",
    "            input_ids = batch[\"input_ids\"].to(device)\n",
    "            target_ids = batch[\"target_ids\"].to(device)\n",
    "\n",
    "            # Generate predictions\n",
    "            output = model(input_ids, target_ids[:, :-1])\n",
    "            predictions = torch.argmax(output, dim=-1).cpu().numpy()\n",
    "\n",
    "            # Decode predictions and targets to text\n",
    "            for pred, target in zip(predictions, target_ids.cpu().numpy()):\n",
    "                pred_text = decode_token_ids(pred, vocab)\n",
    "                target_text = decode_token_ids(target, vocab)\n",
    "                scores.append(sentence_bleu([target_text.split()], pred_text.split()))\n",
    "\n",
    "    return sum(scores) / len(scores)\n"
   ]
  },
  {
   "cell_type": "code",
   "execution_count": 8,
   "metadata": {},
   "outputs": [
    {
     "name": "stdout",
     "output_type": "stream",
     "text": [
      "Epoch 1: Train Loss = 9.0139, Val Loss = 8.1777\n",
      "Epoch 2: Train Loss = 7.9774, Val Loss = 7.6073\n",
      "Epoch 3: Train Loss = 7.5846, Val Loss = 7.4566\n",
      "Epoch 4: Train Loss = 7.4530, Val Loss = 7.4255\n",
      "Epoch 5: Train Loss = 7.3933, Val Loss = 7.3956\n",
      "Epoch 6: Train Loss = 7.3364, Val Loss = 7.3315\n",
      "Epoch 7: Train Loss = 7.2673, Val Loss = 7.3006\n",
      "Epoch 8: Train Loss = 7.1900, Val Loss = 7.2593\n",
      "Epoch 9: Train Loss = 7.1024, Val Loss = 7.2177\n",
      "Epoch 10: Train Loss = 7.0049, Val Loss = 7.1966\n"
     ]
    },
    {
     "data": {
      "image/png": "[encoded data removed]",
      "text/plain": [
       "<Figure size 1000x500 with 1 Axes>"
      ]
     },
     "metadata": {},
     "output_type": "display_data"
    }
   ],
   "source": [
    "\n",
    "# ====== 5. Main Training Loop ======\n",
    "device = torch.device(\"cuda\" if torch.cuda.is_available() else \"cpu\")\n",
    "vocab_size = len(vocab)\n",
    "embed_size = 256\n",
    "num_heads = 8\n",
    "ff_dim = 512\n",
    "num_layers = 4\n",
    "\n",
    "model = Seq2SeqTransformer(vocab_size, embed_size, num_heads, ff_dim, num_layers).to(device)\n",
    "optimizer = optim.Adam(model.parameters(), lr=1e-4)\n",
    "criterion = nn.CrossEntropyLoss(ignore_index=vocab[\"<pad>\"])\n",
    "\n",
    "train_losses, val_losses = [], []\n",
    "num_epochs = 10\n",
    "for epoch in range(num_epochs):\n",
    "    train_loss = train_model(model, train_loader, optimizer, criterion, device)\n",
    "    val_loss = evaluate_model(model, val_loader, criterion, device)\n",
    "    train_losses.append(train_loss)\n",
    "    val_losses.append(val_loss)\n",
    "    print(f\"Epoch {epoch + 1}: Train Loss = {train_loss:.4f}, Val Loss = {val_loss:.4f}\")\n",
    "\n",
    "plot_loss(train_losses, val_losses)\n"
   ]
  },
  {
   "cell_type": "code",
   "execution_count": 9,
   "metadata": {},
   "outputs": [
    {
     "name": "stderr",
     "output_type": "stream",
     "text": [
      "c:\\Users\\ASUS\\AppData\\Local\\Programs\\Python\\Python310\\lib\\site-packages\\nltk\\translate\\bleu_score.py:577: UserWarning: \n",
      "The hypothesis contains 0 counts of 3-gram overlaps.\n",
      "Therefore the BLEU score evaluates to 0, independently of\n",
      "how many N-gram overlaps of lower order it contains.\n",
      "Consider using lower n-gram order or use SmoothingFunction()\n",
      "  warnings.warn(_msg)\n",
      "c:\\Users\\ASUS\\AppData\\Local\\Programs\\Python\\Python310\\lib\\site-packages\\nltk\\translate\\bleu_score.py:577: UserWarning: \n",
      "The hypothesis contains 0 counts of 4-gram overlaps.\n",
      "Therefore the BLEU score evaluates to 0, independently of\n",
      "how many N-gram overlaps of lower order it contains.\n",
      "Consider using lower n-gram order or use SmoothingFunction()\n",
      "  warnings.warn(_msg)\n",
      "c:\\Users\\ASUS\\AppData\\Local\\Programs\\Python\\Python310\\lib\\site-packages\\nltk\\translate\\bleu_score.py:577: UserWarning: \n",
      "The hypothesis contains 0 counts of 2-gram overlaps.\n",
      "Therefore the BLEU score evaluates to 0, independently of\n",
      "how many N-gram overlaps of lower order it contains.\n",
      "Consider using lower n-gram order or use SmoothingFunction()\n",
      "  warnings.warn(_msg)\n"
     ]
    },
    {
     "name": "stdout",
     "output_type": "stream",
     "text": [
      "BLEU Score: 2.5825751723324873e-80\n"
     ]
    }
   ],
   "source": [
    "bleu_score = calculate_bleu(model, test_loader, custom_tokenizer, vocab, device)\n",
    "print(f\"BLEU Score: {bleu_score}\")\n"
   ]
  },
  {
   "cell_type": "code",
   "execution_count": 10,
   "metadata": {},
   "outputs": [],
   "source": [
    "def generate_summary(model, input_text, tokenizer, vocab, device, max_len=50):\n",
    "    \"\"\"\n",
    "    Generate a summary for a given input text using the model.\n",
    "    \"\"\"\n",
    "    model.eval()\n",
    "    with torch.no_grad():\n",
    "        # Tokenize the input text\n",
    "        input_ids = torch.tensor(\n",
    "            [tokenizer(input_text, vocab, max_len=max_len)], dtype=torch.long\n",
    "        ).to(device)\n",
    "\n",
    "        # Start token for generation\n",
    "        start_token = vocab[\"<s>\"]\n",
    "        end_token = vocab[\"</s>\"]\n",
    "\n",
    "        # Initialize the target sequence with the start token\n",
    "        target_ids = torch.tensor([[start_token]], dtype=torch.long).to(device)\n",
    "\n",
    "        for _ in range(max_len):\n",
    "            # Generate output probabilities\n",
    "            output = model(input_ids, target_ids)\n",
    "            next_token = torch.argmax(output[:, -1, :], dim=-1)\n",
    "\n",
    "            # Append the next token to the target sequence\n",
    "            target_ids = torch.cat([target_ids, next_token.unsqueeze(0)], dim=1)\n",
    "\n",
    "            # Stop if end token is generated\n",
    "            if next_token.item() == end_token:\n",
    "                break\n",
    "\n",
    "        # Decode the generated token IDs into text\n",
    "        generated_summary = decode_token_ids(target_ids.squeeze().tolist(), vocab)\n",
    "        return generated_summary\n",
    "\n",
    "# Generate summaries for test data\n",
    "def predict_summaries_original(model, dataset, tokenizer, vocab, device, num_samples=10, max_len=50):\n",
    "    \"\"\"\n",
    "    Generate and display predicted summaries using original text input.\n",
    "    \"\"\"\n",
    "    model.eval()\n",
    "    predictions = []\n",
    "    with torch.no_grad():\n",
    "        for i in range(num_samples):\n",
    "            # Load original text input and target\n",
    "            input_text = dataset[i][\"document\"]\n",
    "            target_text = dataset[i][\"summary\"]\n",
    "\n",
    "            # Tokenize the original input text\n",
    "            input_ids = torch.tensor(\n",
    "                [tokenizer(input_text, vocab, max_len=max_len)], dtype=torch.long\n",
    "            ).to(device)\n",
    "\n",
    "            # Generate summary\n",
    "            predicted_summary = generate_summary(\n",
    "                model, input_text, tokenizer, vocab, device, max_len=max_len\n",
    "            )\n",
    "\n",
    "            predictions.append({\n",
    "                \"input\": input_text,\n",
    "                \"target\": target_text,\n",
    "                \"predicted\": predicted_summary\n",
    "            })\n",
    "\n",
    "    return predictions\n"
   ]
  },
  {
   "cell_type": "code",
   "execution_count": 11,
   "metadata": {},
   "outputs": [
    {
     "name": "stderr",
     "output_type": "stream",
     "text": [
      "Using the latest cached version of the module from C:\\Users\\ASUS\\.cache\\huggingface\\modules\\datasets_modules\\datasets\\SEACrowd--liputan6\\92889ba1fdfc1c0166465f7a21ead34100f6188cff9796ac235d589978d0c01c (last modified on Thu Nov  7 10:27:07 2024) since it couldn't be found locally at SEACrowd/liputan6, or remotely on the Hugging Face Hub.\n"
     ]
    },
    {
     "name": "stdout",
     "output_type": "stream",
     "text": [
      "Sample 1\n",
      "Input: Liputan6 . com , Bangka : Kapal patroli Angkatan Laut Republik Indonesia , Belinyu , baru-baru ini , menangkap tiga kapal nelayan berbendera Thailand , yakni KM Binatama , KM Sumber Jaya II , dan KM Mataram di Perairan Belitung Utara . Ketiga kapal itu ditangkap karena melanggar zona ekonomi ekslusif Indonesia . Saat ini , kapal-kapal itu diamankan di Pos Lanal Pelabuhan Pangkalan Balam , Bangka-Belitung . Menurut Komandan Pangkalan TNI AL Bangka Letnan Kolonel Laut Fredy Egam , selain menangkap tiga kapal , ALRI juga memeriksa 43 anak buah kapal . Mereka disergap saat sedang mengangkat jaring pukat harimau di Perairan Belitung Utara . Dari jumlah itu , hanya enam orang yang dijadikan tersangka , yakni tiga nahkoda dan tiga kepala kamar mesin kapal . Sedangkan ABK yang lain akan dideportasi ke negara asalnya . Meski berhasil menahan enam tersangka , TNI AL gagal mengamankan ikan tangkapan nelayan Thailand tersebut . Sebab , sebelum patroli datang , mereka telah memindahkan puluhan ton ikan hasil jaringan ke kapal induk . ( ULF/Ajmal Rokian dan Yanuar Ichrom ) .\n",
      "Target: Meski memiliki izin resmi , TNI AL tetap menangkap tiga kapan nelayan berbendera Thailand . Pasalnya , ketiga kapal itu melanggar zona ekonomi ekslusif dan menjaring ikan dengan pukat harimau .\n",
      "Predicted: <s> . . . . . . . . . . . . . . . . . . . . . . . . . . . . . . . . . . . . . . . . . . . . . . . . . .\n",
      "--------------------------------------------------\n",
      "Sample 2\n",
      "Input: Liputan6 . com , Bandar Lampung : Sebanyak 51 anak di bawah umur lima tahun terserang busung lapar atau marasmus karena kekurangan gizi di Kota Madya Bandar Lampung . Lima di antaranya tewas . Data tersebut diungkapkan Kepala Dinas Kesehatan Kota Bandar Lampung M . Sudarman , baru-baru ini . Menurut Sudarman , Dinas Kesehatan Bandar Lampung mencatat sekitar 51 anak terserang busung lapar yang tersebar di beberapa kecamatan , selama periode 1999 sampai 2001 . Kebanyakan anak penderita busung tersebut berasal dari keluarga yang hidup di bawah garis kemiskinan . Selain kekurangan gizi , komplikasi radang paru-paru juga menjadi satu faktor penyebab kematian anak penderita busung lapar tersebut . Data Dinas Kesehatan menunjukkan pada 1999 , ditemukan 41 anak terserang penyakit busung lapar . Sebagian besar penderita berdomisili di kampung miskin Umbul Kunci . Jumlah penderita busung lapar menurun pada 2000 , yakni hanya sembilan anak . Sedangkan September 2001 , seorang anak meninggal karena marasmus . Sudarman menegaskan , untuk menekan jumlah korban marasmus , anak-anak dan balita diberi makanan tambahan ke sentra-sentra rawan busung lapar seperti di Desa Umbul Unci . Tetapi , berdasarkan keterangan masyarakat Umbul Kunci , program makanan tambahan ini hanya berjalan setahun yakni pada 1999 . Warga setempat mengaku tak pernah lagi menerima makanan tambahan bagi anak-anak kurang gizi sejak dua tahun terakhir . ( TNA/Bisri Merduani ) .\n",
      "Target: Sebanyak 51 anak di bawah usia lima tahun di Kota Madya Bandar Lampung , menderita busung lapar karena kekurangan gizi . Lima di antaranya meninggal dunia .\n",
      "Predicted: <s> . . . . . . . . . . . . . . . . . . . . . . . . . . . . . . . . . . . . . . . . . . . . . . . . . .\n",
      "--------------------------------------------------\n",
      "Sample 3\n",
      "Input: Liputan6 . com , Jakarta : Polemik seputar pelaksanaan Sidang Istimewa MPR , 1 Agustus mendatang , terus bergulir . Setelah sekian kali , Presiden Abdurrahman Wahid kembali mengeluarkan ancaman akan memberlakukan status keadaan bahaya dan darurat sipil . Langkah itu bakal dilakukan jika SI MPR tetap meminta pertanggungjawaban dirinya . Penegasan tersebut diungkapkan Presiden Wahid dalam dialog usai salat Jumat di Mesjid Al Munawarah , Ciganjur , Jakarta Selatan , Jumat ( 06/7 ) . Bagi Gus Dur , pada dasarnya dia tidak mempermasalahkan pelaksanaan SI MPR . Asalkan , agenda yang dibahas tidak menyangkut pertanggungjawaban dan kinerja pemerintahannya . \" Sebab , masih ada agenda lain yang bisa dibahas , demi kemajuan negara ini , \" kata Gus Dur , serius . Pernyataan Gus Dur kontan ditanggap Wakil Rakyat . Menurut anggota Fraksi Partai Bulan Bintang DPR Hamdan Zoelva , pemberlakuan keadaan darurat sipil justru akan mempermudah aparat keamanan untuk mengantisipasi . Jadi , siapa pun yang berniat mengganggu jalannya SI MPR , bisa diantisipasi sejak awal . Meski begitu , bagi Hamdan , saat ditemui usai dialog soal voting dan money politics Jumat siang tadi , keadaan darurat sipil tadi tak boleh salah arah . Misalnya , bila diberlakukan untuk melarang anggota dewan bersidang . \" Itu menorehkan sejarah hitam sistem ketatanegaraan kita , \" kata Hamdan . Hamdan juga menambahkan , bila darurat sipil hanya semata-mata untuk menghambat jalannya SI MPR , nilai tambah buat Gus Dur . Bahkan , tidak menutup kemungkinan malah memicu kebulatan tekad keputusan sidang Wakil Rakyat untuk menolak pertanggungjawaban Presiden Wahid . ( BMI/Tim Liputan 6 SCTV ) .\n",
      "Target: Presiden Abdurrahman Wahid kembali mengeluarkan ancaman akan memberlakukan status keadaan darurat sipil . Terutama , jika Sidang Istimewa MPR 1 Agustus mendatang tetap meminta pertanggungjawaban dirinya .\n",
      "Predicted: <s> . . . . . . . . . . . . . . . . . . . . . . . . . . . . . . . . . . . . . . . . . . . . . . . . . .\n",
      "--------------------------------------------------\n",
      "Sample 4\n",
      "Input: Liputan6 . com , Ambon : Bahan bakar minyak jenis solar dan premium , selama sepekan terakhir , mulai langka di Kota Ambon . Akibatnya , sebagian besar kendaraan umum di Ambon memilih berhenti beroperasi karena sulit mendapatkan bahan bakar . Selain itu , kelangkaan tersebut juga memicu kenaikan harga premium di tingkat pengecer : mencapai Rp 2 ribu per liter . Padahal , biasanya harga premium hanya Rp 1 . 700 per liter . Demikian hasil pantauan SCTV di Ambon , baru-baru ini . Beberapa pedagang minyak eceran mengaku , kelangkaan terjadi karena pasokan dari Depot Pertamina Wayame berkurang . Selain itu , mereka juga menduga kelangkaan terjadi lantaran adanya ulah oknum yang menyuplai minyak ke sejumlah kapal di Pelabuhan Maluku . Menanggapi itu , Kapala Cabang Pertamina Unit Pemasaran dan Perbekalan Dalam Negeri VIII Ambon Subaedi memastikan , kelangkaan terjadi karena adanya kebijakan Pertamina Pusat yang mengurangi jatah pasokan . Subaedi memperkirakan , kelangkaan BBM di Ambon akan terus berlangsung hingga bulan depan . Tapi , ia menolak jika kelangkaan terjadi akibat adanya kerja sama kotor antara Pertamina dan para spekulan . ( ICH/Sahlan Heluth ) .\n",
      "Target: Sepekan terakhir , bahan bakar minyak jenis solar dan premium di Kota Ambon , mulai langka . Kelangkaan terjadi karena pasokan BBM dari Depot Pertamina Wayame berkurang .\n",
      "Predicted: <s> . . . . . . . . . . . . . . . . . . . . . . . . . . . . . . . . . . . . . . . . . . . . . . . . . .\n",
      "--------------------------------------------------\n",
      "Sample 5\n",
      "Input: Liputan6 . com , Jakarta : Seluruh perubahan pasal Undang-Undang Nomor 23 tahun 1999 tentang Bank Indonesia telah disetujui oleh pemerintah dan DPR . Namun masih ada satu polemik soal pasal 75 . Inti pasal itu adalah soal memberhentikan seluruh anggota Dewan Gubernur BI , setelah UU Amendemen BI berlaku efektif . Bagi BI sendiri , posisinya harus tetap independen . Pernyataan itu ditegaskan Gubernur BI Sjahril Sabirin , baru-baru ini , di Jakarta . Menurut Sjahril , persoalan amendemen sudah menjadi kewenangan pemerintah dan DPR . Sebab kedua lembaga tersebut telah mendapat masukan dari tim panel Dana Moneter Internasional ( IMF ) . \" IMF sudah menganjurkan pembentukan tim panel , \" kata Sjahril . Lantas , tambah dia , tim panel itu juga sudah mengeluarkan hasil keputusan . \" Sekarang , tergantung pemerintah dan DPR untuk menerapkannya , \" kata Sjahril , serius . Pembahasan pasal 75 sendiri masih berlangsung di Panitia Kerja DPR . Panja ini mengusulkan pilihan supaya pemerintah mempercepat pembentukan Dewan Supervisi BI . Lantas , panja juga menawarkan kepada pemerintah untuk membuat laporan mengenai penyimpangan di tubuh BI . Berdasarkan laporan ini , DPR mesti menggelar paripurna untuk menentukan perlu tidaknya mengganti Gubernur BI . ( COK/Olivia Rosalia dan Bambang Triono ) .\n",
      "Target: Bank Indonesia menyerahkan sepenuhnya amendemen UU BI tentang pergantian dewan gubernur kepada pemerintah dan DPR . Diperkirakan , polemik soal pasal 75 sulit untuk bisa mencapai kata sepakat .\n",
      "Predicted: <s> . . . . . . . . . . . . . . . . . . . . . . . . . . . . . . . . . . . . . . . . . . . . . . . . . .\n",
      "--------------------------------------------------\n"
     ]
    }
   ],
   "source": [
    "from datasets import load_dataset\n",
    "\n",
    "# Load the Liputan6 dataset\n",
    "dataset = load_dataset(\"SEACrowd/liputan6\", trust_remote_code=True)\n",
    "\n",
    "# Select the test set\n",
    "test_data = dataset[\"test\"]\n",
    "\n",
    "# Generate predictions\n",
    "predictions = predict_summaries_original(model, test_data, custom_tokenizer, vocab, device, num_samples=5)\n",
    "\n",
    "# Display predictions\n",
    "for i, pred in enumerate(predictions):\n",
    "    print(f\"Sample {i + 1}\")\n",
    "    print(f\"Input: {pred['input']}\")\n",
    "    print(f\"Target: {pred['target']}\")\n",
    "    print(f\"Predicted: {pred['predicted']}\")\n",
    "    print(\"-\" * 50)\n"
   ]
  },
  {
   "cell_type": "code",
   "execution_count": 12,
   "metadata": {},
   "outputs": [
    {
     "name": "stdout",
     "output_type": "stream",
     "text": [
      "Original Text:\n",
      "Liputan6 . com , Bangka : Kapal patroli Angkatan Laut Republik Indonesia , Belinyu , baru-baru ini , menangkap tiga kapal nelayan berbendera Thailand , yakni KM Binatama , KM Sumber Jaya II , dan KM Mataram di Perairan Belitung Utara . Ketiga kapal itu ditangkap karena melanggar zona ekonomi ekslusif Indonesia . Saat ini , kapal-kapal itu diamankan di Pos Lanal Pelabuhan Pangkalan Balam , Bangka-Belitung . Menurut Komandan Pangkalan TNI AL Bangka Letnan Kolonel Laut Fredy Egam , selain menangkap tiga kapal , ALRI juga memeriksa 43 anak buah kapal . Mereka disergap saat sedang mengangkat jaring pukat harimau di Perairan Belitung Utara . Dari jumlah itu , hanya enam orang yang dijadikan tersangka , yakni tiga nahkoda dan tiga kepala kamar mesin kapal . Sedangkan ABK yang lain akan dideportasi ke negara asalnya . Meski berhasil menahan enam tersangka , TNI AL gagal mengamankan ikan tangkapan nelayan Thailand tersebut . Sebab , sebelum patroli datang , mereka telah memindahkan puluhan ton ikan hasil jaringan ke kapal induk . ( ULF/Ajmal Rokian dan Yanuar Ichrom ) .\n",
      "\n",
      "Tokenized IDs:\n",
      "[4, 5, 6, 7, 9645, 9, 6398, 8901, 4128, 3112, 2955, 380, 7, 1, 7, 800, 30, 7, 1120, 1378, 568, 1096, 20463, 8233, 7, 64, 6423, 1, 7, 6423, 2756, 923, 1743, 7, 58, 6423, 12958, 117, 7577, 9646, 1172, 5, 4836, 568, 193, 4602, 182, 4301, 6238, 1678]\n",
      "\n",
      "Tokenized Tokens:\n",
      "['Liputan6', '.', 'com', ',', 'Bangka', ':', 'Kapal', 'patroli', 'Angkatan', 'Laut', 'Republik', 'Indonesia', ',', '<unk>', ',', 'baru-baru', 'ini', ',', 'menangkap', 'tiga', 'kapal', 'nelayan', 'berbendera', 'Thailand', ',', 'yakni', 'KM', '<unk>', ',', 'KM', 'Sumber', 'Jaya', 'II', ',', 'dan', 'KM', 'Mataram', 'di', 'Perairan', 'Belitung', 'Utara', '.', 'Ketiga', 'kapal', 'itu', 'ditangkap', 'karena', 'melanggar', 'zona', 'ekonomi']\n",
      "\n",
      "Padded Sequence:\n",
      "[4, 5, 6, 7, 9645, 9, 6398, 8901, 4128, 3112, 2955, 380, 7, 1, 7, 800, 30, 7, 1120, 1378, 568, 1096, 20463, 8233, 7, 64, 6423, 1, 7, 6423, 2756, 923, 1743, 7, 58, 6423, 12958, 117, 7577, 9646, 1172, 5, 4836, 568, 193, 4602, 182, 4301, 6238, 1678]\n"
     ]
    }
   ],
   "source": [
    "def inspect_tokenization(tokenizer, vocab, text, max_len=50):\n",
    "    \"\"\"\n",
    "    Inspect the tokenization, sequence, and padding for a given text.\n",
    "    \"\"\"\n",
    "    print(\"Original Text:\")\n",
    "    print(text)\n",
    "    print(\"\\nTokenized IDs:\")\n",
    "    token_ids = tokenizer(text, vocab, max_len=max_len)\n",
    "    print(token_ids)\n",
    "\n",
    "    print(\"\\nTokenized Tokens:\")\n",
    "    id_to_token = {v: k for k, v in vocab.items()}\n",
    "    tokens = [id_to_token.get(token_id, \"<UNK>\") for token_id in token_ids]\n",
    "    print(tokens)\n",
    "\n",
    "    print(\"\\nPadded Sequence:\")\n",
    "    print(token_ids)\n",
    "\n",
    "# Example usage with one sample from the dataset\n",
    "sample = test_data[0]  # Replace with your dataset object\n",
    "input_text = sample[\"document\"]\n",
    "\n",
    "inspect_tokenization(custom_tokenizer, vocab, input_text, max_len=50)\n"
   ]
  }
 ],
 "metadata": {
  "kernelspec": {
   "display_name": "Python 3",
   "language": "python",
   "name": "python3"
  },
  "language_info": {
   "codemirror_mode": {
    "name": "ipython",
    "version": 3
   },
   "file_extension": ".py",
   "mimetype": "text/x-python",
   "name": "python",
   "nbconvert_exporter": "python",
   "pygments_lexer": "ipython3",
   "version": "3.10.8"
  }
 },
 "nbformat": 4,
 "nbformat_minor": 2
}
